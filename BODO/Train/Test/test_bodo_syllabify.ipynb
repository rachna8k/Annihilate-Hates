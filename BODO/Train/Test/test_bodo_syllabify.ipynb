{
  "nbformat": 4,
  "nbformat_minor": 0,
  "metadata": {
    "colab": {
      "provenance": []
    },
    "kernelspec": {
      "name": "python3",
      "display_name": "Python 3"
    },
    "language_info": {
      "name": "python"
    }
  },
  "cells": [
    {
      "cell_type": "code",
      "execution_count": null,
      "metadata": {
        "colab": {
          "base_uri": "https://localhost:8080/"
        },
        "id": "XLBRbqS-POu7",
        "outputId": "4221f2fa-a702-4938-b5f8-c0d1897f54c9"
      },
      "outputs": [
        {
          "output_type": "stream",
          "name": "stdout",
          "text": [
            "Mounted at /content/drive\n"
          ]
        }
      ],
      "source": [
        "from google.colab import drive\n",
        "drive.mount('/content/drive')"
      ]
    },
    {
      "cell_type": "code",
      "source": [
        "import pandas as pd"
      ],
      "metadata": {
        "id": "gReOs9LiPRjx"
      },
      "execution_count": null,
      "outputs": []
    },
    {
      "cell_type": "code",
      "source": [
        "!pip install emot --upgrade\n",
        "!pip install emoji\n",
        "!pip install demoji\n",
        "!pip install contractions"
      ],
      "metadata": {
        "colab": {
          "base_uri": "https://localhost:8080/"
        },
        "id": "I-wX5K4gQFGe",
        "outputId": "fcf531e0-92ea-4a60-f9d6-d3a0cf3d36ad"
      },
      "execution_count": null,
      "outputs": [
        {
          "output_type": "stream",
          "name": "stdout",
          "text": [
            "Collecting emot\n",
            "  Downloading emot-3.1-py3-none-any.whl (61 kB)\n",
            "\u001b[?25l     \u001b[90m━━━━━━━━━━━━━━━━━━━━━━━━━━━━━━━━━━━━━━━━\u001b[0m \u001b[32m0.0/61.5 kB\u001b[0m \u001b[31m?\u001b[0m eta \u001b[36m-:--:--\u001b[0m\r\u001b[2K     \u001b[90m━━━━━━━━━━━━━━━━━━━━━━━━━━━━━━━━━━━━━━━━\u001b[0m \u001b[32m61.5/61.5 kB\u001b[0m \u001b[31m2.5 MB/s\u001b[0m eta \u001b[36m0:00:00\u001b[0m\n",
            "\u001b[?25hInstalling collected packages: emot\n",
            "Successfully installed emot-3.1\n",
            "Collecting emoji\n",
            "  Downloading emoji-2.7.0.tar.gz (361 kB)\n",
            "\u001b[2K     \u001b[90m━━━━━━━━━━━━━━━━━━━━━━━━━━━━━━━━━━━━━━\u001b[0m \u001b[32m361.8/361.8 kB\u001b[0m \u001b[31m10.6 MB/s\u001b[0m eta \u001b[36m0:00:00\u001b[0m\n",
            "\u001b[?25h  Installing build dependencies ... \u001b[?25l\u001b[?25hdone\n",
            "  Getting requirements to build wheel ... \u001b[?25l\u001b[?25hdone\n",
            "  Preparing metadata (pyproject.toml) ... \u001b[?25l\u001b[?25hdone\n",
            "Building wheels for collected packages: emoji\n",
            "  Building wheel for emoji (pyproject.toml) ... \u001b[?25l\u001b[?25hdone\n",
            "  Created wheel for emoji: filename=emoji-2.7.0-py2.py3-none-any.whl size=356563 sha256=b6968d2f2919cc4607f44e76b67732430f3833e5d94fb91ebf44b5122751d96b\n",
            "  Stored in directory: /root/.cache/pip/wheels/41/11/48/5df0b9727d5669c9174a141134f10304d1d78a3b89a4676f3d\n",
            "Successfully built emoji\n",
            "Installing collected packages: emoji\n",
            "Successfully installed emoji-2.7.0\n",
            "Collecting demoji\n",
            "  Downloading demoji-1.1.0-py3-none-any.whl (42 kB)\n",
            "\u001b[2K     \u001b[90m━━━━━━━━━━━━━━━━━━━━━━━━━━━━━━━━━━━━━━━━\u001b[0m \u001b[32m42.9/42.9 kB\u001b[0m \u001b[31m2.3 MB/s\u001b[0m eta \u001b[36m0:00:00\u001b[0m\n",
            "\u001b[?25hInstalling collected packages: demoji\n",
            "Successfully installed demoji-1.1.0\n",
            "Collecting contractions\n",
            "  Downloading contractions-0.1.73-py2.py3-none-any.whl (8.7 kB)\n",
            "Collecting textsearch>=0.0.21 (from contractions)\n",
            "  Downloading textsearch-0.0.24-py2.py3-none-any.whl (7.6 kB)\n",
            "Collecting anyascii (from textsearch>=0.0.21->contractions)\n",
            "  Downloading anyascii-0.3.2-py3-none-any.whl (289 kB)\n",
            "\u001b[2K     \u001b[90m━━━━━━━━━━━━━━━━━━━━━━━━━━━━━━━━━━━━━━━\u001b[0m \u001b[32m289.9/289.9 kB\u001b[0m \u001b[31m9.5 MB/s\u001b[0m eta \u001b[36m0:00:00\u001b[0m\n",
            "\u001b[?25hCollecting pyahocorasick (from textsearch>=0.0.21->contractions)\n",
            "  Downloading pyahocorasick-2.0.0-cp310-cp310-manylinux_2_5_x86_64.manylinux1_x86_64.manylinux_2_12_x86_64.manylinux2010_x86_64.whl (110 kB)\n",
            "\u001b[2K     \u001b[90m━━━━━━━━━━━━━━━━━━━━━━━━━━━━━━━━━━━━━━\u001b[0m \u001b[32m110.8/110.8 kB\u001b[0m \u001b[31m15.5 MB/s\u001b[0m eta \u001b[36m0:00:00\u001b[0m\n",
            "\u001b[?25hInstalling collected packages: pyahocorasick, anyascii, textsearch, contractions\n",
            "Successfully installed anyascii-0.3.2 contractions-0.1.73 pyahocorasick-2.0.0 textsearch-0.0.24\n"
          ]
        }
      ]
    },
    {
      "cell_type": "code",
      "source": [
        "from sklearn.model_selection import train_test_split\n",
        "from sklearn.feature_extraction.text import TfidfVectorizer\n",
        "from sklearn.metrics import accuracy_score, confusion_matrix, classification_report, f1_score\n",
        "from sklearn.naive_bayes import MultinomialNB\n",
        "from textblob import TextBlob\n",
        "import emot\n",
        "import nltk.data\n",
        "import numpy as np\n",
        "import pandas as pd\n",
        "import re\n",
        "import time\n",
        "import string\n",
        "import emoji\n",
        "import demoji\n",
        "import contractions\n",
        "import nltk\n",
        "nltk.download('omw-1.4')\n",
        "from sklearn.model_selection import train_test_split\n",
        "from sklearn.feature_extraction.text import TfidfVectorizer\n",
        "pd.set_option(\"max_colwidth\" ,220)\n",
        "wn = nltk.WordNetLemmatizer()\n",
        "nltk.download('wordnet')\n",
        "nltk.download('stopwords')\n",
        "stopwords = nltk.corpus.stopwords.words('english')"
      ],
      "metadata": {
        "colab": {
          "base_uri": "https://localhost:8080/"
        },
        "id": "pYMM9w8mQFDz",
        "outputId": "cc239670-1897-4458-eb7a-011e1bd9b2de"
      },
      "execution_count": null,
      "outputs": [
        {
          "output_type": "stream",
          "name": "stderr",
          "text": [
            "[nltk_data] Downloading package omw-1.4 to /root/nltk_data...\n",
            "[nltk_data] Downloading package wordnet to /root/nltk_data...\n",
            "[nltk_data] Downloading package stopwords to /root/nltk_data...\n",
            "[nltk_data]   Unzipping corpora/stopwords.zip.\n"
          ]
        }
      ]
    },
    {
      "cell_type": "code",
      "source": [
        "demoji.download_codes()\n",
        "def emo(text):\n",
        "  temp=emoji.demojize(text,delimiters=(\" \",\" \"))\n",
        "  temp=temp.replace(\"_\",\"  \")\n",
        "  return temp"
      ],
      "metadata": {
        "colab": {
          "base_uri": "https://localhost:8080/"
        },
        "id": "mkE1qb-eQE7g",
        "outputId": "343f4fca-80b9-4226-f60f-459196a016b7"
      },
      "execution_count": null,
      "outputs": [
        {
          "output_type": "stream",
          "name": "stderr",
          "text": [
            "<ipython-input-6-e00aa54160fe>:1: FutureWarning: The demoji.download_codes attribute is deprecated and will be removed from demoji in a future version. It is an unused attribute as emoji codes are now distributed directly with the demoji package.\n",
            "  demoji.download_codes()\n"
          ]
        }
      ]
    },
    {
      "cell_type": "code",
      "source": [
        "demoji.download_codes()\n",
        "def emo(text):\n",
        "  try:\n",
        "   temp=emoji.demojize(str(text),delimiters=(\" \",\" \"))\n",
        "   temp=temp.replace(\"_\",\"  \")\n",
        "   return temp\n",
        "  except IndexError:\n",
        "        return \"\""
      ],
      "metadata": {
        "colab": {
          "base_uri": "https://localhost:8080/"
        },
        "id": "3HfDn2yiQE49",
        "outputId": "09e8f115-a685-4cb8-dee6-896024705281"
      },
      "execution_count": null,
      "outputs": [
        {
          "output_type": "stream",
          "name": "stderr",
          "text": [
            "<ipython-input-7-82a5fb4117d1>:1: FutureWarning: The demoji.download_codes attribute is deprecated and will be removed from demoji in a future version. It is an unused attribute as emoji codes are now distributed directly with the demoji package.\n",
            "  demoji.download_codes()\n"
          ]
        }
      ]
    },
    {
      "cell_type": "code",
      "source": [
        "punct=\"!#$%&\\'()*+,-.’’/:;<=>?@[\\\\]^_`{|}~’“‘\""
      ],
      "metadata": {
        "id": "mDQRj7FJQE2Y"
      },
      "execution_count": null,
      "outputs": []
    },
    {
      "cell_type": "code",
      "source": [
        "string.punctuation"
      ],
      "metadata": {
        "colab": {
          "base_uri": "https://localhost:8080/",
          "height": 36
        },
        "id": "lFo7LxTpQEzn",
        "outputId": "2e69d4f1-f962-4646-e294-fd646959e603"
      },
      "execution_count": null,
      "outputs": [
        {
          "output_type": "execute_result",
          "data": {
            "text/plain": [
              "'!\"#$%&\\'()*+,-./:;<=>?@[\\\\]^_`{|}~'"
            ],
            "application/vnd.google.colaboratory.intrinsic+json": {
              "type": "string"
            }
          },
          "metadata": {},
          "execution_count": 9
        }
      ]
    },
    {
      "cell_type": "code",
      "source": [
        "def remove_urls(text):\n",
        "    url_pattern = re.compile(r'https?://\\S+|www\\.\\S+')\n",
        "    return url_pattern.sub(r'', str(text))"
      ],
      "metadata": {
        "id": "VE-DZb9NQEw_"
      },
      "execution_count": null,
      "outputs": []
    },
    {
      "cell_type": "code",
      "source": [
        "def clean_text(text):\n",
        "    text = re.sub('@[a-zA-Z0-9]*', '', str(text))#to remove @ and its following word\n",
        "    text = contractions.fix(text, slang=True)\n",
        "    text = \"\".join([word.lower() for word in text if word not in string.punctuation]) #to remove punctuation\n",
        "    text=\"\".join([word.lower() for word in text if word not in punct])\n",
        "    text = \"\".join([word for word in text if not word.isdigit()])#to remove digit\n",
        "    text = \" \".join(word for word in text.split() if word not in stopwords)\n",
        "    return text"
      ],
      "metadata": {
        "id": "MeoJ6ncGQEuN"
      },
      "execution_count": null,
      "outputs": []
    },
    {
      "cell_type": "code",
      "source": [
        "bodo_train=pd.read_csv('/content/drive/MyDrive/hasoc/task4/bodo/train_BO_AH_HASOC2023.csv')\n",
        "bodo_test=pd.read_csv('/content/drive/MyDrive/hasoc/task4/bodo/test_BO_AH_HASOC2023.csv')"
      ],
      "metadata": {
        "id": "sNqvSGctQErg"
      },
      "execution_count": null,
      "outputs": []
    },
    {
      "cell_type": "code",
      "source": [
        "len(bodo_train)"
      ],
      "metadata": {
        "colab": {
          "base_uri": "https://localhost:8080/"
        },
        "id": "v0pVhoNpQEod",
        "outputId": "282db7f0-7064-4334-e0ad-9cda2c659f99"
      },
      "execution_count": null,
      "outputs": [
        {
          "output_type": "execute_result",
          "data": {
            "text/plain": [
              "1679"
            ]
          },
          "metadata": {},
          "execution_count": 13
        }
      ]
    },
    {
      "cell_type": "code",
      "source": [
        "bodo_train['task_1'].value_counts()"
      ],
      "metadata": {
        "colab": {
          "base_uri": "https://localhost:8080/"
        },
        "id": "HjhdsK6VQEeF",
        "outputId": "18eddd5c-ea89-46bb-b2c2-d7dbbe59e066"
      },
      "execution_count": null,
      "outputs": [
        {
          "output_type": "execute_result",
          "data": {
            "text/plain": [
              "HOF    998\n",
              "NOT    681\n",
              "Name: task_1, dtype: int64"
            ]
          },
          "metadata": {},
          "execution_count": 15
        }
      ]
    },
    {
      "cell_type": "code",
      "source": [
        "bodo_train['clean_text'] = bodo_train['text'].apply(lambda x:emo(x))\n",
        "bodo_train['clean_text'] = bodo_train['clean_text'].apply(lambda x:remove_urls(x))\n",
        "bodo_train['clean_text'] = bodo_train['clean_text'].apply(lambda x:clean_text(x))"
      ],
      "metadata": {
        "id": "Kc8jQXIQQEau"
      },
      "execution_count": null,
      "outputs": []
    },
    {
      "cell_type": "code",
      "source": [
        "bodo_train['clean_text']"
      ],
      "metadata": {
        "colab": {
          "base_uri": "https://localhost:8080/"
        },
        "id": "-ix0uwBwQkuY",
        "outputId": "a693c004-209e-45ed-a7f6-70bfd2178cf1"
      },
      "execution_count": null,
      "outputs": [
        {
          "output_type": "execute_result",
          "data": {
            "text/plain": [
              "0                                                                                                 गोदाव खामानि मावओ बोला नो सानसे देरहा थारगोन\n",
              "1                                                                                                                      निखावरि सुबुंफोरा सिखाव\n",
              "2                                                                                                   मा बिमा खर परिबर्थननि खोथा फैखो बेयाव मोसौ\n",
              "3                                                                                                      थोद जामबा सैमा साला मा मिसेस जाखो बेलाय\n",
              "4                                                      माखौ बकिबाय थादों नों बोरमा फानथा दम दंब्ला खामानि मावना दिन्थि बिनि उनाव बखि सैमा साला\n",
              "                                                                         ...                                                                  \n",
              "1674                                                                   नोंलाय जामबा नोंबो सासे सनमान गैयै मानसिसो गिदिरसिन मानसिखौ मुं मुखग्रा\n",
              "1675    एै मावजि लाब गैया दानो बनद खालामनायनि खोथा बुंबानो गाबोननो गरनैसो होलाय होनबानो जाबाय लागाव बुंग्रासो जागोन नोंसोरबायदि मावजि सादुफोरा\n",
              "1676                                                                                                                 सिखला फुरकव रपे खलामनांगव\n",
              "1677                                                                                                             सेनदेल खुबै नांगौलै सालाफोरखौ\n",
              "1678                                                  राकेस बोरमा सिखावजोंनो थाफाहैदोलै नोंबो आदै जानला मोनला जों जानला मोनला मिलायखायो नोंसोर\n",
              "Name: clean_text, Length: 1679, dtype: object"
            ]
          },
          "metadata": {},
          "execution_count": 16
        }
      ]
    },
    {
      "cell_type": "code",
      "source": [
        "bodo_test['clean_text'] = bodo_test['text'].apply(lambda x:emo(x))\n",
        "bodo_test['clean_text'] = bodo_test['clean_text'].apply(lambda x:remove_urls(x))\n",
        "bodo_test['clean_text'] = bodo_test['clean_text'].apply(lambda x:clean_text(x))"
      ],
      "metadata": {
        "id": "7EFJdxBpQkrw"
      },
      "execution_count": null,
      "outputs": []
    },
    {
      "cell_type": "code",
      "source": [
        "bodo_train['clean_text']"
      ],
      "metadata": {
        "colab": {
          "base_uri": "https://localhost:8080/"
        },
        "id": "dKi_IXn1QkpJ",
        "outputId": "a29091ce-e949-4af9-94ae-a1d85d6227bb"
      },
      "execution_count": null,
      "outputs": [
        {
          "output_type": "execute_result",
          "data": {
            "text/plain": [
              "0                                                                                                 गोदाव खामानि मावओ बोला नो सानसे देरहा थारगोन\n",
              "1                                                                                                                      निखावरि सुबुंफोरा सिखाव\n",
              "2                                                                                                   मा बिमा खर परिबर्थननि खोथा फैखो बेयाव मोसौ\n",
              "3                                                                                                      थोद जामबा सैमा साला मा मिसेस जाखो बेलाय\n",
              "4                                                      माखौ बकिबाय थादों नों बोरमा फानथा दम दंब्ला खामानि मावना दिन्थि बिनि उनाव बखि सैमा साला\n",
              "                                                                         ...                                                                  \n",
              "1674                                                                   नोंलाय जामबा नोंबो सासे सनमान गैयै मानसिसो गिदिरसिन मानसिखौ मुं मुखग्रा\n",
              "1675    एै मावजि लाब गैया दानो बनद खालामनायनि खोथा बुंबानो गाबोननो गरनैसो होलाय होनबानो जाबाय लागाव बुंग्रासो जागोन नोंसोरबायदि मावजि सादुफोरा\n",
              "1676                                                                                                                 सिखला फुरकव रपे खलामनांगव\n",
              "1677                                                                                                             सेनदेल खुबै नांगौलै सालाफोरखौ\n",
              "1678                                                  राकेस बोरमा सिखावजोंनो थाफाहैदोलै नोंबो आदै जानला मोनला जों जानला मोनला मिलायखायो नोंसोर\n",
              "Name: clean_text, Length: 1679, dtype: object"
            ]
          },
          "metadata": {},
          "execution_count": 20
        }
      ]
    },
    {
      "cell_type": "code",
      "source": [
        "bodo_train.shape"
      ],
      "metadata": {
        "colab": {
          "base_uri": "https://localhost:8080/"
        },
        "id": "xyoMoqnUQkmw",
        "outputId": "7db09676-ade5-43de-af34-9e3e584a9f83"
      },
      "execution_count": null,
      "outputs": [
        {
          "output_type": "execute_result",
          "data": {
            "text/plain": [
              "(1679, 4)"
            ]
          },
          "metadata": {},
          "execution_count": 21
        }
      ]
    },
    {
      "cell_type": "code",
      "source": [
        "bodo_test.shape"
      ],
      "metadata": {
        "colab": {
          "base_uri": "https://localhost:8080/"
        },
        "id": "Fr41EucVQkkL",
        "outputId": "58730a54-7401-4f87-a679-af14b99e7273"
      },
      "execution_count": null,
      "outputs": [
        {
          "output_type": "execute_result",
          "data": {
            "text/plain": [
              "(420, 3)"
            ]
          },
          "metadata": {},
          "execution_count": 22
        }
      ]
    },
    {
      "cell_type": "code",
      "source": [
        "bodo_test.head()"
      ],
      "metadata": {
        "colab": {
          "base_uri": "https://localhost:8080/",
          "height": 206
        },
        "id": "N9zR5awZQkhi",
        "outputId": "26c9375c-19a2-49f7-b069-2d9a71585508"
      },
      "execution_count": null,
      "outputs": [
        {
          "output_type": "execute_result",
          "data": {
            "text/plain": [
              "   S. No.  \\\n",
              "0       1   \n",
              "1       2   \n",
              "2       3   \n",
              "3       4   \n",
              "4       5   \n",
              "\n",
              "                                                                                                                                       text  \\\n",
              "0                                                                                                 BPF बानाय लांनाय लामाया 5 बोसोरानो जोरासै   \n",
              "1                                                                              बै समाव माबेयाव हाबसोनानै दंमोन नोंलाय, दाना बुजिना जाथारबाय   \n",
              "2  बे थांखिखौ मिनिग्रापोरा हारिखौ लेवारपोरबायदि थै सोबग्रासो। राजनिथिक गादिनि गोदै गोबाब स्वाद मोनजानानै गावनि हारिखौ निन्दिग्रा, मिनिग्रा।   \n",
              "3                                                                                                      मोसौ खुगायाव एमफौ नांबाय नोंनाव सैमा   \n",
              "4                                                            2003आव BTC गोरोबथा जादों बेनि थाखाय बो थोजासे स'म होदों नाथाय राज्यो-राजाफोरखौ   \n",
              "\n",
              "                                                                                                                                clean_text  \n",
              "0                                                                                                  bpf बानाय लांनाय लामाया बोसोरानो जोरासै  \n",
              "1                                                                              बै समाव माबेयाव हाबसोनानै दंमोन नोंलाय दाना बुजिना जाथारबाय  \n",
              "2  बे थांखिखौ मिनिग्रापोरा हारिखौ लेवारपोरबायदि थै सोबग्रासो। राजनिथिक गादिनि गोदै गोबाब स्वाद मोनजानानै गावनि हारिखौ निन्दिग्रा मिनिग्रा।  \n",
              "3                                                                                                     मोसौ खुगायाव एमफौ नांबाय नोंनाव सैमा  \n",
              "4                                                                 आव btc गोरोबथा जादों बेनि थाखाय बो थोजासे सम होदों नाथाय राज्योराजाफोरखौ  "
            ],
            "text/html": [
              "\n",
              "\n",
              "  <div id=\"df-233f6523-1eaa-4b83-ac4e-874673e2373f\">\n",
              "    <div class=\"colab-df-container\">\n",
              "      <div>\n",
              "<style scoped>\n",
              "    .dataframe tbody tr th:only-of-type {\n",
              "        vertical-align: middle;\n",
              "    }\n",
              "\n",
              "    .dataframe tbody tr th {\n",
              "        vertical-align: top;\n",
              "    }\n",
              "\n",
              "    .dataframe thead th {\n",
              "        text-align: right;\n",
              "    }\n",
              "</style>\n",
              "<table border=\"1\" class=\"dataframe\">\n",
              "  <thead>\n",
              "    <tr style=\"text-align: right;\">\n",
              "      <th></th>\n",
              "      <th>S. No.</th>\n",
              "      <th>text</th>\n",
              "      <th>clean_text</th>\n",
              "    </tr>\n",
              "  </thead>\n",
              "  <tbody>\n",
              "    <tr>\n",
              "      <th>0</th>\n",
              "      <td>1</td>\n",
              "      <td>BPF बानाय लांनाय लामाया 5 बोसोरानो जोरासै</td>\n",
              "      <td>bpf बानाय लांनाय लामाया बोसोरानो जोरासै</td>\n",
              "    </tr>\n",
              "    <tr>\n",
              "      <th>1</th>\n",
              "      <td>2</td>\n",
              "      <td>बै समाव माबेयाव हाबसोनानै दंमोन नोंलाय, दाना बुजिना जाथारबाय</td>\n",
              "      <td>बै समाव माबेयाव हाबसोनानै दंमोन नोंलाय दाना बुजिना जाथारबाय</td>\n",
              "    </tr>\n",
              "    <tr>\n",
              "      <th>2</th>\n",
              "      <td>3</td>\n",
              "      <td>बे थांखिखौ मिनिग्रापोरा हारिखौ लेवारपोरबायदि थै सोबग्रासो। राजनिथिक गादिनि गोदै गोबाब स्वाद मोनजानानै गावनि हारिखौ निन्दिग्रा, मिनिग्रा।</td>\n",
              "      <td>बे थांखिखौ मिनिग्रापोरा हारिखौ लेवारपोरबायदि थै सोबग्रासो। राजनिथिक गादिनि गोदै गोबाब स्वाद मोनजानानै गावनि हारिखौ निन्दिग्रा मिनिग्रा।</td>\n",
              "    </tr>\n",
              "    <tr>\n",
              "      <th>3</th>\n",
              "      <td>4</td>\n",
              "      <td>मोसौ खुगायाव एमफौ नांबाय नोंनाव सैमा</td>\n",
              "      <td>मोसौ खुगायाव एमफौ नांबाय नोंनाव सैमा</td>\n",
              "    </tr>\n",
              "    <tr>\n",
              "      <th>4</th>\n",
              "      <td>5</td>\n",
              "      <td>2003आव BTC गोरोबथा जादों बेनि थाखाय बो थोजासे स'म होदों नाथाय राज्यो-राजाफोरखौ</td>\n",
              "      <td>आव btc गोरोबथा जादों बेनि थाखाय बो थोजासे सम होदों नाथाय राज्योराजाफोरखौ</td>\n",
              "    </tr>\n",
              "  </tbody>\n",
              "</table>\n",
              "</div>\n",
              "      <button class=\"colab-df-convert\" onclick=\"convertToInteractive('df-233f6523-1eaa-4b83-ac4e-874673e2373f')\"\n",
              "              title=\"Convert this dataframe to an interactive table.\"\n",
              "              style=\"display:none;\">\n",
              "\n",
              "  <svg xmlns=\"http://www.w3.org/2000/svg\" height=\"24px\"viewBox=\"0 0 24 24\"\n",
              "       width=\"24px\">\n",
              "    <path d=\"M0 0h24v24H0V0z\" fill=\"none\"/>\n",
              "    <path d=\"M18.56 5.44l.94 2.06.94-2.06 2.06-.94-2.06-.94-.94-2.06-.94 2.06-2.06.94zm-11 1L8.5 8.5l.94-2.06 2.06-.94-2.06-.94L8.5 2.5l-.94 2.06-2.06.94zm10 10l.94 2.06.94-2.06 2.06-.94-2.06-.94-.94-2.06-.94 2.06-2.06.94z\"/><path d=\"M17.41 7.96l-1.37-1.37c-.4-.4-.92-.59-1.43-.59-.52 0-1.04.2-1.43.59L10.3 9.45l-7.72 7.72c-.78.78-.78 2.05 0 2.83L4 21.41c.39.39.9.59 1.41.59.51 0 1.02-.2 1.41-.59l7.78-7.78 2.81-2.81c.8-.78.8-2.07 0-2.86zM5.41 20L4 18.59l7.72-7.72 1.47 1.35L5.41 20z\"/>\n",
              "  </svg>\n",
              "      </button>\n",
              "\n",
              "\n",
              "\n",
              "    <div id=\"df-a4a4d422-9c5c-4480-964d-b09d3c390324\">\n",
              "      <button class=\"colab-df-quickchart\" onclick=\"quickchart('df-a4a4d422-9c5c-4480-964d-b09d3c390324')\"\n",
              "              title=\"Suggest charts.\"\n",
              "              style=\"display:none;\">\n",
              "\n",
              "<svg xmlns=\"http://www.w3.org/2000/svg\" height=\"24px\"viewBox=\"0 0 24 24\"\n",
              "     width=\"24px\">\n",
              "    <g>\n",
              "        <path d=\"M19 3H5c-1.1 0-2 .9-2 2v14c0 1.1.9 2 2 2h14c1.1 0 2-.9 2-2V5c0-1.1-.9-2-2-2zM9 17H7v-7h2v7zm4 0h-2V7h2v10zm4 0h-2v-4h2v4z\"/>\n",
              "    </g>\n",
              "</svg>\n",
              "      </button>\n",
              "    </div>\n",
              "\n",
              "<style>\n",
              "  .colab-df-quickchart {\n",
              "    background-color: #E8F0FE;\n",
              "    border: none;\n",
              "    border-radius: 50%;\n",
              "    cursor: pointer;\n",
              "    display: none;\n",
              "    fill: #1967D2;\n",
              "    height: 32px;\n",
              "    padding: 0 0 0 0;\n",
              "    width: 32px;\n",
              "  }\n",
              "\n",
              "  .colab-df-quickchart:hover {\n",
              "    background-color: #E2EBFA;\n",
              "    box-shadow: 0px 1px 2px rgba(60, 64, 67, 0.3), 0px 1px 3px 1px rgba(60, 64, 67, 0.15);\n",
              "    fill: #174EA6;\n",
              "  }\n",
              "\n",
              "  [theme=dark] .colab-df-quickchart {\n",
              "    background-color: #3B4455;\n",
              "    fill: #D2E3FC;\n",
              "  }\n",
              "\n",
              "  [theme=dark] .colab-df-quickchart:hover {\n",
              "    background-color: #434B5C;\n",
              "    box-shadow: 0px 1px 3px 1px rgba(0, 0, 0, 0.15);\n",
              "    filter: drop-shadow(0px 1px 2px rgba(0, 0, 0, 0.3));\n",
              "    fill: #FFFFFF;\n",
              "  }\n",
              "</style>\n",
              "\n",
              "    <script>\n",
              "      async function quickchart(key) {\n",
              "        const containerElement = document.querySelector('#' + key);\n",
              "        const charts = await google.colab.kernel.invokeFunction(\n",
              "            'suggestCharts', [key], {});\n",
              "      }\n",
              "    </script>\n",
              "\n",
              "      <script>\n",
              "\n",
              "function displayQuickchartButton(domScope) {\n",
              "  let quickchartButtonEl =\n",
              "    domScope.querySelector('#df-a4a4d422-9c5c-4480-964d-b09d3c390324 button.colab-df-quickchart');\n",
              "  quickchartButtonEl.style.display =\n",
              "    google.colab.kernel.accessAllowed ? 'block' : 'none';\n",
              "}\n",
              "\n",
              "        displayQuickchartButton(document);\n",
              "      </script>\n",
              "      <style>\n",
              "    .colab-df-container {\n",
              "      display:flex;\n",
              "      flex-wrap:wrap;\n",
              "      gap: 12px;\n",
              "    }\n",
              "\n",
              "    .colab-df-convert {\n",
              "      background-color: #E8F0FE;\n",
              "      border: none;\n",
              "      border-radius: 50%;\n",
              "      cursor: pointer;\n",
              "      display: none;\n",
              "      fill: #1967D2;\n",
              "      height: 32px;\n",
              "      padding: 0 0 0 0;\n",
              "      width: 32px;\n",
              "    }\n",
              "\n",
              "    .colab-df-convert:hover {\n",
              "      background-color: #E2EBFA;\n",
              "      box-shadow: 0px 1px 2px rgba(60, 64, 67, 0.3), 0px 1px 3px 1px rgba(60, 64, 67, 0.15);\n",
              "      fill: #174EA6;\n",
              "    }\n",
              "\n",
              "    [theme=dark] .colab-df-convert {\n",
              "      background-color: #3B4455;\n",
              "      fill: #D2E3FC;\n",
              "    }\n",
              "\n",
              "    [theme=dark] .colab-df-convert:hover {\n",
              "      background-color: #434B5C;\n",
              "      box-shadow: 0px 1px 3px 1px rgba(0, 0, 0, 0.15);\n",
              "      filter: drop-shadow(0px 1px 2px rgba(0, 0, 0, 0.3));\n",
              "      fill: #FFFFFF;\n",
              "    }\n",
              "  </style>\n",
              "\n",
              "      <script>\n",
              "        const buttonEl =\n",
              "          document.querySelector('#df-233f6523-1eaa-4b83-ac4e-874673e2373f button.colab-df-convert');\n",
              "        buttonEl.style.display =\n",
              "          google.colab.kernel.accessAllowed ? 'block' : 'none';\n",
              "\n",
              "        async function convertToInteractive(key) {\n",
              "          const element = document.querySelector('#df-233f6523-1eaa-4b83-ac4e-874673e2373f');\n",
              "          const dataTable =\n",
              "            await google.colab.kernel.invokeFunction('convertToInteractive',\n",
              "                                                     [key], {});\n",
              "          if (!dataTable) return;\n",
              "\n",
              "          const docLinkHtml = 'Like what you see? Visit the ' +\n",
              "            '<a target=\"_blank\" href=https://colab.research.google.com/notebooks/data_table.ipynb>data table notebook</a>'\n",
              "            + ' to learn more about interactive tables.';\n",
              "          element.innerHTML = '';\n",
              "          dataTable['output_type'] = 'display_data';\n",
              "          await google.colab.output.renderOutput(dataTable, element);\n",
              "          const docLink = document.createElement('div');\n",
              "          docLink.innerHTML = docLinkHtml;\n",
              "          element.appendChild(docLink);\n",
              "        }\n",
              "      </script>\n",
              "    </div>\n",
              "  </div>\n"
            ]
          },
          "metadata": {},
          "execution_count": 23
        }
      ]
    },
    {
      "cell_type": "code",
      "source": [
        "X_train=bodo_train['clean_text']\n",
        "X_test=bodo_test['clean_text']\n",
        "y_train=bodo_train['task_1']"
      ],
      "metadata": {
        "id": "IUI7dPdiQkeo"
      },
      "execution_count": null,
      "outputs": []
    },
    {
      "cell_type": "code",
      "source": [
        "X_train.shape, X_test.shape"
      ],
      "metadata": {
        "colab": {
          "base_uri": "https://localhost:8080/"
        },
        "id": "zWyIhKiYQ2Xp",
        "outputId": "51da5577-02f0-425e-b2c3-452c654258cb"
      },
      "execution_count": null,
      "outputs": [
        {
          "output_type": "execute_result",
          "data": {
            "text/plain": [
              "((1679,), (420,))"
            ]
          },
          "metadata": {},
          "execution_count": 25
        }
      ]
    },
    {
      "cell_type": "code",
      "source": [
        "from sklearn.feature_extraction.text import  CountVectorizer, TfidfTransformer,TfidfVectorizer"
      ],
      "metadata": {
        "id": "y3nhbjqQQ2VR"
      },
      "execution_count": null,
      "outputs": []
    },
    {
      "cell_type": "code",
      "source": [
        "!git clone https://github.com/libindic/syllabalizer.git\n",
        "%cd syllabalizer\n",
        "%run setup.py sdist"
      ],
      "metadata": {
        "colab": {
          "base_uri": "https://localhost:8080/"
        },
        "id": "OyVj0BwdQ2Sf",
        "outputId": "deb95b51-859b-4004-8a58-60c0f5216581"
      },
      "execution_count": null,
      "outputs": [
        {
          "output_type": "stream",
          "name": "stdout",
          "text": [
            "Cloning into 'syllabalizer'...\n",
            "remote: Enumerating objects: 186, done.\u001b[K\n",
            "remote: Total 186 (delta 0), reused 0 (delta 0), pack-reused 186\u001b[K\n",
            "Receiving objects: 100% (186/186), 41.35 KiB | 10.34 MiB/s, done.\n",
            "Resolving deltas: 100% (65/65), done.\n",
            "/content/syllabalizer\n"
          ]
        },
        {
          "output_type": "stream",
          "name": "stderr",
          "text": [
            "/usr/local/lib/python3.10/dist-packages/setuptools/dist.py:755: SetuptoolsDeprecationWarning: Invalid dash-separated options\n",
            "!!\n",
            "\n",
            "        ********************************************************************************\n",
            "        Usage of dash-separated 'description-file' will not be supported in future\n",
            "        versions. Please use the underscore name 'description_file' instead.\n",
            "\n",
            "        By 2023-Sep-26, you need to update your project and remove deprecated calls\n",
            "        or your builds will no longer be supported.\n",
            "\n",
            "        See https://setuptools.pypa.io/en/latest/userguide/declarative_config.html for details.\n",
            "        ********************************************************************************\n",
            "\n",
            "!!\n",
            "  opt = self.warn_dash_deprecation(opt, section)\n",
            "/usr/local/lib/python3.10/dist-packages/setuptools/dist.py:755: SetuptoolsDeprecationWarning: Invalid dash-separated options\n",
            "!!\n",
            "\n",
            "        ********************************************************************************\n",
            "        Usage of dash-separated 'author-email' will not be supported in future\n",
            "        versions. Please use the underscore name 'author_email' instead.\n",
            "\n",
            "        By 2023-Sep-26, you need to update your project and remove deprecated calls\n",
            "        or your builds will no longer be supported.\n",
            "\n",
            "        See https://setuptools.pypa.io/en/latest/userguide/declarative_config.html for details.\n",
            "        ********************************************************************************\n",
            "\n",
            "!!\n",
            "  opt = self.warn_dash_deprecation(opt, section)\n",
            "/usr/local/lib/python3.10/dist-packages/setuptools/dist.py:755: SetuptoolsDeprecationWarning: Invalid dash-separated options\n",
            "!!\n",
            "\n",
            "        ********************************************************************************\n",
            "        Usage of dash-separated 'home-page' will not be supported in future\n",
            "        versions. Please use the underscore name 'home_page' instead.\n",
            "\n",
            "        By 2023-Sep-26, you need to update your project and remove deprecated calls\n",
            "        or your builds will no longer be supported.\n",
            "\n",
            "        See https://setuptools.pypa.io/en/latest/userguide/declarative_config.html for details.\n",
            "        ********************************************************************************\n",
            "\n",
            "!!\n",
            "  opt = self.warn_dash_deprecation(opt, section)\n",
            "/usr/local/lib/python3.10/dist-packages/setuptools/__init__.py:84: _DeprecatedInstaller: setuptools.installer and fetch_build_eggs are deprecated.\n",
            "!!\n",
            "\n",
            "        ********************************************************************************\n",
            "        Requirements should be satisfied by a PEP 517 installer.\n",
            "        If you are using pip, you can try `pip install --use-pep517`.\n",
            "        ********************************************************************************\n",
            "\n",
            "!!\n",
            "  dist.fetch_build_eggs(dist.setup_requires)\n",
            "/usr/local/lib/python3.10/dist-packages/setuptools/command/develop.py:40: EasyInstallDeprecationWarning: easy_install command is deprecated.\n",
            "!!\n",
            "\n",
            "        ********************************************************************************\n",
            "        Please avoid running ``setup.py`` and ``easy_install``.\n",
            "        Instead, use pypa/build, pypa/installer, pypa/build or\n",
            "        other standards-based tools.\n",
            "\n",
            "        See https://github.com/pypa/setuptools/issues/917 for details.\n",
            "        ********************************************************************************\n",
            "\n",
            "!!\n",
            "  easy_install.initialize_options(self)\n",
            "/usr/local/lib/python3.10/dist-packages/setuptools/_distutils/cmd.py:66: SetuptoolsDeprecationWarning: setup.py install is deprecated.\n",
            "!!\n",
            "\n",
            "        ********************************************************************************\n",
            "        Please avoid running ``setup.py`` directly.\n",
            "        Instead, use pypa/build, pypa/installer, pypa/build or\n",
            "        other standards-based tools.\n",
            "\n",
            "        See https://blog.ganssle.io/articles/2021/10/setup-py-deprecated.html for details.\n",
            "        ********************************************************************************\n",
            "\n",
            "!!\n",
            "  self.initialize_options()\n",
            "/usr/local/lib/python3.10/dist-packages/setuptools/dist.py:955: SetuptoolsDeprecationWarning: The namespace_packages parameter is deprecated.\n",
            "!!\n",
            "\n",
            "        ********************************************************************************\n",
            "        Please replace its usage with implicit namespaces (PEP 420).\n",
            "\n",
            "        See https://setuptools.pypa.io/en/latest/references/keywords.html#keyword-namespace-packages for details.\n",
            "        ********************************************************************************\n",
            "\n",
            "!!\n",
            "  ep.load()(self, ep.name, value)\n",
            "/usr/local/lib/python3.10/dist-packages/setuptools/dist.py:755: SetuptoolsDeprecationWarning: Invalid dash-separated options\n",
            "!!\n",
            "\n",
            "        ********************************************************************************\n",
            "        Usage of dash-separated 'description-file' will not be supported in future\n",
            "        versions. Please use the underscore name 'description_file' instead.\n",
            "\n",
            "        By 2023-Sep-26, you need to update your project and remove deprecated calls\n",
            "        or your builds will no longer be supported.\n",
            "\n",
            "        See https://setuptools.pypa.io/en/latest/userguide/declarative_config.html for details.\n",
            "        ********************************************************************************\n",
            "\n",
            "!!\n",
            "  opt = self.warn_dash_deprecation(opt, section)\n",
            "/usr/local/lib/python3.10/dist-packages/setuptools/dist.py:755: SetuptoolsDeprecationWarning: Invalid dash-separated options\n",
            "!!\n",
            "\n",
            "        ********************************************************************************\n",
            "        Usage of dash-separated 'author-email' will not be supported in future\n",
            "        versions. Please use the underscore name 'author_email' instead.\n",
            "\n",
            "        By 2023-Sep-26, you need to update your project and remove deprecated calls\n",
            "        or your builds will no longer be supported.\n",
            "\n",
            "        See https://setuptools.pypa.io/en/latest/userguide/declarative_config.html for details.\n",
            "        ********************************************************************************\n",
            "\n",
            "!!\n",
            "  opt = self.warn_dash_deprecation(opt, section)\n",
            "/usr/local/lib/python3.10/dist-packages/setuptools/dist.py:755: SetuptoolsDeprecationWarning: Invalid dash-separated options\n",
            "!!\n",
            "\n",
            "        ********************************************************************************\n",
            "        Usage of dash-separated 'home-page' will not be supported in future\n",
            "        versions. Please use the underscore name 'home_page' instead.\n",
            "\n",
            "        By 2023-Sep-26, you need to update your project and remove deprecated calls\n",
            "        or your builds will no longer be supported.\n",
            "\n",
            "        See https://setuptools.pypa.io/en/latest/userguide/declarative_config.html for details.\n",
            "        ********************************************************************************\n",
            "\n",
            "!!\n",
            "  opt = self.warn_dash_deprecation(opt, section)\n",
            "INFO:root:running sdist\n",
            "INFO:root:[pbr] Writing ChangeLog\n",
            "INFO:root:[pbr] Generating ChangeLog\n",
            "INFO:root:[pbr] ChangeLog complete (0.0s)\n",
            "INFO:root:[pbr] Generating AUTHORS\n",
            "INFO:root:[pbr] AUTHORS complete (0.0s)\n",
            "INFO:root:running egg_info\n",
            "INFO:root:creating libindic_syllabifier.egg-info\n",
            "INFO:root:writing pbr to libindic_syllabifier.egg-info/pbr.json\n",
            "INFO:root:writing libindic_syllabifier.egg-info/PKG-INFO\n",
            "INFO:root:writing dependency_links to libindic_syllabifier.egg-info/dependency_links.txt\n",
            "INFO:root:writing namespace_packages to libindic_syllabifier.egg-info/namespace_packages.txt\n",
            "INFO:root:writing requirements to libindic_syllabifier.egg-info/requires.txt\n",
            "INFO:root:writing top-level names to libindic_syllabifier.egg-info/top_level.txt\n",
            "INFO:root:[pbr] Processing SOURCES.txt\n",
            "INFO:root:writing manifest file 'libindic_syllabifier.egg-info/SOURCES.txt'\n",
            "INFO:root:[pbr] In git context, generating filelist from git\n",
            "WARNING:root:warning: no previously-included files found matching '.gitreview'\n",
            "WARNING:root:warning: no previously-included files matching '*.pyc' found anywhere in distribution\n",
            "INFO:root:writing manifest file 'libindic_syllabifier.egg-info/SOURCES.txt'\n",
            "INFO:root:[pbr] reno was not found or is too old. Skipping release notes\n",
            "INFO:root:running check\n",
            "INFO:root:creating libindic-syllabifier-0.0.1.dev28\n",
            "INFO:root:creating libindic-syllabifier-0.0.1.dev28/docs\n",
            "INFO:root:creating libindic-syllabifier-0.0.1.dev28/docs/_themes\n",
            "INFO:root:creating libindic-syllabifier-0.0.1.dev28/docs/_themes/kr\n",
            "INFO:root:creating libindic-syllabifier-0.0.1.dev28/docs/_themes/kr/static\n",
            "INFO:root:creating libindic-syllabifier-0.0.1.dev28/docs/_themes/kr_small\n",
            "INFO:root:creating libindic-syllabifier-0.0.1.dev28/docs/_themes/kr_small/static\n",
            "INFO:root:creating libindic-syllabifier-0.0.1.dev28/libindic\n",
            "INFO:root:creating libindic-syllabifier-0.0.1.dev28/libindic/syllabifier\n",
            "INFO:root:creating libindic-syllabifier-0.0.1.dev28/libindic/syllabifier/templates\n",
            "INFO:root:creating libindic-syllabifier-0.0.1.dev28/libindic/syllabifier/tests\n",
            "INFO:root:creating libindic-syllabifier-0.0.1.dev28/libindic_syllabifier.egg-info\n",
            "INFO:root:creating libindic-syllabifier-0.0.1.dev28/tests\n",
            "INFO:root:copying files to libindic-syllabifier-0.0.1.dev28...\n",
            "INFO:root:copying .testr.conf -> libindic-syllabifier-0.0.1.dev28\n",
            "INFO:root:copying .travis.yml -> libindic-syllabifier-0.0.1.dev28\n",
            "INFO:root:copying AUTHORS -> libindic-syllabifier-0.0.1.dev28\n",
            "INFO:root:copying ChangeLog -> libindic-syllabifier-0.0.1.dev28\n",
            "INFO:root:copying Makefile -> libindic-syllabifier-0.0.1.dev28\n",
            "INFO:root:copying README.md -> libindic-syllabifier-0.0.1.dev28\n",
            "INFO:root:copying circle.yml -> libindic-syllabifier-0.0.1.dev28\n",
            "INFO:root:copying requirements.txt -> libindic-syllabifier-0.0.1.dev28\n",
            "INFO:root:copying setup.cfg -> libindic-syllabifier-0.0.1.dev28\n",
            "INFO:root:copying setup.py -> libindic-syllabifier-0.0.1.dev28\n",
            "INFO:root:copying test-requirements.txt -> libindic-syllabifier-0.0.1.dev28\n",
            "INFO:root:copying tox.ini -> libindic-syllabifier-0.0.1.dev28\n",
            "INFO:root:copying docs/Makefile -> libindic-syllabifier-0.0.1.dev28/docs\n",
            "INFO:root:copying docs/conf.py -> libindic-syllabifier-0.0.1.dev28/docs\n",
            "INFO:root:copying docs/index.rst -> libindic-syllabifier-0.0.1.dev28/docs\n",
            "INFO:root:copying docs/make.bat -> libindic-syllabifier-0.0.1.dev28/docs\n",
            "INFO:root:copying docs/_themes/LICENSE -> libindic-syllabifier-0.0.1.dev28/docs/_themes\n",
            "INFO:root:copying docs/_themes/README.rst -> libindic-syllabifier-0.0.1.dev28/docs/_themes\n",
            "INFO:root:copying docs/_themes/flask_theme_support.py -> libindic-syllabifier-0.0.1.dev28/docs/_themes\n",
            "INFO:root:copying docs/_themes/kr/layout.html -> libindic-syllabifier-0.0.1.dev28/docs/_themes/kr\n",
            "INFO:root:copying docs/_themes/kr/relations.html -> libindic-syllabifier-0.0.1.dev28/docs/_themes/kr\n",
            "INFO:root:copying docs/_themes/kr/theme.conf -> libindic-syllabifier-0.0.1.dev28/docs/_themes/kr\n",
            "INFO:root:copying docs/_themes/kr/static/flasky.css_t -> libindic-syllabifier-0.0.1.dev28/docs/_themes/kr/static\n",
            "INFO:root:copying docs/_themes/kr/static/small_flask.css -> libindic-syllabifier-0.0.1.dev28/docs/_themes/kr/static\n",
            "INFO:root:copying docs/_themes/kr_small/layout.html -> libindic-syllabifier-0.0.1.dev28/docs/_themes/kr_small\n",
            "INFO:root:copying docs/_themes/kr_small/theme.conf -> libindic-syllabifier-0.0.1.dev28/docs/_themes/kr_small\n",
            "INFO:root:copying docs/_themes/kr_small/static/flasky.css_t -> libindic-syllabifier-0.0.1.dev28/docs/_themes/kr_small/static\n",
            "INFO:root:copying libindic/syllabifier/__init__.py -> libindic-syllabifier-0.0.1.dev28/libindic/syllabifier\n",
            "INFO:root:copying libindic/syllabifier/core.py -> libindic-syllabifier-0.0.1.dev28/libindic/syllabifier\n",
            "INFO:root:copying libindic/syllabifier/templates/libindic.syllabifier.html -> libindic-syllabifier-0.0.1.dev28/libindic/syllabifier/templates\n",
            "INFO:root:copying libindic/syllabifier/tests/__init__.py -> libindic-syllabifier-0.0.1.dev28/libindic/syllabifier/tests\n",
            "INFO:root:copying libindic/syllabifier/tests/test_indicsyllabifier.py -> libindic-syllabifier-0.0.1.dev28/libindic/syllabifier/tests\n",
            "INFO:root:copying libindic_syllabifier.egg-info/PKG-INFO -> libindic-syllabifier-0.0.1.dev28/libindic_syllabifier.egg-info\n",
            "INFO:root:copying libindic_syllabifier.egg-info/SOURCES.txt -> libindic-syllabifier-0.0.1.dev28/libindic_syllabifier.egg-info\n",
            "INFO:root:copying libindic_syllabifier.egg-info/dependency_links.txt -> libindic-syllabifier-0.0.1.dev28/libindic_syllabifier.egg-info\n",
            "INFO:root:copying libindic_syllabifier.egg-info/namespace_packages.txt -> libindic-syllabifier-0.0.1.dev28/libindic_syllabifier.egg-info\n",
            "INFO:root:copying libindic_syllabifier.egg-info/not-zip-safe -> libindic-syllabifier-0.0.1.dev28/libindic_syllabifier.egg-info\n",
            "INFO:root:copying libindic_syllabifier.egg-info/pbr.json -> libindic-syllabifier-0.0.1.dev28/libindic_syllabifier.egg-info\n",
            "INFO:root:copying libindic_syllabifier.egg-info/requires.txt -> libindic-syllabifier-0.0.1.dev28/libindic_syllabifier.egg-info\n",
            "INFO:root:copying libindic_syllabifier.egg-info/top_level.txt -> libindic-syllabifier-0.0.1.dev28/libindic_syllabifier.egg-info\n",
            "INFO:root:copying tests/__init__.py -> libindic-syllabifier-0.0.1.dev28/tests\n",
            "INFO:root:copying tests/indcsyllabifier_test.py -> libindic-syllabifier-0.0.1.dev28/tests\n",
            "INFO:root:Writing libindic-syllabifier-0.0.1.dev28/setup.cfg\n",
            "INFO:root:creating dist\n",
            "INFO:root:Creating tar archive\n",
            "INFO:root:removing 'libindic-syllabifier-0.0.1.dev28' (and everything under it)\n"
          ]
        }
      ]
    },
    {
      "cell_type": "code",
      "source": [
        "!pip install dist/libindic-syllabifier*.tar.gz\n",
        "!pip install libindic-utils"
      ],
      "metadata": {
        "colab": {
          "base_uri": "https://localhost:8080/"
        },
        "id": "WVsnRRpnQ2Pz",
        "outputId": "e54e4359-c283-4b94-dea4-ded4b24c7fcc"
      },
      "execution_count": null,
      "outputs": [
        {
          "output_type": "stream",
          "name": "stdout",
          "text": [
            "Processing ./dist/libindic-syllabifier-0.0.1.dev28.tar.gz\n",
            "  Preparing metadata (setup.py) ... \u001b[?25l\u001b[?25hdone\n",
            "Collecting silpa_common (from libindic-syllabifier==0.0.1.dev28)\n",
            "  Downloading silpa_common-0.3.tar.gz (9.4 kB)\n",
            "  Preparing metadata (setup.py) ... \u001b[?25l\u001b[?25hdone\n",
            "Building wheels for collected packages: libindic-syllabifier, silpa_common\n",
            "  Building wheel for libindic-syllabifier (setup.py) ... \u001b[?25l\u001b[?25hdone\n",
            "  Created wheel for libindic-syllabifier: filename=libindic_syllabifier-0.0.1.dev28-py2.py3-none-any.whl size=8121 sha256=845c0823e05bed626a07632a85855539c95da5b462cadbee52ef4807d19b55c2\n",
            "  Stored in directory: /root/.cache/pip/wheels/d2/50/19/e2620530fc718493df9f5bca90d23db025cc864b9c7c0a98ef\n",
            "  Building wheel for silpa_common (setup.py) ... \u001b[?25l\u001b[?25hdone\n",
            "  Created wheel for silpa_common: filename=silpa_common-0.3-py3-none-any.whl size=8466 sha256=9f78655c0b76ae0ac4dbc9cbc9a639dc003c2d77b60eae2acc854612012c5442\n",
            "  Stored in directory: /root/.cache/pip/wheels/c0/72/43/0c779b79d708c78240beb3b0bb8f5ff3c2ab81c4e5271ea1aa\n",
            "Successfully built libindic-syllabifier silpa_common\n",
            "Installing collected packages: silpa_common, libindic-syllabifier\n",
            "Successfully installed libindic-syllabifier-0.0.1.dev28 silpa_common-0.3\n",
            "Collecting libindic-utils\n",
            "  Downloading libindic-utils-1.0.3.tar.gz (10 kB)\n",
            "  Preparing metadata (setup.py) ... \u001b[?25l\u001b[?25hdone\n",
            "Building wheels for collected packages: libindic-utils\n",
            "  Building wheel for libindic-utils (setup.py) ... \u001b[?25l\u001b[?25hdone\n",
            "  Created wheel for libindic-utils: filename=libindic_utils-1.0.3-py3-none-any.whl size=9686 sha256=a4f73fa5c571883114145673d952d319fa3fbda7718d6a18e55a106d7f477d4c\n",
            "  Stored in directory: /root/.cache/pip/wheels/a9/50/5f/64d267b1b00db903376596b944d6d7ca80ad721254d6eff902\n",
            "Successfully built libindic-utils\n",
            "Installing collected packages: libindic-utils\n",
            "Successfully installed libindic-utils-1.0.3\n"
          ]
        }
      ]
    },
    {
      "cell_type": "code",
      "source": [
        "from libindic.syllabifier import Syllabifier\n",
        "instance = Syllabifier()"
      ],
      "metadata": {
        "id": "rBOcD-FHQ2NK"
      },
      "execution_count": null,
      "outputs": []
    },
    {
      "cell_type": "code",
      "source": [
        "def syllable(word):\n",
        "    try:\n",
        "        sylbls = instance.syllabify(word)\n",
        "    except:\n",
        "        sylbls = list(word)\n",
        "    return sylbls"
      ],
      "metadata": {
        "id": "9i8qD_3IQ2K3"
      },
      "execution_count": null,
      "outputs": []
    },
    {
      "cell_type": "code",
      "source": [
        "# generate word n-grams\n",
        "\n",
        "def generate_N_grams(text, ngram=1):\n",
        "    words = [word for word in text.split(\" \")]  # if word not in set(stopwords.words('english'))]\n",
        "    temp = zip(*[words[i:] for i in range(0, ngram)])\n",
        "    ngrams = [' '.join(ngram) for ngram in temp]\n",
        "    return ngrams"
      ],
      "metadata": {
        "id": "f9VP3HFeQ2Hw"
      },
      "execution_count": null,
      "outputs": []
    },
    {
      "cell_type": "code",
      "source": [
        "import regex\n",
        "\n",
        "def custom_analyzer(text):\n",
        "    words = regex.findall(r'\\w{2,}', text) # extract words of at least 2 letters\n",
        "    for w in words:\n",
        "        yield w"
      ],
      "metadata": {
        "id": "zY6O4Sy1RKvI"
      },
      "execution_count": null,
      "outputs": []
    },
    {
      "cell_type": "code",
      "source": [
        "# generate syllable n-grams by specifying the value of n, by default ngram=1\n",
        "\n",
        "def generate_cN_grams(word, ngram=1):\n",
        "    sylbs = [sylbs for sylbs in syllable(word)]  # if word not in set(stopwords.words('english'))]\n",
        "    temp = zip(*[sylbs[i:] for i in range(0, ngram)])\n",
        "    ngrams = [''.join(ngram) for ngram in temp]\n",
        "    return ngrams"
      ],
      "metadata": {
        "id": "dG2iTVmORKjQ"
      },
      "execution_count": null,
      "outputs": []
    },
    {
      "cell_type": "code",
      "source": [
        "# generate syllable n-grams in the range 'from' to 'to'. by default 'from'= 1\n",
        "\n",
        "def ngrams(text, r_to, r_from=1):\n",
        "    r_from = 1\n",
        "    r_to = 3\n",
        "    allngrams=[]\n",
        "    for word in text.split():\n",
        "        temp = []\n",
        "        for i in range(r_from + r_to - 1):\n",
        "            temp.extend(generate_cN_grams(word, i+1))\n",
        "            allngrams.append(temp)\n",
        "    n_grams = [item for sublist in allngrams for item in sublist]\n",
        "  # merged = list(itertools.chain(allngrams))\n",
        "    return n_grams"
      ],
      "metadata": {
        "id": "4AcqlxA9RKf_"
      },
      "execution_count": null,
      "outputs": []
    },
    {
      "cell_type": "code",
      "source": [
        "def custom_analyzer(text):\n",
        "    syngrams = ngrams(text,3)\n",
        "    return syngrams"
      ],
      "metadata": {
        "id": "JOD4DRYZRKc4"
      },
      "execution_count": null,
      "outputs": []
    },
    {
      "cell_type": "code",
      "source": [
        "tfidf_vectorizer = TfidfVectorizer(analyzer=custom_analyzer)\n",
        "tfidf_vectorizer.fit_transform(X_train)\n",
        "xtrain_tfidf =  tfidf_vectorizer.transform(X_train)\n",
        "xtest_tfidf =  tfidf_vectorizer.transform(X_test)"
      ],
      "metadata": {
        "id": "XYCWxcAkRKZo"
      },
      "execution_count": null,
      "outputs": []
    },
    {
      "cell_type": "code",
      "source": [
        "from sklearn.model_selection import cross_val_score\n",
        "from sklearn.linear_model import LogisticRegression\n",
        "from sklearn.naive_bayes import BernoulliNB\n",
        "from sklearn.ensemble import VotingClassifier\n",
        "from sklearn.svm import LinearSVC\n",
        "\n",
        "clf1 = LogisticRegression(random_state=1)\n",
        "clf2 = BernoulliNB()\n",
        "clf3 = LinearSVC(penalty='l2',C=1.0)\n",
        "\n",
        "eclf = VotingClassifier(estimators=[('LR', clf1), ('BNB', clf2),\n",
        "('SVC', clf3)], voting='hard')\n",
        "eclf = eclf.fit(xtrain_tfidf, y_train)\n",
        "y_pred1= eclf.predict(xtest_tfidf)\n",
        "print(y_pred1)"
      ],
      "metadata": {
        "colab": {
          "base_uri": "https://localhost:8080/"
        },
        "id": "Y26AZdnXRezm",
        "outputId": "60eb9d10-a7bc-4b68-bd39-fb7ff53f72c8"
      },
      "execution_count": null,
      "outputs": [
        {
          "output_type": "stream",
          "name": "stdout",
          "text": [
            "['NOT' 'NOT' 'HOF' 'HOF' 'NOT' 'NOT' 'HOF' 'HOF' 'HOF' 'HOF' 'NOT' 'NOT'\n",
            " 'HOF' 'NOT' 'NOT' 'HOF' 'HOF' 'HOF' 'HOF' 'NOT' 'HOF' 'HOF' 'NOT' 'HOF'\n",
            " 'HOF' 'HOF' 'HOF' 'HOF' 'HOF' 'HOF' 'HOF' 'NOT' 'HOF' 'HOF' 'HOF' 'HOF'\n",
            " 'HOF' 'NOT' 'HOF' 'HOF' 'HOF' 'HOF' 'HOF' 'NOT' 'HOF' 'HOF' 'HOF' 'NOT'\n",
            " 'HOF' 'HOF' 'HOF' 'HOF' 'HOF' 'NOT' 'HOF' 'NOT' 'HOF' 'NOT' 'HOF' 'HOF'\n",
            " 'HOF' 'HOF' 'HOF' 'HOF' 'HOF' 'HOF' 'HOF' 'NOT' 'HOF' 'HOF' 'HOF' 'HOF'\n",
            " 'HOF' 'HOF' 'HOF' 'HOF' 'NOT' 'HOF' 'HOF' 'HOF' 'HOF' 'HOF' 'HOF' 'HOF'\n",
            " 'HOF' 'HOF' 'HOF' 'HOF' 'HOF' 'HOF' 'HOF' 'HOF' 'HOF' 'HOF' 'HOF' 'NOT'\n",
            " 'HOF' 'HOF' 'HOF' 'HOF' 'HOF' 'HOF' 'HOF' 'HOF' 'HOF' 'HOF' 'HOF' 'HOF'\n",
            " 'HOF' 'HOF' 'HOF' 'NOT' 'HOF' 'HOF' 'HOF' 'HOF' 'HOF' 'HOF' 'HOF' 'NOT'\n",
            " 'HOF' 'HOF' 'HOF' 'NOT' 'HOF' 'NOT' 'NOT' 'HOF' 'HOF' 'HOF' 'HOF' 'HOF'\n",
            " 'HOF' 'HOF' 'HOF' 'HOF' 'HOF' 'HOF' 'HOF' 'HOF' 'HOF' 'HOF' 'NOT' 'HOF'\n",
            " 'HOF' 'HOF' 'HOF' 'HOF' 'HOF' 'HOF' 'HOF' 'HOF' 'NOT' 'HOF' 'HOF' 'NOT'\n",
            " 'HOF' 'HOF' 'HOF' 'HOF' 'HOF' 'NOT' 'HOF' 'HOF' 'HOF' 'HOF' 'HOF' 'HOF'\n",
            " 'HOF' 'HOF' 'HOF' 'NOT' 'HOF' 'HOF' 'HOF' 'HOF' 'HOF' 'HOF' 'HOF' 'HOF'\n",
            " 'HOF' 'NOT' 'NOT' 'NOT' 'NOT' 'HOF' 'NOT' 'NOT' 'NOT' 'HOF' 'NOT' 'NOT'\n",
            " 'NOT' 'HOF' 'HOF' 'HOF' 'HOF' 'NOT' 'HOF' 'HOF' 'HOF' 'NOT' 'HOF' 'NOT'\n",
            " 'NOT' 'HOF' 'NOT' 'NOT' 'NOT' 'HOF' 'NOT' 'HOF' 'NOT' 'NOT' 'HOF' 'HOF'\n",
            " 'HOF' 'HOF' 'NOT' 'HOF' 'HOF' 'HOF' 'NOT' 'NOT' 'NOT' 'NOT' 'NOT' 'NOT'\n",
            " 'NOT' 'NOT' 'NOT' 'HOF' 'NOT' 'NOT' 'HOF' 'HOF' 'NOT' 'HOF' 'HOF' 'HOF'\n",
            " 'HOF' 'HOF' 'NOT' 'NOT' 'NOT' 'NOT' 'HOF' 'HOF' 'HOF' 'HOF' 'HOF' 'HOF'\n",
            " 'NOT' 'HOF' 'HOF' 'HOF' 'HOF' 'NOT' 'NOT' 'NOT' 'NOT' 'NOT' 'NOT' 'HOF'\n",
            " 'NOT' 'NOT' 'NOT' 'NOT' 'NOT' 'HOF' 'HOF' 'HOF' 'HOF' 'HOF' 'HOF' 'NOT'\n",
            " 'HOF' 'HOF' 'HOF' 'HOF' 'HOF' 'NOT' 'HOF' 'HOF' 'HOF' 'HOF' 'NOT' 'HOF'\n",
            " 'HOF' 'HOF' 'HOF' 'HOF' 'HOF' 'HOF' 'HOF' 'HOF' 'HOF' 'HOF' 'HOF' 'HOF'\n",
            " 'HOF' 'HOF' 'HOF' 'HOF' 'HOF' 'HOF' 'HOF' 'HOF' 'HOF' 'HOF' 'NOT' 'HOF'\n",
            " 'HOF' 'HOF' 'HOF' 'HOF' 'HOF' 'HOF' 'HOF' 'NOT' 'NOT' 'NOT' 'HOF' 'NOT'\n",
            " 'NOT' 'NOT' 'NOT' 'NOT' 'NOT' 'NOT' 'HOF' 'NOT' 'NOT' 'NOT' 'NOT' 'NOT'\n",
            " 'NOT' 'NOT' 'NOT' 'NOT' 'NOT' 'NOT' 'NOT' 'NOT' 'HOF' 'NOT' 'NOT' 'NOT'\n",
            " 'HOF' 'NOT' 'NOT' 'NOT' 'NOT' 'NOT' 'NOT' 'NOT' 'NOT' 'NOT' 'NOT' 'NOT'\n",
            " 'NOT' 'NOT' 'NOT' 'HOF' 'NOT' 'NOT' 'NOT' 'NOT' 'NOT' 'NOT' 'NOT' 'NOT'\n",
            " 'NOT' 'HOF' 'NOT' 'NOT' 'NOT' 'NOT' 'NOT' 'NOT' 'NOT' 'NOT' 'NOT' 'NOT'\n",
            " 'NOT' 'HOF' 'HOF' 'HOF' 'HOF' 'HOF' 'HOF' 'HOF' 'NOT' 'HOF' 'HOF' 'HOF'\n",
            " 'HOF' 'NOT' 'NOT' 'NOT' 'NOT' 'NOT' 'NOT' 'NOT' 'NOT' 'NOT' 'NOT' 'NOT'\n",
            " 'NOT' 'HOF' 'HOF' 'HOF' 'HOF' 'HOF' 'HOF' 'NOT' 'HOF' 'HOF' 'HOF' 'HOF']\n"
          ]
        }
      ]
    },
    {
      "cell_type": "code",
      "source": [
        "#Submission\n",
        "# to create .csv file consisting of tweet ids and predicted labels\n",
        "y_pred_df= pd.DataFrame(data=y_pred1, columns=['y_pred1'])\n",
        "Submisssion_assamese = pd.DataFrame()\n",
        "Submisssion_assamese['S. No.'] = bodo_test['S. No.']\n",
        "Submisssion_assamese['task_1'] = y_pred_df\n",
        "Submisssion_assamese.to_csv('/content/drive/MyDrive/MUCS_test_bodo_run_3.csv',index = None)"
      ],
      "metadata": {
        "id": "klv-zSwCRewO"
      },
      "execution_count": null,
      "outputs": []
    },
    {
      "cell_type": "code",
      "source": [
        "from sklearn.svm import SVC\n",
        "svm = SVC()\n",
        "\n",
        "svm .fit(xtrain_tfidf, y_train)\n",
        "\n",
        "y_pred2 = svm.predict(xtest_tfidf)"
      ],
      "metadata": {
        "id": "wBS4MPerRetn"
      },
      "execution_count": null,
      "outputs": []
    },
    {
      "cell_type": "code",
      "source": [
        "#Submission\n",
        "# to create .csv file consisting of tweet ids and predicted labels\n",
        "y_pred_df= pd.DataFrame(data=y_pred2, columns=['y_pred2'])\n",
        "Submisssion_assamese = pd.DataFrame()\n",
        "Submisssion_assamese['S. No.'] = bodo_test['S. No.']\n",
        "Submisssion_assamese['task_1'] = y_pred_df\n",
        "Submisssion_assamese.to_csv('/content/drive/MyDrive/MUCS_test_bodo_run_4.csv',index = None)"
      ],
      "metadata": {
        "id": "vKwAfgNMReqv"
      },
      "execution_count": null,
      "outputs": []
    },
    {
      "cell_type": "code",
      "source": [
        "from sklearn.linear_model import LogisticRegression\n",
        "\n",
        "logreg = LogisticRegression()\n",
        "\n",
        "logreg .fit(xtrain_tfidf, y_train)\n",
        "\n",
        "y_pred3 = logreg .predict(xtest_tfidf)"
      ],
      "metadata": {
        "id": "T_88KB-lRel4"
      },
      "execution_count": null,
      "outputs": []
    },
    {
      "cell_type": "code",
      "source": [
        "#Submission\n",
        "# to create .csv file consisting of tweet ids and predicted labels\n",
        "y_pred_df= pd.DataFrame(data=y_pred3, columns=['y_pred3'])\n",
        "Submisssion_assamese = pd.DataFrame()\n",
        "Submisssion_assamese['S. No.'] = bodo_test['S. No.']\n",
        "Submisssion_assamese['task_1'] = y_pred_df\n",
        "Submisssion_assamese.to_csv('/content/drive/MyDrive/MUCS_test_bodo_run_5.csv',index = None)"
      ],
      "metadata": {
        "id": "7VhkBv5DUOWf"
      },
      "execution_count": null,
      "outputs": []
    },
    {
      "cell_type": "code",
      "source": [
        "from sklearn.ensemble import RandomForestClassifier\n",
        "RFC = RandomForestClassifier()\n",
        "RFC .fit(xtrain_tfidf, y_train)\n",
        "\n",
        "y_pred4 = RFC .predict(xtest_tfidf)"
      ],
      "metadata": {
        "id": "AaadmxMzUTng"
      },
      "execution_count": null,
      "outputs": []
    },
    {
      "cell_type": "code",
      "source": [
        "#Submission\n",
        "# to create .csv file consisting of tweet ids and predicted labels\n",
        "y_pred_df= pd.DataFrame(data=y_pred3, columns=['y_pred3'])\n",
        "Submisssion_assamese = pd.DataFrame()\n",
        "Submisssion_assamese['S. No.'] = bodo_test['S. No.']\n",
        "Submisssion_assamese['task_1'] = y_pred_df\n",
        "Submisssion_assamese.to_csv('/content/drive/MyDrive/MUCS_test_bodo_run_6.csv',index = None)"
      ],
      "metadata": {
        "id": "6DQshA-cUTkg"
      },
      "execution_count": null,
      "outputs": []
    }
  ]
}