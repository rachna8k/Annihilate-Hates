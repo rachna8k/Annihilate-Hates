{
  "nbformat": 4,
  "nbformat_minor": 0,
  "metadata": {
    "colab": {
      "provenance": []
    },
    "kernelspec": {
      "name": "python3",
      "display_name": "Python 3"
    },
    "language_info": {
      "name": "python"
    }
  },
  "cells": [
    {
      "cell_type": "code",
      "source": [
        "from google.colab import drive\n",
        "drive.mount('/content/drive')"
      ],
      "metadata": {
        "colab": {
          "base_uri": "https://localhost:8080/"
        },
        "id": "wCrFxT8RSr6g",
        "outputId": "d1010766-8324-4d44-c964-9608f9528463"
      },
      "execution_count": null,
      "outputs": [
        {
          "output_type": "stream",
          "name": "stdout",
          "text": [
            "Drive already mounted at /content/drive; to attempt to forcibly remount, call drive.mount(\"/content/drive\", force_remount=True).\n"
          ]
        }
      ]
    },
    {
      "cell_type": "code",
      "source": [
        "!pip install emot --upgrade\n",
        "!pip install emoji\n",
        "!pip install demoji\n",
        "!pip install contractions"
      ],
      "metadata": {
        "id": "asZkODAFFfqg"
      },
      "execution_count": null,
      "outputs": []
    },
    {
      "cell_type": "code",
      "source": [
        "from sklearn.model_selection import train_test_split\n",
        "from sklearn.feature_extraction.text import TfidfVectorizer\n",
        "from sklearn.metrics import accuracy_score, confusion_matrix, classification_report, f1_score\n",
        "from sklearn.naive_bayes import MultinomialNB\n",
        "from textblob import TextBlob\n",
        "import emot\n",
        "import nltk.data\n",
        "import numpy as np\n",
        "import pandas as pd\n",
        "import re\n",
        "import time\n",
        "import string\n",
        "import emoji\n",
        "import demoji\n",
        "import contractions\n",
        "import nltk\n",
        "nltk.download('omw-1.4')\n",
        "from sklearn.model_selection import train_test_split\n",
        "from sklearn.feature_extraction.text import TfidfVectorizer\n",
        "pd.set_option(\"max_colwidth\" ,220)\n",
        "wn = nltk.WordNetLemmatizer()\n",
        "nltk.download('wordnet')\n",
        "nltk.download('stopwords')\n",
        "stopwords = nltk.corpus.stopwords.words('english')"
      ],
      "metadata": {
        "colab": {
          "base_uri": "https://localhost:8080/"
        },
        "id": "NwvVljklFfnp",
        "outputId": "21326739-e1f4-4116-fdf8-3b723c6c49f7"
      },
      "execution_count": null,
      "outputs": [
        {
          "output_type": "stream",
          "name": "stderr",
          "text": [
            "[nltk_data] Downloading package omw-1.4 to /root/nltk_data...\n",
            "[nltk_data]   Package omw-1.4 is already up-to-date!\n",
            "[nltk_data] Downloading package wordnet to /root/nltk_data...\n",
            "[nltk_data]   Package wordnet is already up-to-date!\n",
            "[nltk_data] Downloading package stopwords to /root/nltk_data...\n",
            "[nltk_data]   Package stopwords is already up-to-date!\n"
          ]
        }
      ]
    },
    {
      "cell_type": "code",
      "source": [
        "demoji.download_codes()\n",
        "def emo(text):\n",
        "  temp=emoji.demojize(text,delimiters=(\" \",\" \"))\n",
        "  temp=temp.replace(\"_\",\"  \")\n",
        "  return temp"
      ],
      "metadata": {
        "colab": {
          "base_uri": "https://localhost:8080/"
        },
        "id": "KP61_mV0FpEd",
        "outputId": "0edc1416-c5db-4bce-e6e4-937fa885196b"
      },
      "execution_count": null,
      "outputs": [
        {
          "output_type": "stream",
          "name": "stderr",
          "text": [
            "<ipython-input-29-e00aa54160fe>:1: FutureWarning: The demoji.download_codes attribute is deprecated and will be removed from demoji in a future version. It is an unused attribute as emoji codes are now distributed directly with the demoji package.\n",
            "  demoji.download_codes()\n"
          ]
        }
      ]
    },
    {
      "cell_type": "code",
      "source": [
        "demoji.download_codes()\n",
        "def emo(text):\n",
        "  try:\n",
        "   temp=emoji.demojize(str(text),delimiters=(\" \",\" \"))\n",
        "   temp=temp.replace(\"_\",\"  \")\n",
        "   return temp\n",
        "  except IndexError:\n",
        "        return \"\""
      ],
      "metadata": {
        "colab": {
          "base_uri": "https://localhost:8080/"
        },
        "id": "YExerUiIFpCB",
        "outputId": "83e9e190-c58d-4e19-fa37-bf80c5733aa3"
      },
      "execution_count": null,
      "outputs": [
        {
          "output_type": "stream",
          "name": "stderr",
          "text": [
            "<ipython-input-30-82a5fb4117d1>:1: FutureWarning: The demoji.download_codes attribute is deprecated and will be removed from demoji in a future version. It is an unused attribute as emoji codes are now distributed directly with the demoji package.\n",
            "  demoji.download_codes()\n"
          ]
        }
      ]
    },
    {
      "cell_type": "code",
      "source": [
        "punct=\"!#$%&\\'()*+,-.’’/:;<=>?@[\\\\]^_`{|}~’“‘\""
      ],
      "metadata": {
        "id": "im0gK8JVFo-5"
      },
      "execution_count": null,
      "outputs": []
    },
    {
      "cell_type": "code",
      "source": [
        "string.punctuation"
      ],
      "metadata": {
        "colab": {
          "base_uri": "https://localhost:8080/",
          "height": 35
        },
        "id": "bIrCTt9rFo74",
        "outputId": "9142193d-d04b-4a9a-8324-2c0b0ea0ecc4"
      },
      "execution_count": null,
      "outputs": [
        {
          "output_type": "execute_result",
          "data": {
            "text/plain": [
              "'!\"#$%&\\'()*+,-./:;<=>?@[\\\\]^_`{|}~'"
            ],
            "application/vnd.google.colaboratory.intrinsic+json": {
              "type": "string"
            }
          },
          "metadata": {},
          "execution_count": 32
        }
      ]
    },
    {
      "cell_type": "code",
      "source": [
        "def remove_urls(text):\n",
        "    url_pattern = re.compile(r'https?://\\S+|www\\.\\S+')\n",
        "    return url_pattern.sub(r'', str(text))"
      ],
      "metadata": {
        "id": "I1VqZlqSFytZ"
      },
      "execution_count": null,
      "outputs": []
    },
    {
      "cell_type": "code",
      "source": [
        "def clean_text(text):\n",
        "    text = re.sub('@[a-zA-Z0-9]*', '', str(text))#to remove @ and its following word\n",
        "    text = contractions.fix(text, slang=True)\n",
        "    text = \"\".join([word.lower() for word in text if word not in string.punctuation]) #to remove punctuation\n",
        "    text=\"\".join([word.lower() for word in text if word not in punct])\n",
        "    text = \"\".join([word for word in text if not word.isdigit()])#to remove digit\n",
        "    text = \" \".join(word for word in text.split() if word not in stopwords)\n",
        "    return text"
      ],
      "metadata": {
        "id": "jGZk04rmFyoF"
      },
      "execution_count": null,
      "outputs": []
    },
    {
      "cell_type": "code",
      "source": [
        "import pandas as pd\n"
      ],
      "metadata": {
        "id": "8djmBUajdF1-"
      },
      "execution_count": null,
      "outputs": []
    },
    {
      "cell_type": "code",
      "execution_count": null,
      "metadata": {
        "id": "G3se8x9GSgDL"
      },
      "outputs": [],
      "source": [
        "bodo_train=pd.read_csv('/content/drive/MyDrive/hasoc/task4/bodo/train_BO_AH_HASOC2023.csv')\n",
        "bodo_test=pd.read_csv('/content/drive/MyDrive/hasoc/task4/bodo/test_BO_AH_HASOC2023.csv')"
      ]
    },
    {
      "cell_type": "code",
      "source": [
        "len(bodo_train)"
      ],
      "metadata": {
        "id": "8m8AyQckTGZU",
        "colab": {
          "base_uri": "https://localhost:8080/"
        },
        "outputId": "dc313696-e6c0-43e4-c91c-6720516078ff"
      },
      "execution_count": null,
      "outputs": [
        {
          "output_type": "execute_result",
          "data": {
            "text/plain": [
              "1679"
            ]
          },
          "metadata": {},
          "execution_count": 37
        }
      ]
    },
    {
      "cell_type": "code",
      "source": [
        "len(bodo_test)"
      ],
      "metadata": {
        "colab": {
          "base_uri": "https://localhost:8080/"
        },
        "id": "fC5wRuLs0-f6",
        "outputId": "c7aa5c04-c247-47d8-c96a-ca6879a1505e"
      },
      "execution_count": null,
      "outputs": [
        {
          "output_type": "execute_result",
          "data": {
            "text/plain": [
              "420"
            ]
          },
          "metadata": {},
          "execution_count": 38
        }
      ]
    },
    {
      "cell_type": "code",
      "source": [
        "bodo_train['task_1'].value_counts()"
      ],
      "metadata": {
        "colab": {
          "base_uri": "https://localhost:8080/"
        },
        "id": "tibMJt_eviga",
        "outputId": "bff7095e-aa7a-49a9-d211-2a9a8a385bf8"
      },
      "execution_count": null,
      "outputs": [
        {
          "output_type": "execute_result",
          "data": {
            "text/plain": [
              "HOF    998\n",
              "NOT    681\n",
              "Name: task_1, dtype: int64"
            ]
          },
          "metadata": {},
          "execution_count": 39
        }
      ]
    },
    {
      "cell_type": "code",
      "source": [
        "bodo_train.shape,bodo_test.shape"
      ],
      "metadata": {
        "colab": {
          "base_uri": "https://localhost:8080/"
        },
        "id": "9NfdNo8J0YAu",
        "outputId": "0154a5ee-5a72-4ffa-e16f-558ed01cff5b"
      },
      "execution_count": null,
      "outputs": [
        {
          "output_type": "execute_result",
          "data": {
            "text/plain": [
              "((1679, 3), (420, 2))"
            ]
          },
          "metadata": {},
          "execution_count": 40
        }
      ]
    },
    {
      "cell_type": "code",
      "source": [
        "bodo_train['clean_text'] = bodo_train['text'].apply(lambda x:emo(x))\n",
        "bodo_train['clean_text'] = bodo_train['clean_text'].apply(lambda x:remove_urls(x))\n",
        "bodo_train['clean_text'] = bodo_train['clean_text'].apply(lambda x:clean_text(x))"
      ],
      "metadata": {
        "id": "uAg8FJS5FyiJ"
      },
      "execution_count": null,
      "outputs": []
    },
    {
      "cell_type": "code",
      "source": [
        "bodo_train['clean_text']"
      ],
      "metadata": {
        "colab": {
          "base_uri": "https://localhost:8080/"
        },
        "id": "PKRBnDbw1SBx",
        "outputId": "937423bf-238a-4ac2-dab7-bdeaa4a5d57c"
      },
      "execution_count": null,
      "outputs": [
        {
          "output_type": "execute_result",
          "data": {
            "text/plain": [
              "0                                                                                                 गोदाव खामानि मावओ बोला नो सानसे देरहा थारगोन\n",
              "1                                                                                                                      निखावरि सुबुंफोरा सिखाव\n",
              "2                                                                                                   मा बिमा खर परिबर्थननि खोथा फैखो बेयाव मोसौ\n",
              "3                                                                                                      थोद जामबा सैमा साला मा मिसेस जाखो बेलाय\n",
              "4                                                      माखौ बकिबाय थादों नों बोरमा फानथा दम दंब्ला खामानि मावना दिन्थि बिनि उनाव बखि सैमा साला\n",
              "                                                                         ...                                                                  \n",
              "1674                                                                   नोंलाय जामबा नोंबो सासे सनमान गैयै मानसिसो गिदिरसिन मानसिखौ मुं मुखग्रा\n",
              "1675    एै मावजि लाब गैया दानो बनद खालामनायनि खोथा बुंबानो गाबोननो गरनैसो होलाय होनबानो जाबाय लागाव बुंग्रासो जागोन नोंसोरबायदि मावजि सादुफोरा\n",
              "1676                                                                                                                 सिखला फुरकव रपे खलामनांगव\n",
              "1677                                                                                                             सेनदेल खुबै नांगौलै सालाफोरखौ\n",
              "1678                                                  राकेस बोरमा सिखावजोंनो थाफाहैदोलै नोंबो आदै जानला मोनला जों जानला मोनला मिलायखायो नोंसोर\n",
              "Name: clean_text, Length: 1679, dtype: object"
            ]
          },
          "metadata": {},
          "execution_count": 42
        }
      ]
    },
    {
      "cell_type": "code",
      "source": [
        "bodo_test['clean_text'] = bodo_test['text'].apply(lambda x:emo(x))\n",
        "bodo_test['clean_text'] = bodo_test['clean_text'].apply(lambda x:remove_urls(x))\n",
        "bodo_test['clean_text'] = bodo_test['clean_text'].apply(lambda x:clean_text(x))"
      ],
      "metadata": {
        "id": "IQ27ZJLM1Mqo"
      },
      "execution_count": null,
      "outputs": []
    },
    {
      "cell_type": "code",
      "source": [
        "bodo_test['clean_text']"
      ],
      "metadata": {
        "colab": {
          "base_uri": "https://localhost:8080/"
        },
        "id": "1kTq-DyX1X6r",
        "outputId": "cc45a6ec-4ad7-4001-a352-e8cd97e941e7"
      },
      "execution_count": null,
      "outputs": [
        {
          "output_type": "execute_result",
          "data": {
            "text/plain": [
              "0                                                                                                      bpf बानाय लांनाय लामाया बोसोरानो जोरासै\n",
              "1                                                                                  बै समाव माबेयाव हाबसोनानै दंमोन नोंलाय दाना बुजिना जाथारबाय\n",
              "2      बे थांखिखौ मिनिग्रापोरा हारिखौ लेवारपोरबायदि थै सोबग्रासो। राजनिथिक गादिनि गोदै गोबाब स्वाद मोनजानानै गावनि हारिखौ निन्दिग्रा मिनिग्रा।\n",
              "3                                                                                                         मोसौ खुगायाव एमफौ नांबाय नोंनाव सैमा\n",
              "4                                                                     आव btc गोरोबथा जादों बेनि थाखाय बो थोजासे सम होदों नाथाय राज्योराजाफोरखौ\n",
              "                                                                        ...                                                                   \n",
              "415                                                                                                                      आं आनो खाजा होआखै मोन\n",
              "416                                                                                        बियो आंखौ बिनि बिमा बिफा बुथारनायनि थाखाय दायनिगिरि\n",
              "417                                                                                                           राहुलआ गावनि फोरोंगिरिखौ मान होआ\n",
              "418                                                                                                           राकेशआ गावनि फोरोंगिरिखौ मान होआ\n",
              "419                                                                                                            रमेशआ निखावरि मानसिखौ रायज्लाया\n",
              "Name: clean_text, Length: 420, dtype: object"
            ]
          },
          "metadata": {},
          "execution_count": 44
        }
      ]
    },
    {
      "cell_type": "code",
      "source": [
        "import regex\n",
        "def custom_analyzer(text):\n",
        "    words = regex.findall(r'\\w{2,}', text) #extract words of at least 2 letters\n",
        "#     for w in words:\n",
        "    for w in words:\n",
        "      yield w"
      ],
      "metadata": {
        "id": "x9Fdd1lXFylS"
      },
      "execution_count": null,
      "outputs": []
    },
    {
      "cell_type": "code",
      "source": [
        "X_train=bodo_train['clean_text']\n",
        "X_test=bodo_test['clean_text']\n",
        "y_train=bodo_train['task_1']"
      ],
      "metadata": {
        "id": "dCjkV6l_vnIa"
      },
      "execution_count": null,
      "outputs": []
    },
    {
      "cell_type": "code",
      "source": [
        "#feature extraction\n",
        "# word level tf-idf\n",
        "tfidf_vect1 = TfidfVectorizer(analyzer=custom_analyzer)\n",
        "tfidf_vect1.fit(X_train)\n",
        "xtrain_tfidf1 =  tfidf_vect1.transform(X_train)\n",
        "xtest_tfidf1=  tfidf_vect1.transform(X_test)"
      ],
      "metadata": {
        "id": "0W3gYJWbG_CB"
      },
      "execution_count": null,
      "outputs": []
    },
    {
      "cell_type": "code",
      "source": [
        "xtrain_tfidf1 .shape,xtest_tfidf1.shape"
      ],
      "metadata": {
        "colab": {
          "base_uri": "https://localhost:8080/"
        },
        "id": "G23JZ5Mc3mF_",
        "outputId": "86a07d32-33d9-4ff2-8a10-8702e5b4d066"
      },
      "execution_count": null,
      "outputs": [
        {
          "output_type": "execute_result",
          "data": {
            "text/plain": [
              "((1679, 4741), (420, 4741))"
            ]
          },
          "metadata": {},
          "execution_count": 48
        }
      ]
    },
    {
      "cell_type": "code",
      "source": [
        "from sklearn.svm import SVC\n",
        "svm = SVC()\n",
        "\n",
        "svm .fit(xtrain_tfidf1, y_train)\n",
        "\n",
        "y_pred = svm.predict(xtest_tfidf1)\n"
      ],
      "metadata": {
        "id": "tEJDq78Z2UyB"
      },
      "execution_count": null,
      "outputs": []
    },
    {
      "cell_type": "code",
      "source": [
        "#Submission\n",
        "# to create .csv file consisting of tweet ids and predicted labels\n",
        "y_pred_df= pd.DataFrame(data=y_pred, columns=['y_pred'])\n",
        "Submisssion_bodo = pd.DataFrame()\n",
        "Submisssion_bodo['S. No.'] = bodo_test['S. No.']\n",
        "Submisssion_bodo['task_1'] = y_pred_df\n",
        "Submisssion_bodo.to_csv('/content/drive/MyDrive/MUCS_test_bodo_run1.csv',index = None)"
      ],
      "metadata": {
        "id": "JSzvTqCHxpNH"
      },
      "execution_count": null,
      "outputs": []
    },
    {
      "cell_type": "code",
      "source": [
        "from sklearn.model_selection import cross_val_score\n",
        "from sklearn.linear_model import LogisticRegression\n",
        "from sklearn.naive_bayes import BernoulliNB\n",
        "from sklearn.ensemble import VotingClassifier\n",
        "from sklearn.svm import LinearSVC\n",
        "\n",
        "clf1 = LogisticRegression(random_state=1)\n",
        "clf2 = BernoulliNB()\n",
        "clf3 = LinearSVC(penalty='l2',C=1.0)\n",
        "\n",
        "eclf = VotingClassifier(estimators=[('LR', clf1), ('BNB', clf2),\n",
        "('SVC', clf3)], voting='hard')\n",
        "eclf = eclf.fit(xtrain_tfidf1, y_train)\n",
        "y_pred_df = eclf.predict(xtest_tfidf1)\n",
        "print(y_pred_df)"
      ],
      "metadata": {
        "colab": {
          "base_uri": "https://localhost:8080/"
        },
        "id": "EqEI3Su5ftXF",
        "outputId": "90effd1b-2877-4504-d17d-2824139c6830"
      },
      "execution_count": null,
      "outputs": [
        {
          "output_type": "stream",
          "name": "stdout",
          "text": [
            "['NOT' 'NOT' 'HOF' 'HOF' 'NOT' 'HOF' 'HOF' 'HOF' 'NOT' 'HOF' 'NOT' 'NOT'\n",
            " 'HOF' 'NOT' 'NOT' 'HOF' 'HOF' 'HOF' 'HOF' 'NOT' 'HOF' 'NOT' 'NOT' 'HOF'\n",
            " 'HOF' 'NOT' 'HOF' 'HOF' 'HOF' 'HOF' 'NOT' 'NOT' 'HOF' 'HOF' 'HOF' 'NOT'\n",
            " 'HOF' 'NOT' 'HOF' 'HOF' 'HOF' 'HOF' 'HOF' 'NOT' 'HOF' 'NOT' 'HOF' 'NOT'\n",
            " 'HOF' 'HOF' 'HOF' 'NOT' 'NOT' 'HOF' 'HOF' 'HOF' 'HOF' 'NOT' 'HOF' 'HOF'\n",
            " 'HOF' 'HOF' 'HOF' 'HOF' 'HOF' 'NOT' 'HOF' 'NOT' 'HOF' 'HOF' 'HOF' 'HOF'\n",
            " 'HOF' 'HOF' 'HOF' 'HOF' 'HOF' 'HOF' 'HOF' 'HOF' 'HOF' 'HOF' 'HOF' 'HOF'\n",
            " 'HOF' 'HOF' 'HOF' 'HOF' 'HOF' 'HOF' 'HOF' 'HOF' 'HOF' 'HOF' 'HOF' 'NOT'\n",
            " 'NOT' 'HOF' 'HOF' 'HOF' 'HOF' 'HOF' 'HOF' 'HOF' 'HOF' 'HOF' 'HOF' 'HOF'\n",
            " 'HOF' 'HOF' 'HOF' 'HOF' 'HOF' 'HOF' 'HOF' 'HOF' 'HOF' 'HOF' 'HOF' 'NOT'\n",
            " 'NOT' 'HOF' 'HOF' 'NOT' 'HOF' 'NOT' 'NOT' 'HOF' 'HOF' 'HOF' 'NOT' 'HOF'\n",
            " 'HOF' 'HOF' 'HOF' 'HOF' 'HOF' 'HOF' 'HOF' 'HOF' 'HOF' 'HOF' 'HOF' 'HOF'\n",
            " 'HOF' 'HOF' 'HOF' 'HOF' 'HOF' 'HOF' 'HOF' 'HOF' 'HOF' 'HOF' 'HOF' 'HOF'\n",
            " 'HOF' 'HOF' 'HOF' 'HOF' 'HOF' 'HOF' 'HOF' 'HOF' 'HOF' 'HOF' 'HOF' 'HOF'\n",
            " 'HOF' 'HOF' 'HOF' 'HOF' 'HOF' 'HOF' 'HOF' 'HOF' 'HOF' 'HOF' 'HOF' 'HOF'\n",
            " 'HOF' 'HOF' 'HOF' 'NOT' 'NOT' 'HOF' 'NOT' 'NOT' 'NOT' 'HOF' 'HOF' 'NOT'\n",
            " 'NOT' 'HOF' 'HOF' 'HOF' 'HOF' 'NOT' 'HOF' 'HOF' 'HOF' 'NOT' 'HOF' 'NOT'\n",
            " 'NOT' 'NOT' 'NOT' 'NOT' 'NOT' 'HOF' 'NOT' 'HOF' 'NOT' 'NOT' 'NOT' 'HOF'\n",
            " 'HOF' 'HOF' 'HOF' 'HOF' 'HOF' 'HOF' 'NOT' 'NOT' 'NOT' 'NOT' 'HOF' 'NOT'\n",
            " 'HOF' 'NOT' 'NOT' 'NOT' 'NOT' 'NOT' 'HOF' 'HOF' 'NOT' 'HOF' 'HOF' 'HOF'\n",
            " 'HOF' 'HOF' 'NOT' 'NOT' 'NOT' 'NOT' 'HOF' 'HOF' 'HOF' 'HOF' 'HOF' 'HOF'\n",
            " 'HOF' 'HOF' 'HOF' 'HOF' 'HOF' 'NOT' 'NOT' 'NOT' 'HOF' 'NOT' 'HOF' 'HOF'\n",
            " 'NOT' 'NOT' 'NOT' 'NOT' 'NOT' 'HOF' 'HOF' 'HOF' 'HOF' 'HOF' 'HOF' 'NOT'\n",
            " 'HOF' 'HOF' 'HOF' 'HOF' 'HOF' 'HOF' 'HOF' 'HOF' 'HOF' 'HOF' 'HOF' 'HOF'\n",
            " 'HOF' 'HOF' 'HOF' 'HOF' 'HOF' 'HOF' 'HOF' 'HOF' 'HOF' 'HOF' 'HOF' 'HOF'\n",
            " 'HOF' 'HOF' 'HOF' 'HOF' 'HOF' 'HOF' 'HOF' 'HOF' 'HOF' 'HOF' 'HOF' 'HOF'\n",
            " 'HOF' 'HOF' 'HOF' 'HOF' 'HOF' 'HOF' 'HOF' 'NOT' 'NOT' 'HOF' 'HOF' 'NOT'\n",
            " 'NOT' 'NOT' 'NOT' 'NOT' 'NOT' 'NOT' 'HOF' 'NOT' 'NOT' 'NOT' 'HOF' 'NOT'\n",
            " 'NOT' 'HOF' 'HOF' 'NOT' 'NOT' 'NOT' 'HOF' 'NOT' 'NOT' 'NOT' 'NOT' 'NOT'\n",
            " 'HOF' 'NOT' 'HOF' 'NOT' 'NOT' 'NOT' 'NOT' 'NOT' 'NOT' 'NOT' 'NOT' 'NOT'\n",
            " 'NOT' 'NOT' 'NOT' 'HOF' 'HOF' 'NOT' 'NOT' 'HOF' 'NOT' 'NOT' 'NOT' 'NOT'\n",
            " 'NOT' 'NOT' 'NOT' 'NOT' 'HOF' 'NOT' 'NOT' 'NOT' 'NOT' 'HOF' 'NOT' 'NOT'\n",
            " 'NOT' 'HOF' 'HOF' 'HOF' 'HOF' 'HOF' 'HOF' 'HOF' 'HOF' 'HOF' 'HOF' 'HOF'\n",
            " 'HOF' 'NOT' 'NOT' 'NOT' 'NOT' 'NOT' 'NOT' 'NOT' 'NOT' 'NOT' 'HOF' 'NOT'\n",
            " 'NOT' 'HOF' 'HOF' 'NOT' 'HOF' 'HOF' 'HOF' 'NOT' 'HOF' 'HOF' 'HOF' 'HOF']\n"
          ]
        }
      ]
    },
    {
      "cell_type": "code",
      "source": [
        "#Submission\n",
        "# to create .csv file consisting of tweet ids and predicted labels\n",
        "y_pred_df= pd.DataFrame(data=y_pred, columns=['y_pred'])\n",
        "Submisssion_bodo = pd.DataFrame()\n",
        "Submisssion_bodo['S. No.'] = bodo_test['S. No.']\n",
        "Submisssion_bodo['task_1'] = y_pred_df\n",
        "Submisssion_bodo.to_csv('/content/drive/MyDrive/MUCS_test_bodo_run2.csv',index = None)"
      ],
      "metadata": {
        "id": "ZRjp6RnGCeLS"
      },
      "execution_count": null,
      "outputs": []
    }
  ]
}