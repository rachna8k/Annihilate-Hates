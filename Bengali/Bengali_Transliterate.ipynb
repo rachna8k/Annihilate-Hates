{
  "nbformat": 4,
  "nbformat_minor": 0,
  "metadata": {
    "colab": {
      "provenance": []
    },
    "kernelspec": {
      "name": "python3",
      "display_name": "Python 3"
    },
    "language_info": {
      "name": "python"
    }
  },
  "cells": [
    {
      "cell_type": "markdown",
      "source": [
        "Task 4 :Bengali\n",
        "Transliterate to english and using char TF-IDF with SVM and Ensemble model"
      ],
      "metadata": {
        "id": "HvSygSUaER3d"
      }
    },
    {
      "cell_type": "markdown",
      "source": [
        "Train dataset(splitting)"
      ],
      "metadata": {
        "id": "kRADdQV3mXCZ"
      }
    },
    {
      "cell_type": "code",
      "source": [
        "from google.colab import drive\n",
        "drive.mount('/content/drive')"
      ],
      "metadata": {
        "colab": {
          "base_uri": "https://localhost:8080/"
        },
        "id": "wCrFxT8RSr6g",
        "outputId": "94ca23f0-b8a4-41a5-b958-28c7dbdb0d1e"
      },
      "execution_count": null,
      "outputs": [
        {
          "output_type": "stream",
          "name": "stdout",
          "text": [
            "Mounted at /content/drive\n"
          ]
        }
      ]
    },
    {
      "cell_type": "code",
      "source": [
        "!pip install emot --upgrade\n",
        "# to convert emojis to text\n",
        "!pip install emoji\n",
        "#to expand a contracted words\n",
        "!pip install demoji\n",
        "!pip install contractions"
      ],
      "metadata": {
        "colab": {
          "base_uri": "https://localhost:8080/"
        },
        "id": "asZkODAFFfqg",
        "outputId": "618eb71d-dcbf-4666-d934-76ecc6f37817"
      },
      "execution_count": null,
      "outputs": [
        {
          "output_type": "stream",
          "name": "stdout",
          "text": [
            "Collecting emot\n",
            "  Downloading emot-3.1-py3-none-any.whl (61 kB)\n",
            "\u001b[?25l     \u001b[90m━━━━━━━━━━━━━━━━━━━━━━━━━━━━━━━━━━━━━━━━\u001b[0m \u001b[32m0.0/61.5 kB\u001b[0m \u001b[31m?\u001b[0m eta \u001b[36m-:--:--\u001b[0m\r\u001b[2K     \u001b[91m━━━━━━━━━━━━━━━━━━━\u001b[0m\u001b[90m╺\u001b[0m\u001b[90m━━━━━━━━━━━━━━━━━━━\u001b[0m \u001b[32m30.7/61.5 kB\u001b[0m \u001b[31m616.2 kB/s\u001b[0m eta \u001b[36m0:00:01\u001b[0m\r\u001b[2K     \u001b[90m━━━━━━━━━━━━━━━━━━━━━━━━━━━━━━━━━━━━━━━\u001b[0m \u001b[32m61.5/61.5 kB\u001b[0m \u001b[31m752.3 kB/s\u001b[0m eta \u001b[36m0:00:00\u001b[0m\n",
            "\u001b[?25hInstalling collected packages: emot\n",
            "Successfully installed emot-3.1\n",
            "Collecting emoji\n",
            "  Downloading emoji-2.8.0-py2.py3-none-any.whl (358 kB)\n",
            "\u001b[2K     \u001b[90m━━━━━━━━━━━━━━━━━━━━━━━━━━━━━━━━━━━━━━━\u001b[0m \u001b[32m358.9/358.9 kB\u001b[0m \u001b[31m6.5 MB/s\u001b[0m eta \u001b[36m0:00:00\u001b[0m\n",
            "\u001b[?25hInstalling collected packages: emoji\n",
            "Successfully installed emoji-2.8.0\n",
            "Collecting demoji\n",
            "  Downloading demoji-1.1.0-py3-none-any.whl (42 kB)\n",
            "\u001b[2K     \u001b[90m━━━━━━━━━━━━━━━━━━━━━━━━━━━━━━━━━━━━━━━\u001b[0m \u001b[32m42.9/42.9 kB\u001b[0m \u001b[31m892.5 kB/s\u001b[0m eta \u001b[36m0:00:00\u001b[0m\n",
            "\u001b[?25hInstalling collected packages: demoji\n",
            "Successfully installed demoji-1.1.0\n",
            "Collecting contractions\n",
            "  Downloading contractions-0.1.73-py2.py3-none-any.whl (8.7 kB)\n",
            "Collecting textsearch>=0.0.21 (from contractions)\n",
            "  Downloading textsearch-0.0.24-py2.py3-none-any.whl (7.6 kB)\n",
            "Collecting anyascii (from textsearch>=0.0.21->contractions)\n",
            "  Downloading anyascii-0.3.2-py3-none-any.whl (289 kB)\n",
            "\u001b[2K     \u001b[90m━━━━━━━━━━━━━━━━━━━━━━━━━━━━━━━━━━━━━━━\u001b[0m \u001b[32m289.9/289.9 kB\u001b[0m \u001b[31m7.1 MB/s\u001b[0m eta \u001b[36m0:00:00\u001b[0m\n",
            "\u001b[?25hCollecting pyahocorasick (from textsearch>=0.0.21->contractions)\n",
            "  Downloading pyahocorasick-2.0.0-cp310-cp310-manylinux_2_5_x86_64.manylinux1_x86_64.manylinux_2_12_x86_64.manylinux2010_x86_64.whl (110 kB)\n",
            "\u001b[2K     \u001b[90m━━━━━━━━━━━━━━━━━━━━━━━━━━━━━━━━━━━━━━\u001b[0m \u001b[32m110.8/110.8 kB\u001b[0m \u001b[31m13.6 MB/s\u001b[0m eta \u001b[36m0:00:00\u001b[0m\n",
            "\u001b[?25hInstalling collected packages: pyahocorasick, anyascii, textsearch, contractions\n",
            "Successfully installed anyascii-0.3.2 contractions-0.1.73 pyahocorasick-2.0.0 textsearch-0.0.24\n"
          ]
        }
      ]
    },
    {
      "cell_type": "code",
      "source": [
        "from sklearn.model_selection import train_test_split\n",
        "from sklearn.feature_extraction.text import TfidfVectorizer\n",
        "from sklearn.metrics import accuracy_score, confusion_matrix, classification_report, f1_score\n",
        "from sklearn.naive_bayes import MultinomialNB\n",
        "from textblob import TextBlob\n",
        "import emot\n",
        "import nltk.data\n",
        "import numpy as np\n",
        "import pandas as pd\n",
        "import re\n",
        "import time\n",
        "import string\n",
        "import emoji\n",
        "import demoji\n",
        "import contractions\n",
        "import nltk\n",
        "nltk.download('omw-1.4')\n",
        "from sklearn.model_selection import train_test_split\n",
        "from sklearn.feature_extraction.text import TfidfVectorizer\n",
        "pd.set_option(\"max_colwidth\" ,220)\n",
        "wn = nltk.WordNetLemmatizer()\n",
        "nltk.download('wordnet')\n",
        "nltk.download('stopwords')\n",
        "stopwords = nltk.corpus.stopwords.words('english')"
      ],
      "metadata": {
        "colab": {
          "base_uri": "https://localhost:8080/"
        },
        "id": "NwvVljklFfnp",
        "outputId": "b769aba1-ba79-4010-d143-177bc77e314d"
      },
      "execution_count": null,
      "outputs": [
        {
          "output_type": "stream",
          "name": "stderr",
          "text": [
            "[nltk_data] Downloading package omw-1.4 to /root/nltk_data...\n",
            "[nltk_data] Downloading package wordnet to /root/nltk_data...\n",
            "[nltk_data] Downloading package stopwords to /root/nltk_data...\n",
            "[nltk_data]   Unzipping corpora/stopwords.zip.\n"
          ]
        }
      ]
    },
    {
      "cell_type": "code",
      "source": [
        "import nltk\n",
        "nltk.download('stopwords')\n",
        "from nltk.corpus import stopwords\n",
        "\n",
        "english_stopwords = stopwords.words(\"english\")\n",
        "with open('/content/drive/MyDrive/Hasoc 2023/Task 4/Bengali/bn.txt', encoding = 'utf-8') as f:\n",
        "    ben_stopwords = f.readlines()\n",
        "    for i in range(len(ben_stopwords)):\n",
        "        ben_stopwords[i] = re.sub('\\n','', ben_stopwords[i])\n",
        "stopwords = english_stopwords + ben_stopwords\n",
        "#english_stemmer = SnowballStemmer(\"english\")"
      ],
      "metadata": {
        "colab": {
          "base_uri": "https://localhost:8080/"
        },
        "id": "mqplcKXsEuLw",
        "outputId": "a1c72dc2-0b17-402f-83c8-eb6d50d42e7f"
      },
      "execution_count": null,
      "outputs": [
        {
          "output_type": "stream",
          "name": "stderr",
          "text": [
            "[nltk_data] Downloading package stopwords to /root/nltk_data...\n",
            "[nltk_data]   Package stopwords is already up-to-date!\n"
          ]
        }
      ]
    },
    {
      "cell_type": "code",
      "source": [
        "demoji.download_codes()\n",
        "def emo(text):\n",
        "  temp=emoji.demojize(text,delimiters=(\" \",\" \"))\n",
        "  temp=temp.replace(\"_\",\"  \")\n",
        "  return temp"
      ],
      "metadata": {
        "colab": {
          "base_uri": "https://localhost:8080/"
        },
        "id": "KP61_mV0FpEd",
        "outputId": "4f3038bd-f552-49ca-9fcc-cce7b285f22d"
      },
      "execution_count": null,
      "outputs": [
        {
          "output_type": "stream",
          "name": "stderr",
          "text": [
            "<ipython-input-5-e00aa54160fe>:1: FutureWarning: The demoji.download_codes attribute is deprecated and will be removed from demoji in a future version. It is an unused attribute as emoji codes are now distributed directly with the demoji package.\n",
            "  demoji.download_codes()\n"
          ]
        }
      ]
    },
    {
      "cell_type": "code",
      "source": [
        "punct=\"!#$%&\\'()*+,-.’’/:;<=>?@[\\\\]^_`{|}~’“‘\""
      ],
      "metadata": {
        "id": "im0gK8JVFo-5"
      },
      "execution_count": null,
      "outputs": []
    },
    {
      "cell_type": "code",
      "source": [
        "string.punctuation"
      ],
      "metadata": {
        "colab": {
          "base_uri": "https://localhost:8080/",
          "height": 36
        },
        "id": "bIrCTt9rFo74",
        "outputId": "b51b4d34-d9e8-4a91-ee16-63f30454cff8"
      },
      "execution_count": null,
      "outputs": [
        {
          "output_type": "execute_result",
          "data": {
            "text/plain": [
              "'!\"#$%&\\'()*+,-./:;<=>?@[\\\\]^_`{|}~'"
            ],
            "application/vnd.google.colaboratory.intrinsic+json": {
              "type": "string"
            }
          },
          "metadata": {},
          "execution_count": 7
        }
      ]
    },
    {
      "cell_type": "code",
      "source": [
        "def remove_urls(text):\n",
        "    url_pattern = re.compile(r'https?://\\S+|www\\.\\S+')\n",
        "    return url_pattern.sub(r'', str(text))"
      ],
      "metadata": {
        "id": "I1VqZlqSFytZ"
      },
      "execution_count": null,
      "outputs": []
    },
    {
      "cell_type": "code",
      "source": [
        "def clean_text(text):\n",
        "    text = re.sub('@[a-zA-Z0-9]*', '', str(text))#to remove @ and its following word\n",
        "    text = contractions.fix(text, slang=True)\n",
        "    text = \"\".join([word.lower() for word in text if word not in string.punctuation]) #to remove punctuation\n",
        "    text=\"\".join([word.lower() for word in text if word not in punct])\n",
        "    text = \"\".join([word for word in text if not word.isdigit()])#to remove digit\n",
        "    text = \" \".join(word for word in text.split() if word not in stopwords)\n",
        "    return text"
      ],
      "metadata": {
        "id": "jGZk04rmFyoF"
      },
      "execution_count": null,
      "outputs": []
    },
    {
      "cell_type": "code",
      "source": [
        "import pandas as pd\n"
      ],
      "metadata": {
        "id": "8djmBUajdF1-"
      },
      "execution_count": null,
      "outputs": []
    },
    {
      "cell_type": "code",
      "execution_count": null,
      "metadata": {
        "id": "G3se8x9GSgDL"
      },
      "outputs": [],
      "source": [
        "df1=pd.read_csv('/content/drive/MyDrive/Hasoc 2023/Task 4/Bengali/train_BE_AH_HASOC2023.csv')\n",
        "df2=pd.read_csv('/content/drive/MyDrive/Hasoc 2023/Task 4/Bengali/test_BE_AH_HASOC2023.csv')"
      ]
    },
    {
      "cell_type": "code",
      "source": [
        "df1['clean_text'] = df1['text'].apply(lambda x:emo(x))\n",
        "df1['clean_text'] = df1['clean_text'].apply(lambda x:remove_urls(x))\n",
        "df1['clean_text'] = df1['clean_text'].apply(lambda x:clean_text(x))"
      ],
      "metadata": {
        "id": "uAg8FJS5FyiJ"
      },
      "execution_count": null,
      "outputs": []
    },
    {
      "cell_type": "code",
      "source": [
        "df2['clean_text'] = df2['text'].apply(lambda x:emo(x))\n",
        "df2['clean_text'] = df2['clean_text'].apply(lambda x:remove_urls(x))\n",
        "df2['clean_text'] = df2['clean_text'].apply(lambda x:clean_text(x))"
      ],
      "metadata": {
        "id": "a9Vn3Q3rieIv"
      },
      "execution_count": null,
      "outputs": []
    },
    {
      "cell_type": "code",
      "source": [
        "df1['clean_text']"
      ],
      "metadata": {
        "colab": {
          "base_uri": "https://localhost:8080/"
        },
        "id": "RnjorvnBGwZU",
        "outputId": "6e67a13d-e717-45ac-c5db-d9564b3b27b1"
      },
      "execution_count": null,
      "outputs": [
        {
          "output_type": "execute_result",
          "data": {
            "text/plain": [
              "0                                                                                         শুনলাম মমতা ব্যানার্জি কোটা পদ্ধতি তুলে দিয়েছে তাহলে ব্রাত্য বসুর মুখে কোটা এটা কথার কথা তাহলে কোটা নিয়ে প্রাক্তন মুখ্যমন্ত্রীকে কটাক্ষ\n",
              "1       প্রত্যেক দলের প্রত্যেক মন্ত্রী এমএলএ এমপি এদের একটা নিজস্ব কোটা কোটায় তারা যাকে খুশি চাকরি দিতে পারেন এবং চিরকাল এনারা সবাই এভাবে চাকরি দিয়েও এসেছেন। বরাবরই সংবিধানে আজও আছে। এবং স্বাভাবিকভাবে যেই দলের এমপি এমএলএ ত...\n",
              "2       বিশ্ব জুড়ে বুদ্ধিজীবিদের সম্পর্ক থাকে বিশ্ববিদ্যালয়সেমিনার পাবলিশিং হাউস মিডিয়ার। বাংলায় দেখছি গরু চোরাকারবারিদের সাথে বুদ্ধিজীবীরা সম্পর্ক গড়ে তোলেছে।ভয় পাচ্ছি এরা বসে অর্থনীতির দিগন্ত খুলে দিয়েছে গরু চোরেরা নো...\n",
              "3       বছর শত শত মানুষ হত্যা করছে সীমান্তে গণতান্ত্রিক আইনের শাসনের দেশ ভারতের সীমান্তরক্ষীরা। পৃথিবীর কোন সভ্য দেশের সীমান্তে মানুষ মানুষকে গুলি হত্যা । ইউরোপের অষ্ট্রিয়া পর্তুগাল পর্যন্ত গাড়ি চালিয়ে যেতে পারেন কেও আপনাক...\n",
              "4                                                                                                                                                                         সমাজের সবথেকে দূষিত মানুষ এরাই খারাপ দেয় সমাজকে ছি ছি ছি\n",
              "                                                                                                                   ...                                                                                                             \n",
              "1276                                                                                                                                           নামতেই পারে thinking face মানুষ কত নিচে নেমে যাচ্ছে ঠিক নেই আপনি ipl আছেন man bowing\n",
              "1277                              আমার প্রশ্ন একজন কুস্তিগীর মহিলাকে গ্রেফতার করার জন্য জন পুলিশ কর্মির প্রয়োজন হচ্ছে সেখানে একজন বছরের বুজুর্গ কীভাবে রেপ করতে পারে। training কুস্তিগীর হয়ে লাভ নিজের সুরক্ষা নিজে করতে পারে না।\n",
              "1278                                                                           প্রধান শিক্ষিকা সমাজ তৈরির কারিগর সৎ নিষ্ঠাবান মানুষ এদের দেখলেই মাথা নত হয়ে আসে। মানুষ ডাকা উচিত নয় একটু অসৎ করেছেন। সৎ নিষ্ঠাবান মানুষ ডাকা উচিত\n",
              "1279                                                                                                                                                                                                  দূর্ভাগ্য ইনি শিক্ষা মন্ত্রী।\n",
              "1280                                                                                                                                                                                               ছাগল থাকলে শিক্ষা কোন উন্নতি হবে\n",
              "Name: clean_text, Length: 1281, dtype: object"
            ]
          },
          "metadata": {},
          "execution_count": 14
        }
      ]
    },
    {
      "cell_type": "code",
      "source": [
        "df2['clean_text']"
      ],
      "metadata": {
        "colab": {
          "base_uri": "https://localhost:8080/"
        },
        "id": "PKRBnDbw1SBx",
        "outputId": "accf1529-a5b6-444a-bb0c-f426b3498c08"
      },
      "execution_count": null,
      "outputs": [
        {
          "output_type": "execute_result",
          "data": {
            "text/plain": [
              "0                                                                                                                                         তাতে তোর কী চুলকুনি নারে সালা\n",
              "1                                                                                                                                                          চটি চাটা হবে\n",
              "2      kkr প্রসঙ্গ তুললে শাহরুখের ছবি দেয়া বাধ্যতামূলক শাহরুখ kkr সহমালিক পারে ক্রিকেটার নয়। ক্রিকেট এবং ক্রিকেটারকে ভালবেসে আপামর জনতা খেলা দেখে দলের মালিককে দেখে নয়।\n",
              "3                                                                                        হ্যা হ্যা ভিখিরি বলতেই পাশের দেশের লোকের লাগছে। যার নাম ধরে ডাকলেই চিনতে পারে।\n",
              "4                                                       এটা নিজের মেয়ের নাম রাখবেন নাম ধরে ডাকবেন beaming face smiling eyes grinning face sweat grinning squinting face\n",
              "                                                                                     ...                                                                               \n",
              "315                                                                                    এতো ম্যাচিউর কথাবার্তা শুনে ভালো লাগলো। প্রকৃত শিক্ষিত মানুষ এরকম কথাবার্তা বলে।\n",
              "316                                 জীবন ঝুকি রাজনীতি করতে যাবো।আমার আপনার জীবন চলে গেলে খারাপ জিনিসটা ভালো হবে উল্টে পরিবারের উপার্জিত ব্যক্তিটিকে হারাবে কাছের মানুষ।\n",
              "317                                                                     বলি মাথা টাকে কবে গ্রেপ্তার হবে নিরীহ মানুষ গুলোকে হেনস্থা কী লাভ অর্ডার আসলে এনারা মানতে বাধ্য\n",
              "318                                                                                                          ঠিকই বলেছে। ছাগলটা কখন এবং তার অর্থ বাংলার মানুষ বুঝলেই হল\n",
              "319                                                                                                                                                        লাগাও সায়নী\n",
              "Name: clean_text, Length: 320, dtype: object"
            ]
          },
          "metadata": {},
          "execution_count": 15
        }
      ]
    },
    {
      "cell_type": "markdown",
      "source": [
        "Transliteration"
      ],
      "metadata": {
        "id": "941VCqbdbgfY"
      }
    },
    {
      "cell_type": "code",
      "source": [
        "!git clone https://github.com/libindic/Transliteration.git"
      ],
      "metadata": {
        "colab": {
          "base_uri": "https://localhost:8080/"
        },
        "id": "7R5Xsv1IE4zJ",
        "outputId": "2f252337-ccf3-4752-fb50-c6ce3911bc6b"
      },
      "execution_count": null,
      "outputs": [
        {
          "output_type": "stream",
          "name": "stdout",
          "text": [
            "Cloning into 'Transliteration'...\n",
            "remote: Enumerating objects: 354, done.\u001b[K\n",
            "remote: Total 354 (delta 0), reused 0 (delta 0), pack-reused 354\u001b[K\n",
            "Receiving objects: 100% (354/354), 908.74 KiB | 10.82 MiB/s, done.\n",
            "Resolving deltas: 100% (169/169), done.\n"
          ]
        }
      ]
    },
    {
      "cell_type": "code",
      "source": [
        "pip install --upgrade pip"
      ],
      "metadata": {
        "colab": {
          "base_uri": "https://localhost:8080/"
        },
        "id": "tdVUzzQME4wn",
        "outputId": "fa6a77f3-43cc-485f-c80d-90ba4a840514"
      },
      "execution_count": null,
      "outputs": [
        {
          "output_type": "stream",
          "name": "stdout",
          "text": [
            "Requirement already satisfied: pip in /usr/local/lib/python3.10/dist-packages (23.1.2)\n",
            "Collecting pip\n",
            "  Downloading pip-23.2.1-py3-none-any.whl (2.1 MB)\n",
            "\u001b[2K     \u001b[90m━━━━━━━━━━━━━━━━━━━━━━━━━━━━━━━━━━━━━━━━\u001b[0m \u001b[32m2.1/2.1 MB\u001b[0m \u001b[31m19.7 MB/s\u001b[0m eta \u001b[36m0:00:00\u001b[0m\n",
            "\u001b[?25hInstalling collected packages: pip\n",
            "  Attempting uninstall: pip\n",
            "    Found existing installation: pip 23.1.2\n",
            "    Uninstalling pip-23.1.2:\n",
            "      Successfully uninstalled pip-23.1.2\n",
            "Successfully installed pip-23.2.1\n"
          ]
        }
      ]
    },
    {
      "cell_type": "code",
      "source": [
        "!python -m pip install --user virtualenv"
      ],
      "metadata": {
        "colab": {
          "base_uri": "https://localhost:8080/"
        },
        "id": "zfgcJKbjE4ty",
        "outputId": "af7b2711-e5cf-43dd-ca68-e15a9796e587"
      },
      "execution_count": null,
      "outputs": [
        {
          "output_type": "stream",
          "name": "stdout",
          "text": [
            "Collecting virtualenv\n",
            "  Obtaining dependency information for virtualenv from https://files.pythonhosted.org/packages/17/8d/6989e5dcd812520cbf9f31be2b08643ae3a895586601bbab501df8ed6e54/virtualenv-20.24.3-py3-none-any.whl.metadata\n",
            "  Downloading virtualenv-20.24.3-py3-none-any.whl.metadata (4.5 kB)\n",
            "Collecting distlib<1,>=0.3.7 (from virtualenv)\n",
            "  Obtaining dependency information for distlib<1,>=0.3.7 from https://files.pythonhosted.org/packages/43/a0/9ba967fdbd55293bacfc1507f58e316f740a3b231fc00e3d86dc39bc185a/distlib-0.3.7-py2.py3-none-any.whl.metadata\n",
            "  Downloading distlib-0.3.7-py2.py3-none-any.whl.metadata (5.1 kB)\n",
            "Requirement already satisfied: filelock<4,>=3.12.2 in /usr/local/lib/python3.10/dist-packages (from virtualenv) (3.12.2)\n",
            "Requirement already satisfied: platformdirs<4,>=3.9.1 in /usr/local/lib/python3.10/dist-packages (from virtualenv) (3.10.0)\n",
            "Downloading virtualenv-20.24.3-py3-none-any.whl (3.0 MB)\n",
            "\u001b[2K   \u001b[90m━━━━━━━━━━━━━━━━━━━━━━━━━━━━━━━━━━━━━━━━\u001b[0m \u001b[32m3.0/3.0 MB\u001b[0m \u001b[31m22.1 MB/s\u001b[0m eta \u001b[36m0:00:00\u001b[0m\n",
            "\u001b[?25hDownloading distlib-0.3.7-py2.py3-none-any.whl (468 kB)\n",
            "\u001b[2K   \u001b[90m━━━━━━━━━━━━━━━━━━━━━━━━━━━━━━━━━━━━━━━━\u001b[0m \u001b[32m468.9/468.9 kB\u001b[0m \u001b[31m36.0 MB/s\u001b[0m eta \u001b[36m0:00:00\u001b[0m\n",
            "\u001b[?25hInstalling collected packages: distlib, virtualenv\n",
            "\u001b[33m  WARNING: The script virtualenv is installed in '/root/.local/bin' which is not on PATH.\n",
            "  Consider adding this directory to PATH or, if you prefer to suppress this warning, use --no-warn-script-location.\u001b[0m\u001b[33m\n",
            "\u001b[0mSuccessfully installed distlib-0.3.7 virtualenv-20.24.3\n",
            "\u001b[33mWARNING: Running pip as the 'root' user can result in broken permissions and conflicting behaviour with the system package manager. It is recommended to use a virtual environment instead: https://pip.pypa.io/warnings/venv\u001b[0m\u001b[33m\n",
            "\u001b[0m"
          ]
        }
      ]
    },
    {
      "cell_type": "code",
      "source": [
        "!python -m virtualenv env"
      ],
      "metadata": {
        "colab": {
          "base_uri": "https://localhost:8080/"
        },
        "id": "P1MxAo_IE4qy",
        "outputId": "4432bf67-ff57-4b38-b7cb-821a951e4121"
      },
      "execution_count": null,
      "outputs": [
        {
          "output_type": "stream",
          "name": "stdout",
          "text": [
            "created virtual environment CPython3.10.12.final.0-64 in 1467ms\n",
            "  creator CPython3Posix(dest=/content/env, clear=False, no_vcs_ignore=False, global=False)\n",
            "  seeder FromAppData(download=False, pip=bundle, setuptools=bundle, wheel=bundle, via=copy, app_data_dir=/root/.local/share/virtualenv)\n",
            "    added seed packages: pip==23.2.1, setuptools==68.0.0, wheel==0.41.1\n",
            "  activators BashActivator,CShellActivator,FishActivator,NushellActivator,PowerShellActivator,PythonActivator\n"
          ]
        }
      ]
    },
    {
      "cell_type": "code",
      "source": [
        "!source env/bin/activate"
      ],
      "metadata": {
        "id": "pvvh0r9kE4oV"
      },
      "execution_count": null,
      "outputs": []
    },
    {
      "cell_type": "code",
      "source": [
        "pwd"
      ],
      "metadata": {
        "colab": {
          "base_uri": "https://localhost:8080/",
          "height": 36
        },
        "id": "oY4XH7nXE4le",
        "outputId": "919da6ca-c8f8-4ff9-d40a-c83e5a41a9a4"
      },
      "execution_count": null,
      "outputs": [
        {
          "output_type": "execute_result",
          "data": {
            "text/plain": [
              "'/content'"
            ],
            "application/vnd.google.colaboratory.intrinsic+json": {
              "type": "string"
            }
          },
          "metadata": {},
          "execution_count": 21
        }
      ]
    },
    {
      "cell_type": "code",
      "source": [
        "!pip install -r '/content/Transliteration/requirements.txt'"
      ],
      "metadata": {
        "colab": {
          "base_uri": "https://localhost:8080/"
        },
        "id": "TPZKKpFeE4i0",
        "outputId": "318051c2-0739-4aca-8b57-e745f1ca5a86"
      },
      "execution_count": null,
      "outputs": [
        {
          "output_type": "stream",
          "name": "stdout",
          "text": [
            "Collecting libindic_normalizer (from -r /content/Transliteration/requirements.txt (line 2))\n",
            "  Cloning https://github.com/libindic/normalizer.git to /tmp/pip-install-aq_kqtbh/libindic-normalizer_8e95536530e548d782981c56920c25a9\n",
            "  Running command git clone --filter=blob:none --quiet https://github.com/libindic/normalizer.git /tmp/pip-install-aq_kqtbh/libindic-normalizer_8e95536530e548d782981c56920c25a9\n",
            "  Resolved https://github.com/libindic/normalizer.git to commit 88447f611e44ddfc9e9c6696650671afc10c25ae\n",
            "  Preparing metadata (setup.py) ... \u001b[?25l\u001b[?25hdone\n",
            "Ignoring repoze.lru: markers 'python_version < \"3\"' don't match your environment\n",
            "Collecting libindic-utils (from -r /content/Transliteration/requirements.txt (line 1))\n",
            "  Downloading libindic-utils-1.0.3.tar.gz (10 kB)\n",
            "  Preparing metadata (setup.py) ... \u001b[?25l\u001b[?25hdone\n",
            "Building wheels for collected packages: libindic-utils, libindic_normalizer\n",
            "  Building wheel for libindic-utils (setup.py) ... \u001b[?25l\u001b[?25hdone\n",
            "  Created wheel for libindic-utils: filename=libindic_utils-1.0.3-py3-none-any.whl size=9686 sha256=86c5a31021390844af488d1ef7de03c76cc978f12e18487c26001ca7fb10efce\n",
            "  Stored in directory: /root/.cache/pip/wheels/a9/50/5f/64d267b1b00db903376596b944d6d7ca80ad721254d6eff902\n",
            "  Building wheel for libindic_normalizer (setup.py) ... \u001b[?25l\u001b[?25hdone\n",
            "  Created wheel for libindic_normalizer: filename=libindic_normalizer-0.0.0-py2.py3-none-any.whl size=6359 sha256=9b1d4a89facd39dfa8facea3edf9304f7f72630aeea32703dcfb237dd1cd0672\n",
            "  Stored in directory: /tmp/pip-ephem-wheel-cache-94dovdh6/wheels/46/dd/9e/b55c7c48536d01f7bcd0a367af85c36b0287eb8fb5727232f8\n",
            "Successfully built libindic-utils libindic_normalizer\n",
            "Installing collected packages: libindic-utils, libindic_normalizer\n",
            "Successfully installed libindic-utils-1.0.3 libindic_normalizer-0.0.0\n",
            "\u001b[33mWARNING: Running pip as the 'root' user can result in broken permissions and conflicting behaviour with the system package manager. It is recommended to use a virtual environment instead: https://pip.pypa.io/warnings/venv\u001b[0m\u001b[33m\n",
            "\u001b[0m"
          ]
        }
      ]
    },
    {
      "cell_type": "code",
      "source": [
        "!pip install  '/content/Transliteration/.'"
      ],
      "metadata": {
        "colab": {
          "base_uri": "https://localhost:8080/"
        },
        "id": "IZERkR3_E4fN",
        "outputId": "b3ca593d-fe57-4c36-eae2-3075d714b025"
      },
      "execution_count": null,
      "outputs": [
        {
          "output_type": "stream",
          "name": "stdout",
          "text": [
            "Processing ./Transliteration\n",
            "  Preparing metadata (setup.py) ... \u001b[?25l\u001b[?25hdone\n",
            "Building wheels for collected packages: libindic.transliteration\n",
            "  Building wheel for libindic.transliteration (setup.py) ... \u001b[?25l\u001b[?25hdone\n",
            "  Created wheel for libindic.transliteration: filename=libindic.transliteration-0.4.1-py3-none-any.whl size=851872 sha256=a8fb3ae5f80014d174f3eeda2b24a4875fa7ba805f6288680e58825f10839831\n",
            "  Stored in directory: /tmp/pip-ephem-wheel-cache-ktnn9s5g/wheels/94/ea/8b/a1558e8a38a7980bb506204694fd26148d79d71167f025eb79\n",
            "Successfully built libindic.transliteration\n",
            "Installing collected packages: libindic.transliteration\n",
            "Successfully installed libindic.transliteration-0.4.1\n",
            "\u001b[33mWARNING: Running pip as the 'root' user can result in broken permissions and conflicting behaviour with the system package manager. It is recommended to use a virtual environment instead: https://pip.pypa.io/warnings/venv\u001b[0m\u001b[33m\n",
            "\u001b[0m"
          ]
        }
      ]
    },
    {
      "cell_type": "code",
      "source": [
        "from libindic.transliteration import getInstance\n"
      ],
      "metadata": {
        "id": "5ddot3CRE4cx"
      },
      "execution_count": null,
      "outputs": []
    },
    {
      "cell_type": "code",
      "source": [
        "ldata=df1.clean_text\n",
        "ldata=ldata.tolist()"
      ],
      "metadata": {
        "id": "y9Io6lW_GlKU"
      },
      "execution_count": null,
      "outputs": []
    },
    {
      "cell_type": "code",
      "source": [
        "len(ldata)"
      ],
      "metadata": {
        "colab": {
          "base_uri": "https://localhost:8080/"
        },
        "id": "dv31BA76HBBT",
        "outputId": "5430b234-fcbc-43e7-8289-7f6607abbe91"
      },
      "execution_count": null,
      "outputs": [
        {
          "output_type": "execute_result",
          "data": {
            "text/plain": [
              "1281"
            ]
          },
          "metadata": {},
          "execution_count": 31
        }
      ]
    },
    {
      "cell_type": "code",
      "source": [
        "fin1=[]\n",
        "for i in ldata:\n",
        "  t = getInstance()\n",
        "  t_text = t.transliterate(str(i), \"en_IN\")\n",
        "  fin1.append(t_text)\n",
        "len(fin1)"
      ],
      "metadata": {
        "colab": {
          "base_uri": "https://localhost:8080/"
        },
        "id": "4XeOIoKgE4Zq",
        "outputId": "675a1cff-c107-417e-b713-07d89653e615"
      },
      "execution_count": null,
      "outputs": [
        {
          "output_type": "execute_result",
          "data": {
            "text/plain": [
              "1281"
            ]
          },
          "metadata": {},
          "execution_count": 33
        }
      ]
    },
    {
      "cell_type": "code",
      "source": [
        "df=pd.DataFrame(fin1)\n",
        "df=df.rename(columns={0:'texttranslit'})\n",
        "df.head(20)"
      ],
      "metadata": {
        "colab": {
          "base_uri": "https://localhost:8080/",
          "height": 824
        },
        "id": "cqdkTEWlHA-c",
        "outputId": "0055e20e-1510-4e4d-f9e3-27abdb697ca8"
      },
      "execution_count": null,
      "outputs": [
        {
          "output_type": "execute_result",
          "data": {
            "text/plain": [
              "                                                                                                                                                                                                                   texttranslit\n",
              "0                                              sunalaam mamathaa byaanaarji kootaa paddhathi thule diy഼echhe thaahale braathy basur mukhe kootaa etaa kathaar kathaa thaahale kootaa niy഼e praakthan mukhyamanthreeke kataaksh \n",
              "1   prathyek daler prathyek manthree emaelae emapi eder ekataa nijasb kootaa kootaay഼ thaaraa yaake khusi chaakari dithe paaren ebam chirakaal enaaraa sabaai ebhaabe chaakari diy഼eo esechhen೤ baraabarai sambidhaane aajao...\n",
              "2   bisb jud഼e buddhijeebider sampark thaake bisbabidyaalൟaseminaar paabalisim haaus midiൟaar೤ baamlaay഼ dekhachhi garu chooraakaarabaarider saathe buddhijeebeeraa sampark gad഼e thoolechhe೤abhay഼ paachchhi eraa base arth...\n",
              "3   bachhar sath sath maanush hathyaa karachhe seemaanthe ganathaanthrik aainer saasaner des bhaarather seemaantharaksheeraa೤ prithibeer koon sabhy deser seemaanthe maanush maanushake guli hathyaa  ।iurooper ashtriy഼aa p...\n",
              "4                                                                                                                                             samaajer sabatheke dooshith maanush eraai khaaraap dey഼ samaajake chhi chhi chhi \n",
              "5                  yaaraa preranaar kathaar maane bujhhathe paareni thaader maane boojhhaar jany or yethe habe thaandaa masthisk niy഼e bhaaloo boojhhaathe paarabe aamaar dhaaranaa abasyai thaaraa susth maanashikathaar hay഼ \n",
              "6                                                                                                                                                                          kandam didi grinning face sweat grinning face sweat \n",
              "7                                                                                                                                                                                                   bad഼ bad഼ kathaa koothaay഼ \n",
              "8                                                                                                                                                                                                      pade aachhis paaris kar \n",
              "9                                                                                       apadaarth chaakaritaa thoor daler nay഼ sarakaari  ।bethanabhaathaa sarakaarer thahabil dey഼aa hay഼athoor choorer daler thahabil nay഼  ।\n",
              "10  etaa sipiaaiem khaas look chhilachaakari the naam likhൟe maase maase bethan nith karath naanaatak bed഼aathoothaarapar haaoൟaa bujhhe dal paalte thrinamoole dhuke manthree hൟe baath maarachheek nambarer subidhaabaadee...\n",
              "11                        panjchaaൟeth jithechhis rolling floor laughing rolling floor laughing rolling floor laughing rolling floor laughing thooraa prakalp enechhis chhaappaasree೤ sathik bhoot dekhaa೤ kshamathaa thaakale \n",
              "12                                                                                                                                                                                saambaadikader nei maathaal guloo dekhaanoor \n",
              "13  nijer buth sakthisaalee halei eidharaner mithyaa dooshaaroop bandh habe  ।nacheth buther jhhaamelaa maaraamaari saamalaanoor jany daladaas puliser mukhaapekshee hay഼e base niraas hale dooshaaroopataa daleey഼ jelaa ne...\n",
              "14                                                                                                                                                                                           eder mathan barbar der balaar nei \n",
              "15                                                                                                                                                                                                  dilli bhramaner siddhaanth \n",
              "16                                                                                                                                                          ginipig raakhale bhaaloo hathoo೤ desee idur bilithi idur ekasaathe \n",
              "17                                                                                                                                                                                    thoomaraai naaki raajyer bisesh byaakthi \n",
              "18                                                                                                                                             bhootataa neoy഼aar samay഼ baad഼i baad഼i yaaben chaakaritaa chaamachaader deben೤ \n",
              "19                                                                 kaaleer haath paa thaar asthithb aachhe೤ yaar asthithb nei kebal kalpanaar dbaaraa srisht ekati prathishthaan thaaraa kee bujhhabe thaar asthithber pramaan "
            ],
            "text/html": [
              "\n",
              "\n",
              "  <div id=\"df-c759daf1-67a7-4961-9e15-d87f4734b5a1\">\n",
              "    <div class=\"colab-df-container\">\n",
              "      <div>\n",
              "<style scoped>\n",
              "    .dataframe tbody tr th:only-of-type {\n",
              "        vertical-align: middle;\n",
              "    }\n",
              "\n",
              "    .dataframe tbody tr th {\n",
              "        vertical-align: top;\n",
              "    }\n",
              "\n",
              "    .dataframe thead th {\n",
              "        text-align: right;\n",
              "    }\n",
              "</style>\n",
              "<table border=\"1\" class=\"dataframe\">\n",
              "  <thead>\n",
              "    <tr style=\"text-align: right;\">\n",
              "      <th></th>\n",
              "      <th>texttranslit</th>\n",
              "    </tr>\n",
              "  </thead>\n",
              "  <tbody>\n",
              "    <tr>\n",
              "      <th>0</th>\n",
              "      <td>sunalaam mamathaa byaanaarji kootaa paddhathi thule diy഼echhe thaahale braathy basur mukhe kootaa etaa kathaar kathaa thaahale kootaa niy഼e praakthan mukhyamanthreeke kataaksh</td>\n",
              "    </tr>\n",
              "    <tr>\n",
              "      <th>1</th>\n",
              "      <td>prathyek daler prathyek manthree emaelae emapi eder ekataa nijasb kootaa kootaay഼ thaaraa yaake khusi chaakari dithe paaren ebam chirakaal enaaraa sabaai ebhaabe chaakari diy഼eo esechhen೤ baraabarai sambidhaane aajao...</td>\n",
              "    </tr>\n",
              "    <tr>\n",
              "      <th>2</th>\n",
              "      <td>bisb jud഼e buddhijeebider sampark thaake bisbabidyaalൟaseminaar paabalisim haaus midiൟaar೤ baamlaay഼ dekhachhi garu chooraakaarabaarider saathe buddhijeebeeraa sampark gad഼e thoolechhe೤abhay഼ paachchhi eraa base arth...</td>\n",
              "    </tr>\n",
              "    <tr>\n",
              "      <th>3</th>\n",
              "      <td>bachhar sath sath maanush hathyaa karachhe seemaanthe ganathaanthrik aainer saasaner des bhaarather seemaantharaksheeraa೤ prithibeer koon sabhy deser seemaanthe maanush maanushake guli hathyaa  ।iurooper ashtriy഼aa p...</td>\n",
              "    </tr>\n",
              "    <tr>\n",
              "      <th>4</th>\n",
              "      <td>samaajer sabatheke dooshith maanush eraai khaaraap dey഼ samaajake chhi chhi chhi</td>\n",
              "    </tr>\n",
              "    <tr>\n",
              "      <th>5</th>\n",
              "      <td>yaaraa preranaar kathaar maane bujhhathe paareni thaader maane boojhhaar jany or yethe habe thaandaa masthisk niy഼e bhaaloo boojhhaathe paarabe aamaar dhaaranaa abasyai thaaraa susth maanashikathaar hay഼</td>\n",
              "    </tr>\n",
              "    <tr>\n",
              "      <th>6</th>\n",
              "      <td>kandam didi grinning face sweat grinning face sweat</td>\n",
              "    </tr>\n",
              "    <tr>\n",
              "      <th>7</th>\n",
              "      <td>bad഼ bad഼ kathaa koothaay഼</td>\n",
              "    </tr>\n",
              "    <tr>\n",
              "      <th>8</th>\n",
              "      <td>pade aachhis paaris kar</td>\n",
              "    </tr>\n",
              "    <tr>\n",
              "      <th>9</th>\n",
              "      <td>apadaarth chaakaritaa thoor daler nay഼ sarakaari  ।bethanabhaathaa sarakaarer thahabil dey഼aa hay഼athoor choorer daler thahabil nay഼  ।</td>\n",
              "    </tr>\n",
              "    <tr>\n",
              "      <th>10</th>\n",
              "      <td>etaa sipiaaiem khaas look chhilachaakari the naam likhൟe maase maase bethan nith karath naanaatak bed഼aathoothaarapar haaoൟaa bujhhe dal paalte thrinamoole dhuke manthree hൟe baath maarachheek nambarer subidhaabaadee...</td>\n",
              "    </tr>\n",
              "    <tr>\n",
              "      <th>11</th>\n",
              "      <td>panjchaaൟeth jithechhis rolling floor laughing rolling floor laughing rolling floor laughing rolling floor laughing thooraa prakalp enechhis chhaappaasree೤ sathik bhoot dekhaa೤ kshamathaa thaakale</td>\n",
              "    </tr>\n",
              "    <tr>\n",
              "      <th>12</th>\n",
              "      <td>saambaadikader nei maathaal guloo dekhaanoor</td>\n",
              "    </tr>\n",
              "    <tr>\n",
              "      <th>13</th>\n",
              "      <td>nijer buth sakthisaalee halei eidharaner mithyaa dooshaaroop bandh habe  ।nacheth buther jhhaamelaa maaraamaari saamalaanoor jany daladaas puliser mukhaapekshee hay഼e base niraas hale dooshaaroopataa daleey഼ jelaa ne...</td>\n",
              "    </tr>\n",
              "    <tr>\n",
              "      <th>14</th>\n",
              "      <td>eder mathan barbar der balaar nei</td>\n",
              "    </tr>\n",
              "    <tr>\n",
              "      <th>15</th>\n",
              "      <td>dilli bhramaner siddhaanth</td>\n",
              "    </tr>\n",
              "    <tr>\n",
              "      <th>16</th>\n",
              "      <td>ginipig raakhale bhaaloo hathoo೤ desee idur bilithi idur ekasaathe</td>\n",
              "    </tr>\n",
              "    <tr>\n",
              "      <th>17</th>\n",
              "      <td>thoomaraai naaki raajyer bisesh byaakthi</td>\n",
              "    </tr>\n",
              "    <tr>\n",
              "      <th>18</th>\n",
              "      <td>bhootataa neoy഼aar samay഼ baad഼i baad഼i yaaben chaakaritaa chaamachaader deben೤</td>\n",
              "    </tr>\n",
              "    <tr>\n",
              "      <th>19</th>\n",
              "      <td>kaaleer haath paa thaar asthithb aachhe೤ yaar asthithb nei kebal kalpanaar dbaaraa srisht ekati prathishthaan thaaraa kee bujhhabe thaar asthithber pramaan</td>\n",
              "    </tr>\n",
              "  </tbody>\n",
              "</table>\n",
              "</div>\n",
              "      <button class=\"colab-df-convert\" onclick=\"convertToInteractive('df-c759daf1-67a7-4961-9e15-d87f4734b5a1')\"\n",
              "              title=\"Convert this dataframe to an interactive table.\"\n",
              "              style=\"display:none;\">\n",
              "\n",
              "  <svg xmlns=\"http://www.w3.org/2000/svg\" height=\"24px\"viewBox=\"0 0 24 24\"\n",
              "       width=\"24px\">\n",
              "    <path d=\"M0 0h24v24H0V0z\" fill=\"none\"/>\n",
              "    <path d=\"M18.56 5.44l.94 2.06.94-2.06 2.06-.94-2.06-.94-.94-2.06-.94 2.06-2.06.94zm-11 1L8.5 8.5l.94-2.06 2.06-.94-2.06-.94L8.5 2.5l-.94 2.06-2.06.94zm10 10l.94 2.06.94-2.06 2.06-.94-2.06-.94-.94-2.06-.94 2.06-2.06.94z\"/><path d=\"M17.41 7.96l-1.37-1.37c-.4-.4-.92-.59-1.43-.59-.52 0-1.04.2-1.43.59L10.3 9.45l-7.72 7.72c-.78.78-.78 2.05 0 2.83L4 21.41c.39.39.9.59 1.41.59.51 0 1.02-.2 1.41-.59l7.78-7.78 2.81-2.81c.8-.78.8-2.07 0-2.86zM5.41 20L4 18.59l7.72-7.72 1.47 1.35L5.41 20z\"/>\n",
              "  </svg>\n",
              "      </button>\n",
              "\n",
              "\n",
              "\n",
              "    <div id=\"df-fa9bb30a-1cc7-41af-bffb-9d504fee9592\">\n",
              "      <button class=\"colab-df-quickchart\" onclick=\"quickchart('df-fa9bb30a-1cc7-41af-bffb-9d504fee9592')\"\n",
              "              title=\"Suggest charts.\"\n",
              "              style=\"display:none;\">\n",
              "\n",
              "<svg xmlns=\"http://www.w3.org/2000/svg\" height=\"24px\"viewBox=\"0 0 24 24\"\n",
              "     width=\"24px\">\n",
              "    <g>\n",
              "        <path d=\"M19 3H5c-1.1 0-2 .9-2 2v14c0 1.1.9 2 2 2h14c1.1 0 2-.9 2-2V5c0-1.1-.9-2-2-2zM9 17H7v-7h2v7zm4 0h-2V7h2v10zm4 0h-2v-4h2v4z\"/>\n",
              "    </g>\n",
              "</svg>\n",
              "      </button>\n",
              "    </div>\n",
              "\n",
              "<style>\n",
              "  .colab-df-quickchart {\n",
              "    background-color: #E8F0FE;\n",
              "    border: none;\n",
              "    border-radius: 50%;\n",
              "    cursor: pointer;\n",
              "    display: none;\n",
              "    fill: #1967D2;\n",
              "    height: 32px;\n",
              "    padding: 0 0 0 0;\n",
              "    width: 32px;\n",
              "  }\n",
              "\n",
              "  .colab-df-quickchart:hover {\n",
              "    background-color: #E2EBFA;\n",
              "    box-shadow: 0px 1px 2px rgba(60, 64, 67, 0.3), 0px 1px 3px 1px rgba(60, 64, 67, 0.15);\n",
              "    fill: #174EA6;\n",
              "  }\n",
              "\n",
              "  [theme=dark] .colab-df-quickchart {\n",
              "    background-color: #3B4455;\n",
              "    fill: #D2E3FC;\n",
              "  }\n",
              "\n",
              "  [theme=dark] .colab-df-quickchart:hover {\n",
              "    background-color: #434B5C;\n",
              "    box-shadow: 0px 1px 3px 1px rgba(0, 0, 0, 0.15);\n",
              "    filter: drop-shadow(0px 1px 2px rgba(0, 0, 0, 0.3));\n",
              "    fill: #FFFFFF;\n",
              "  }\n",
              "</style>\n",
              "\n",
              "    <script>\n",
              "      async function quickchart(key) {\n",
              "        const containerElement = document.querySelector('#' + key);\n",
              "        const charts = await google.colab.kernel.invokeFunction(\n",
              "            'suggestCharts', [key], {});\n",
              "      }\n",
              "    </script>\n",
              "\n",
              "\n",
              "      <script>\n",
              "\n",
              "function displayQuickchartButton(domScope) {\n",
              "  let quickchartButtonEl =\n",
              "    domScope.querySelector('#df-fa9bb30a-1cc7-41af-bffb-9d504fee9592 button.colab-df-quickchart');\n",
              "  quickchartButtonEl.style.display =\n",
              "    google.colab.kernel.accessAllowed ? 'block' : 'none';\n",
              "}\n",
              "\n",
              "        displayQuickchartButton(document);\n",
              "      </script>\n",
              "      <style>\n",
              "    .colab-df-container {\n",
              "      display:flex;\n",
              "      flex-wrap:wrap;\n",
              "      gap: 12px;\n",
              "    }\n",
              "\n",
              "    .colab-df-convert {\n",
              "      background-color: #E8F0FE;\n",
              "      border: none;\n",
              "      border-radius: 50%;\n",
              "      cursor: pointer;\n",
              "      display: none;\n",
              "      fill: #1967D2;\n",
              "      height: 32px;\n",
              "      padding: 0 0 0 0;\n",
              "      width: 32px;\n",
              "    }\n",
              "\n",
              "    .colab-df-convert:hover {\n",
              "      background-color: #E2EBFA;\n",
              "      box-shadow: 0px 1px 2px rgba(60, 64, 67, 0.3), 0px 1px 3px 1px rgba(60, 64, 67, 0.15);\n",
              "      fill: #174EA6;\n",
              "    }\n",
              "\n",
              "    [theme=dark] .colab-df-convert {\n",
              "      background-color: #3B4455;\n",
              "      fill: #D2E3FC;\n",
              "    }\n",
              "\n",
              "    [theme=dark] .colab-df-convert:hover {\n",
              "      background-color: #434B5C;\n",
              "      box-shadow: 0px 1px 3px 1px rgba(0, 0, 0, 0.15);\n",
              "      filter: drop-shadow(0px 1px 2px rgba(0, 0, 0, 0.3));\n",
              "      fill: #FFFFFF;\n",
              "    }\n",
              "  </style>\n",
              "\n",
              "      <script>\n",
              "        const buttonEl =\n",
              "          document.querySelector('#df-c759daf1-67a7-4961-9e15-d87f4734b5a1 button.colab-df-convert');\n",
              "        buttonEl.style.display =\n",
              "          google.colab.kernel.accessAllowed ? 'block' : 'none';\n",
              "\n",
              "        async function convertToInteractive(key) {\n",
              "          const element = document.querySelector('#df-c759daf1-67a7-4961-9e15-d87f4734b5a1');\n",
              "          const dataTable =\n",
              "            await google.colab.kernel.invokeFunction('convertToInteractive',\n",
              "                                                     [key], {});\n",
              "          if (!dataTable) return;\n",
              "\n",
              "          const docLinkHtml = 'Like what you see? Visit the ' +\n",
              "            '<a target=\"_blank\" href=https://colab.research.google.com/notebooks/data_table.ipynb>data table notebook</a>'\n",
              "            + ' to learn more about interactive tables.';\n",
              "          element.innerHTML = '';\n",
              "          dataTable['output_type'] = 'display_data';\n",
              "          await google.colab.output.renderOutput(dataTable, element);\n",
              "          const docLink = document.createElement('div');\n",
              "          docLink.innerHTML = docLinkHtml;\n",
              "          element.appendChild(docLink);\n",
              "        }\n",
              "      </script>\n",
              "    </div>\n",
              "  </div>\n"
            ]
          },
          "metadata": {},
          "execution_count": 35
        }
      ]
    },
    {
      "cell_type": "code",
      "source": [
        "#To split train and test\n",
        "X_train1, X_test1, y_train1, y_test1 = train_test_split(df.texttranslit, df1.task_1, test_size=0.25, random_state=42)"
      ],
      "metadata": {
        "id": "9E1qn3MQ36ix"
      },
      "execution_count": null,
      "outputs": []
    },
    {
      "cell_type": "code",
      "source": [
        "X_train1.shape, X_test1.shape"
      ],
      "metadata": {
        "colab": {
          "base_uri": "https://localhost:8080/"
        },
        "id": "aXieK6og36gB",
        "outputId": "f25d0864-a53b-46fc-b312-54b4fd4f1e35"
      },
      "execution_count": null,
      "outputs": [
        {
          "output_type": "execute_result",
          "data": {
            "text/plain": [
              "((960,), (321,))"
            ]
          },
          "metadata": {},
          "execution_count": 30
        }
      ]
    },
    {
      "cell_type": "code",
      "source": [
        "tfidf_vect = TfidfVectorizer(analyzer='char', ngram_range=(1,3))\n",
        "tfidf_vect.fit(X_train1)\n",
        "X_train_tfidf = tfidf_vect.transform(X_train1)\n",
        "X_test_tfidf = tfidf_vect.transform(X_test1)"
      ],
      "metadata": {
        "id": "c1YNFjxiHA7M"
      },
      "execution_count": null,
      "outputs": []
    },
    {
      "cell_type": "code",
      "source": [
        "from sklearn.svm import SVC\n",
        "svm = SVC()\n",
        "\n",
        "svm .fit(X_train_tfidf, y_train1)\n",
        "\n",
        "y_pred = svm.predict(X_test_tfidf)\n",
        "\n",
        "accuracy = accuracy_score(y_test1, y_pred)\n",
        "\n",
        "print(\"Test Accuracy:\", round(accuracy*100, 4))\n",
        "\n",
        "print(\"\\n\", classification_report(y_test1, y_pred))"
      ],
      "metadata": {
        "colab": {
          "base_uri": "https://localhost:8080/"
        },
        "id": "LVAmAGkoE4Rn",
        "outputId": "884f0d5a-a911-44b3-8c27-5111324f2772"
      },
      "execution_count": null,
      "outputs": [
        {
          "output_type": "stream",
          "name": "stdout",
          "text": [
            "Test Accuracy: 63.5514\n",
            "\n",
            "               precision    recall  f1-score   support\n",
            "\n",
            "         HOF       0.67      0.21      0.32       131\n",
            "         NOT       0.63      0.93      0.75       190\n",
            "\n",
            "    accuracy                           0.64       321\n",
            "   macro avg       0.65      0.57      0.54       321\n",
            "weighted avg       0.65      0.64      0.58       321\n",
            "\n"
          ]
        }
      ]
    },
    {
      "cell_type": "code",
      "source": [
        "from sklearn.model_selection import cross_val_score\n",
        "from sklearn.linear_model import LogisticRegression\n",
        "from sklearn.naive_bayes import BernoulliNB\n",
        "from sklearn.ensemble import VotingClassifier\n",
        "from sklearn.naive_bayes import MultinomialNB\n",
        "from sklearn.svm import LinearSVC\n",
        "\n",
        "clf1 = LogisticRegression(random_state=1)\n",
        "clf2 = BernoulliNB()\n",
        "clf3 = LinearSVC(penalty='l2',C=1.0)\n",
        "\n",
        "eclf = VotingClassifier(estimators=[('LR', clf1), ('BNB', clf2),\n",
        "('SVC', clf3)],  voting='hard')\n",
        "eclf = eclf.fit(X_train_tfidf, y_train1)\n",
        "y_pred1 = eclf.predict(X_test_tfidf)\n",
        "# print(y_pred01)\n",
        "accuracy3 = accuracy_score(y_test1, y_pred1)\n",
        "\n",
        "print(\"Test Accuracy:\", round(accuracy3*100, 4))\n",
        "\n",
        "print(\"\\n\", classification_report(y_test1, y_pred1))"
      ],
      "metadata": {
        "id": "8khsNPCJE4PN",
        "colab": {
          "base_uri": "https://localhost:8080/"
        },
        "outputId": "5d626b9a-b6d1-475e-d903-c9811cd7be30"
      },
      "execution_count": null,
      "outputs": [
        {
          "output_type": "stream",
          "name": "stdout",
          "text": [
            "Test Accuracy: 62.6168\n",
            "\n",
            "               precision    recall  f1-score   support\n",
            "\n",
            "         HOF       0.57      0.35      0.43       131\n",
            "         NOT       0.65      0.82      0.72       190\n",
            "\n",
            "    accuracy                           0.63       321\n",
            "   macro avg       0.61      0.58      0.58       321\n",
            "weighted avg       0.61      0.63      0.60       321\n",
            "\n"
          ]
        }
      ]
    },
    {
      "cell_type": "markdown",
      "source": [
        "**Evaluation for test set**"
      ],
      "metadata": {
        "id": "8lI3ISxnP4uX"
      }
    },
    {
      "cell_type": "code",
      "source": [
        "ldata_1=df2.clean_text\n",
        "ldata_1=ldata_1.tolist()"
      ],
      "metadata": {
        "id": "f9bJV5muj45a"
      },
      "execution_count": null,
      "outputs": []
    },
    {
      "cell_type": "code",
      "source": [
        "len(ldata_1)"
      ],
      "metadata": {
        "id": "y_6wnJPqj42c",
        "colab": {
          "base_uri": "https://localhost:8080/"
        },
        "outputId": "0cb8aa7b-025f-416d-8cc4-f84eb62e7d20"
      },
      "execution_count": null,
      "outputs": [
        {
          "output_type": "execute_result",
          "data": {
            "text/plain": [
              "320"
            ]
          },
          "metadata": {},
          "execution_count": 26
        }
      ]
    },
    {
      "cell_type": "code",
      "source": [
        "fin=[]\n",
        "for i in ldata_1:\n",
        "  t1= getInstance()\n",
        "  t_text1 = t1.transliterate(str(i), \"en_IN\")\n",
        "  fin.append(t_text1)\n",
        "len(fin)"
      ],
      "metadata": {
        "id": "FoqWmbrtj4zR",
        "colab": {
          "base_uri": "https://localhost:8080/"
        },
        "outputId": "0e44fe08-97d4-4b26-b32d-d332961178a0"
      },
      "execution_count": null,
      "outputs": [
        {
          "output_type": "execute_result",
          "data": {
            "text/plain": [
              "320"
            ]
          },
          "metadata": {},
          "execution_count": 27
        }
      ]
    },
    {
      "cell_type": "code",
      "source": [
        "df_1=pd.DataFrame(fin)\n",
        "df_1=df_1.rename(columns={0:'texttranslit'})\n",
        "df_1.head(20)"
      ],
      "metadata": {
        "id": "y6Csq8uQj4wS",
        "colab": {
          "base_uri": "https://localhost:8080/",
          "height": 772
        },
        "outputId": "bc7c800a-ee62-4abe-fe45-baca3bbb0339"
      },
      "execution_count": null,
      "outputs": [
        {
          "output_type": "execute_result",
          "data": {
            "text/plain": [
              "                                                                                                                                                                                                                   texttranslit\n",
              "0                                                                                                                                                                                     thaathe thoor kee chulakuni naare saalaa \n",
              "1                                                                                                                                                                                                           chati chaataa habe \n",
              "2                    kkr prasangg thulale saaharukher chhabi deൟaa baadhyathaamoolak saaharukh kkr sahamaalik paare kriketaar nൟ೤ kriket ebam kriketaarake bhaalabese aapaamar janathaa khelaa dekhe daler maalikake dekhe nൟ೤ \n",
              "3                                                                                                                          hyaa hyaa bhikhiri balathei paaser deser looker laagachhe೤ yaar naam dhare daakalei chinathe paare೤ \n",
              "4                                                                                                    etaa nijer meൟer naam raakhaben naam dhare daakaben beaming face smiling eyes grinning face sweat grinning squinting face \n",
              "5   pigi chapas maane baamlaay഼ oitaai boojhhaay഼ face tears joy face tears joy face tears joy face tears joy face tears joy aamaar mey഼e hale naam raakhab laket face tears joy face tears joy face tears joy face tears jo...\n",
              "6                                                                                                                                                                                       maachhele dujanakei bhaaloo laagachhe೤ \n",
              "7                                                                                                                                                           iൟe maathaaൟ otheni೤ eguloo sabai parikalpanaa bidbesh chhaa൜aanoo \n",
              "8                                                                                                                                                                                                               haaraami balun \n",
              "9                                                                                                  khabar prachaar karun bhaal kathaa khey഼aal raakhaben yesab maanush asleel bhaashaa byabahaar thaaderake aamanthran karaben \n",
              "10                                                                                                                                    ekhabarer koon sathyathaa nei managad഼aa khabar paribesan esab phaalathu midiy഼aar kaaj೤ \n",
              "11  ithimadhyei uththarabangge raajabhaban daarjilim uththarakanyaa mini sachibaalay഼ abasthith phulabaa൜ee jalapaaigud഼i siligud഼ithe kyaalakaataa haaikoorter saarkit benjch hൟechhe jalapaaigud഼ithe೤ up mukhyamanthree p...\n",
              "12                                    phule phule dule dule yaathaay഼aath eder legei thaakabe dutoo paarti thei madhu jhharachhe kai kaauke paarti the dekhi janagan sachethan hay഼e eder tootaal bay഼akat thabei bhaal paare೤ \n",
              "13                                                                                                                                                                                               baalapaakhanaa face tears joy \n",
              "14                                                                                              garth chhed഼e bed഼iy഼e aasachhen eisab meki buddhijeebee lookajan೤ aasaa ebam balaar pechhane nirdisht anupreranaa nischay഼ai೤ \n",
              "15                                                                                                                                                                                   subidhaabhoogee chati chaataa buddhijeebi \n",
              "16                                                                                                     aapanaar moolye bhaashan baamlaadese ethoo mandir bhaangaloo maanush maaraloo mahilaa dharshan haloo thaalibaan chhilen \n",
              "17                                                                                                                                                                     bhaashan bandh karun೤ aapanaader maanush bhaaloo chene೤ \n",
              "18                                                                                                                                          baamlaadese hinduder opar aakraman hay഼ eraa chupachaap thaake eder mukh phutechhe \n",
              "19  eraa beriy഼echhe maane kaar phutoor ethoodin maasoo haaraathoo anupraanith dal paathaachchhe haloo eibhaabe taakaa upaay഼ deh byaabasaa thoor puroonoo kaarabaare lege aaroo taakaa pethe paaris೤ eraa kaar bhrune janm ..."
            ],
            "text/html": [
              "\n",
              "\n",
              "  <div id=\"df-46adfbf7-17db-4c8d-809b-36f7e1ae3257\">\n",
              "    <div class=\"colab-df-container\">\n",
              "      <div>\n",
              "<style scoped>\n",
              "    .dataframe tbody tr th:only-of-type {\n",
              "        vertical-align: middle;\n",
              "    }\n",
              "\n",
              "    .dataframe tbody tr th {\n",
              "        vertical-align: top;\n",
              "    }\n",
              "\n",
              "    .dataframe thead th {\n",
              "        text-align: right;\n",
              "    }\n",
              "</style>\n",
              "<table border=\"1\" class=\"dataframe\">\n",
              "  <thead>\n",
              "    <tr style=\"text-align: right;\">\n",
              "      <th></th>\n",
              "      <th>texttranslit</th>\n",
              "    </tr>\n",
              "  </thead>\n",
              "  <tbody>\n",
              "    <tr>\n",
              "      <th>0</th>\n",
              "      <td>thaathe thoor kee chulakuni naare saalaa</td>\n",
              "    </tr>\n",
              "    <tr>\n",
              "      <th>1</th>\n",
              "      <td>chati chaataa habe</td>\n",
              "    </tr>\n",
              "    <tr>\n",
              "      <th>2</th>\n",
              "      <td>kkr prasangg thulale saaharukher chhabi deൟaa baadhyathaamoolak saaharukh kkr sahamaalik paare kriketaar nൟ೤ kriket ebam kriketaarake bhaalabese aapaamar janathaa khelaa dekhe daler maalikake dekhe nൟ೤</td>\n",
              "    </tr>\n",
              "    <tr>\n",
              "      <th>3</th>\n",
              "      <td>hyaa hyaa bhikhiri balathei paaser deser looker laagachhe೤ yaar naam dhare daakalei chinathe paare೤</td>\n",
              "    </tr>\n",
              "    <tr>\n",
              "      <th>4</th>\n",
              "      <td>etaa nijer meൟer naam raakhaben naam dhare daakaben beaming face smiling eyes grinning face sweat grinning squinting face</td>\n",
              "    </tr>\n",
              "    <tr>\n",
              "      <th>5</th>\n",
              "      <td>pigi chapas maane baamlaay഼ oitaai boojhhaay഼ face tears joy face tears joy face tears joy face tears joy face tears joy aamaar mey഼e hale naam raakhab laket face tears joy face tears joy face tears joy face tears jo...</td>\n",
              "    </tr>\n",
              "    <tr>\n",
              "      <th>6</th>\n",
              "      <td>maachhele dujanakei bhaaloo laagachhe೤</td>\n",
              "    </tr>\n",
              "    <tr>\n",
              "      <th>7</th>\n",
              "      <td>iൟe maathaaൟ otheni೤ eguloo sabai parikalpanaa bidbesh chhaa൜aanoo</td>\n",
              "    </tr>\n",
              "    <tr>\n",
              "      <th>8</th>\n",
              "      <td>haaraami balun</td>\n",
              "    </tr>\n",
              "    <tr>\n",
              "      <th>9</th>\n",
              "      <td>khabar prachaar karun bhaal kathaa khey഼aal raakhaben yesab maanush asleel bhaashaa byabahaar thaaderake aamanthran karaben</td>\n",
              "    </tr>\n",
              "    <tr>\n",
              "      <th>10</th>\n",
              "      <td>ekhabarer koon sathyathaa nei managad഼aa khabar paribesan esab phaalathu midiy഼aar kaaj೤</td>\n",
              "    </tr>\n",
              "    <tr>\n",
              "      <th>11</th>\n",
              "      <td>ithimadhyei uththarabangge raajabhaban daarjilim uththarakanyaa mini sachibaalay഼ abasthith phulabaa൜ee jalapaaigud഼i siligud഼ithe kyaalakaataa haaikoorter saarkit benjch hൟechhe jalapaaigud഼ithe೤ up mukhyamanthree p...</td>\n",
              "    </tr>\n",
              "    <tr>\n",
              "      <th>12</th>\n",
              "      <td>phule phule dule dule yaathaay഼aath eder legei thaakabe dutoo paarti thei madhu jhharachhe kai kaauke paarti the dekhi janagan sachethan hay഼e eder tootaal bay഼akat thabei bhaal paare೤</td>\n",
              "    </tr>\n",
              "    <tr>\n",
              "      <th>13</th>\n",
              "      <td>baalapaakhanaa face tears joy</td>\n",
              "    </tr>\n",
              "    <tr>\n",
              "      <th>14</th>\n",
              "      <td>garth chhed഼e bed഼iy഼e aasachhen eisab meki buddhijeebee lookajan೤ aasaa ebam balaar pechhane nirdisht anupreranaa nischay഼ai೤</td>\n",
              "    </tr>\n",
              "    <tr>\n",
              "      <th>15</th>\n",
              "      <td>subidhaabhoogee chati chaataa buddhijeebi</td>\n",
              "    </tr>\n",
              "    <tr>\n",
              "      <th>16</th>\n",
              "      <td>aapanaar moolye bhaashan baamlaadese ethoo mandir bhaangaloo maanush maaraloo mahilaa dharshan haloo thaalibaan chhilen</td>\n",
              "    </tr>\n",
              "    <tr>\n",
              "      <th>17</th>\n",
              "      <td>bhaashan bandh karun೤ aapanaader maanush bhaaloo chene೤</td>\n",
              "    </tr>\n",
              "    <tr>\n",
              "      <th>18</th>\n",
              "      <td>baamlaadese hinduder opar aakraman hay഼ eraa chupachaap thaake eder mukh phutechhe</td>\n",
              "    </tr>\n",
              "    <tr>\n",
              "      <th>19</th>\n",
              "      <td>eraa beriy഼echhe maane kaar phutoor ethoodin maasoo haaraathoo anupraanith dal paathaachchhe haloo eibhaabe taakaa upaay഼ deh byaabasaa thoor puroonoo kaarabaare lege aaroo taakaa pethe paaris೤ eraa kaar bhrune janm ...</td>\n",
              "    </tr>\n",
              "  </tbody>\n",
              "</table>\n",
              "</div>\n",
              "      <button class=\"colab-df-convert\" onclick=\"convertToInteractive('df-46adfbf7-17db-4c8d-809b-36f7e1ae3257')\"\n",
              "              title=\"Convert this dataframe to an interactive table.\"\n",
              "              style=\"display:none;\">\n",
              "\n",
              "  <svg xmlns=\"http://www.w3.org/2000/svg\" height=\"24px\"viewBox=\"0 0 24 24\"\n",
              "       width=\"24px\">\n",
              "    <path d=\"M0 0h24v24H0V0z\" fill=\"none\"/>\n",
              "    <path d=\"M18.56 5.44l.94 2.06.94-2.06 2.06-.94-2.06-.94-.94-2.06-.94 2.06-2.06.94zm-11 1L8.5 8.5l.94-2.06 2.06-.94-2.06-.94L8.5 2.5l-.94 2.06-2.06.94zm10 10l.94 2.06.94-2.06 2.06-.94-2.06-.94-.94-2.06-.94 2.06-2.06.94z\"/><path d=\"M17.41 7.96l-1.37-1.37c-.4-.4-.92-.59-1.43-.59-.52 0-1.04.2-1.43.59L10.3 9.45l-7.72 7.72c-.78.78-.78 2.05 0 2.83L4 21.41c.39.39.9.59 1.41.59.51 0 1.02-.2 1.41-.59l7.78-7.78 2.81-2.81c.8-.78.8-2.07 0-2.86zM5.41 20L4 18.59l7.72-7.72 1.47 1.35L5.41 20z\"/>\n",
              "  </svg>\n",
              "      </button>\n",
              "\n",
              "\n",
              "\n",
              "    <div id=\"df-d491a35c-5678-44be-9082-73b7c27df0d5\">\n",
              "      <button class=\"colab-df-quickchart\" onclick=\"quickchart('df-d491a35c-5678-44be-9082-73b7c27df0d5')\"\n",
              "              title=\"Suggest charts.\"\n",
              "              style=\"display:none;\">\n",
              "\n",
              "<svg xmlns=\"http://www.w3.org/2000/svg\" height=\"24px\"viewBox=\"0 0 24 24\"\n",
              "     width=\"24px\">\n",
              "    <g>\n",
              "        <path d=\"M19 3H5c-1.1 0-2 .9-2 2v14c0 1.1.9 2 2 2h14c1.1 0 2-.9 2-2V5c0-1.1-.9-2-2-2zM9 17H7v-7h2v7zm4 0h-2V7h2v10zm4 0h-2v-4h2v4z\"/>\n",
              "    </g>\n",
              "</svg>\n",
              "      </button>\n",
              "    </div>\n",
              "\n",
              "<style>\n",
              "  .colab-df-quickchart {\n",
              "    background-color: #E8F0FE;\n",
              "    border: none;\n",
              "    border-radius: 50%;\n",
              "    cursor: pointer;\n",
              "    display: none;\n",
              "    fill: #1967D2;\n",
              "    height: 32px;\n",
              "    padding: 0 0 0 0;\n",
              "    width: 32px;\n",
              "  }\n",
              "\n",
              "  .colab-df-quickchart:hover {\n",
              "    background-color: #E2EBFA;\n",
              "    box-shadow: 0px 1px 2px rgba(60, 64, 67, 0.3), 0px 1px 3px 1px rgba(60, 64, 67, 0.15);\n",
              "    fill: #174EA6;\n",
              "  }\n",
              "\n",
              "  [theme=dark] .colab-df-quickchart {\n",
              "    background-color: #3B4455;\n",
              "    fill: #D2E3FC;\n",
              "  }\n",
              "\n",
              "  [theme=dark] .colab-df-quickchart:hover {\n",
              "    background-color: #434B5C;\n",
              "    box-shadow: 0px 1px 3px 1px rgba(0, 0, 0, 0.15);\n",
              "    filter: drop-shadow(0px 1px 2px rgba(0, 0, 0, 0.3));\n",
              "    fill: #FFFFFF;\n",
              "  }\n",
              "</style>\n",
              "\n",
              "    <script>\n",
              "      async function quickchart(key) {\n",
              "        const containerElement = document.querySelector('#' + key);\n",
              "        const charts = await google.colab.kernel.invokeFunction(\n",
              "            'suggestCharts', [key], {});\n",
              "      }\n",
              "    </script>\n",
              "\n",
              "\n",
              "      <script>\n",
              "\n",
              "function displayQuickchartButton(domScope) {\n",
              "  let quickchartButtonEl =\n",
              "    domScope.querySelector('#df-d491a35c-5678-44be-9082-73b7c27df0d5 button.colab-df-quickchart');\n",
              "  quickchartButtonEl.style.display =\n",
              "    google.colab.kernel.accessAllowed ? 'block' : 'none';\n",
              "}\n",
              "\n",
              "        displayQuickchartButton(document);\n",
              "      </script>\n",
              "      <style>\n",
              "    .colab-df-container {\n",
              "      display:flex;\n",
              "      flex-wrap:wrap;\n",
              "      gap: 12px;\n",
              "    }\n",
              "\n",
              "    .colab-df-convert {\n",
              "      background-color: #E8F0FE;\n",
              "      border: none;\n",
              "      border-radius: 50%;\n",
              "      cursor: pointer;\n",
              "      display: none;\n",
              "      fill: #1967D2;\n",
              "      height: 32px;\n",
              "      padding: 0 0 0 0;\n",
              "      width: 32px;\n",
              "    }\n",
              "\n",
              "    .colab-df-convert:hover {\n",
              "      background-color: #E2EBFA;\n",
              "      box-shadow: 0px 1px 2px rgba(60, 64, 67, 0.3), 0px 1px 3px 1px rgba(60, 64, 67, 0.15);\n",
              "      fill: #174EA6;\n",
              "    }\n",
              "\n",
              "    [theme=dark] .colab-df-convert {\n",
              "      background-color: #3B4455;\n",
              "      fill: #D2E3FC;\n",
              "    }\n",
              "\n",
              "    [theme=dark] .colab-df-convert:hover {\n",
              "      background-color: #434B5C;\n",
              "      box-shadow: 0px 1px 3px 1px rgba(0, 0, 0, 0.15);\n",
              "      filter: drop-shadow(0px 1px 2px rgba(0, 0, 0, 0.3));\n",
              "      fill: #FFFFFF;\n",
              "    }\n",
              "  </style>\n",
              "\n",
              "      <script>\n",
              "        const buttonEl =\n",
              "          document.querySelector('#df-46adfbf7-17db-4c8d-809b-36f7e1ae3257 button.colab-df-convert');\n",
              "        buttonEl.style.display =\n",
              "          google.colab.kernel.accessAllowed ? 'block' : 'none';\n",
              "\n",
              "        async function convertToInteractive(key) {\n",
              "          const element = document.querySelector('#df-46adfbf7-17db-4c8d-809b-36f7e1ae3257');\n",
              "          const dataTable =\n",
              "            await google.colab.kernel.invokeFunction('convertToInteractive',\n",
              "                                                     [key], {});\n",
              "          if (!dataTable) return;\n",
              "\n",
              "          const docLinkHtml = 'Like what you see? Visit the ' +\n",
              "            '<a target=\"_blank\" href=https://colab.research.google.com/notebooks/data_table.ipynb>data table notebook</a>'\n",
              "            + ' to learn more about interactive tables.';\n",
              "          element.innerHTML = '';\n",
              "          dataTable['output_type'] = 'display_data';\n",
              "          await google.colab.output.renderOutput(dataTable, element);\n",
              "          const docLink = document.createElement('div');\n",
              "          docLink.innerHTML = docLinkHtml;\n",
              "          element.appendChild(docLink);\n",
              "        }\n",
              "      </script>\n",
              "    </div>\n",
              "  </div>\n"
            ]
          },
          "metadata": {},
          "execution_count": 28
        }
      ]
    },
    {
      "cell_type": "code",
      "source": [
        "X_train=df['texttranslit']\n",
        "X_test=df_1['texttranslit']\n",
        "y_train=df1['task_1']"
      ],
      "metadata": {
        "id": "jgf05oCvj4tQ"
      },
      "execution_count": null,
      "outputs": []
    },
    {
      "cell_type": "code",
      "source": [
        "tfidf_vect1 = TfidfVectorizer(analyzer='char', ngram_range=(1,3))\n",
        "tfidf_vect1.fit(X_train)\n",
        "X_train_tfidf1 = tfidf_vect1.transform(X_train)\n",
        "X_test_tfidf1= tfidf_vect1.transform(X_test)"
      ],
      "metadata": {
        "id": "pG_EsLoDj4p7"
      },
      "execution_count": null,
      "outputs": []
    },
    {
      "cell_type": "markdown",
      "source": [
        "SVM"
      ],
      "metadata": {
        "id": "iMIvf-3-T5F-"
      }
    },
    {
      "cell_type": "code",
      "source": [
        "from sklearn.svm import SVC\n",
        "svm1 = SVC(kernel='linear',class_weight='balanced')\n",
        "\n",
        "svm1 .fit(X_train_tfidf1, y_train)\n",
        "\n",
        "y_pred2 = svm1.predict(X_test_tfidf1)"
      ],
      "metadata": {
        "id": "m3TF0P-7j4mz"
      },
      "execution_count": null,
      "outputs": []
    },
    {
      "cell_type": "code",
      "source": [
        "#Submission\n",
        "# to create .csv file consisting of tweet ids and predicted labels\n",
        "y_pred_df11= pd.DataFrame(data=y_pred2, columns=['y_pred2'])\n",
        "Submisssion_bengali = pd.DataFrame()\n",
        "Submisssion_bengali['S. No.'] = df2['S. No.']\n",
        "Submisssion_bengali['task_1 '] = y_pred_df11\n",
        "Submisssion_bengali.to_csv('/content/drive/MyDrive/MUCS_test_Bengali_run18.csv',index = None)"
      ],
      "metadata": {
        "id": "MZOZ590oj4kF"
      },
      "execution_count": null,
      "outputs": []
    },
    {
      "cell_type": "markdown",
      "source": [
        "Ensembler"
      ],
      "metadata": {
        "id": "0OQXhflqT62e"
      }
    },
    {
      "cell_type": "code",
      "source": [
        "from sklearn.model_selection import cross_val_score\n",
        "from sklearn.linear_model import LogisticRegression\n",
        "from sklearn.naive_bayes import BernoulliNB\n",
        "from sklearn.ensemble import VotingClassifier\n",
        "from sklearn.naive_bayes import MultinomialNB\n",
        "from sklearn.svm import LinearSVC\n",
        "\n",
        "clf1 = LogisticRegression(random_state=1)\n",
        "clf2 = BernoulliNB()\n",
        "clf3 = LinearSVC(penalty='l2',C=1.0)\n",
        "\n",
        "eclf1 = VotingClassifier(estimators=[('LR', clf1), ('BNB', clf2),\n",
        "('SVC', clf3)],  voting='hard')\n",
        "eclf1 = eclf1.fit(X_train_tfidf1, y_train)\n",
        "y_pred3 = eclf1.predict(X_test_tfidf1)"
      ],
      "metadata": {
        "id": "OUOmuLwdj4g-"
      },
      "execution_count": null,
      "outputs": []
    },
    {
      "cell_type": "code",
      "source": [
        "#Submission\n",
        "# to create .csv file consisting of tweet ids and predicted labels\n",
        "y_pred_df12= pd.DataFrame(data=y_pred3, columns=['y_pred3'])\n",
        "Submisssion_bengali = pd.DataFrame()\n",
        "Submisssion_bengali['S. No.'] = df2['S. No.']\n",
        "Submisssion_bengali['task_1 '] = y_pred_df12\n",
        "Submisssion_bengali.to_csv('/content/drive/MyDrive/MUCS_test_Bengali_run19.csv',index = None)"
      ],
      "metadata": {
        "id": "95ajYV87j4dw"
      },
      "execution_count": null,
      "outputs": []
    },
    {
      "cell_type": "code",
      "source": [],
      "metadata": {
        "id": "cgkq6sfnj4UL"
      },
      "execution_count": null,
      "outputs": []
    },
    {
      "cell_type": "code",
      "source": [],
      "metadata": {
        "id": "7xV1jxDyj4RA"
      },
      "execution_count": null,
      "outputs": []
    }
  ]
}