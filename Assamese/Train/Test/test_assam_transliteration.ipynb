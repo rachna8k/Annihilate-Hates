{
  "nbformat": 4,
  "nbformat_minor": 0,
  "metadata": {
    "colab": {
      "provenance": []
    },
    "kernelspec": {
      "name": "python3",
      "display_name": "Python 3"
    },
    "language_info": {
      "name": "python"
    }
  },
  "cells": [
    {
      "cell_type": "code",
      "source": [
        "from google.colab import drive\n",
        "drive.mount('/content/drive')"
      ],
      "metadata": {
        "colab": {
          "base_uri": "https://localhost:8080/"
        },
        "id": "wCrFxT8RSr6g",
        "outputId": "95b4a359-99c3-4f96-df17-81915fa8d51b"
      },
      "execution_count": null,
      "outputs": [
        {
          "output_type": "stream",
          "name": "stdout",
          "text": [
            "Mounted at /content/drive\n"
          ]
        }
      ]
    },
    {
      "cell_type": "markdown",
      "source": [
        "Preprocessing"
      ],
      "metadata": {
        "id": "i2oDsF8mSQj3"
      }
    },
    {
      "cell_type": "code",
      "source": [
        "!pip install emot --upgrade\n",
        "# to convert emojis to text\n",
        "!pip install emoji\n",
        "#to expand a contracted words\n",
        "!pip install demoji\n",
        "!pip install contractions"
      ],
      "metadata": {
        "id": "asZkODAFFfqg"
      },
      "execution_count": null,
      "outputs": []
    },
    {
      "cell_type": "code",
      "source": [
        "from sklearn.model_selection import train_test_split\n",
        "from sklearn.feature_extraction.text import TfidfVectorizer\n",
        "from sklearn.metrics import accuracy_score, confusion_matrix, classification_report, f1_score\n",
        "from sklearn.naive_bayes import MultinomialNB\n",
        "from textblob import TextBlob\n",
        "import emot\n",
        "import nltk.data\n",
        "import numpy as np\n",
        "import pandas as pd\n",
        "import re\n",
        "import time\n",
        "import string\n",
        "import emoji\n",
        "import demoji\n",
        "import contractions\n",
        "import nltk\n",
        "nltk.download('omw-1.4')\n",
        "from sklearn.model_selection import train_test_split\n",
        "from sklearn.feature_extraction.text import TfidfVectorizer\n",
        "pd.set_option(\"max_colwidth\" ,220)\n",
        "wn = nltk.WordNetLemmatizer()\n",
        "nltk.download('wordnet')\n",
        "nltk.download('stopwords')\n",
        "stopwords = nltk.corpus.stopwords.words('english')"
      ],
      "metadata": {
        "colab": {
          "base_uri": "https://localhost:8080/"
        },
        "id": "NwvVljklFfnp",
        "outputId": "133cebb9-572f-4e7c-ce15-0cd1f7dc8f7d"
      },
      "execution_count": null,
      "outputs": [
        {
          "output_type": "stream",
          "name": "stderr",
          "text": [
            "[nltk_data] Downloading package omw-1.4 to /root/nltk_data...\n",
            "[nltk_data]   Package omw-1.4 is already up-to-date!\n",
            "[nltk_data] Downloading package wordnet to /root/nltk_data...\n",
            "[nltk_data]   Package wordnet is already up-to-date!\n",
            "[nltk_data] Downloading package stopwords to /root/nltk_data...\n",
            "[nltk_data]   Package stopwords is already up-to-date!\n"
          ]
        }
      ]
    },
    {
      "cell_type": "code",
      "source": [
        "import nltk\n",
        "nltk.download('stopwords')\n",
        "from nltk.corpus import stopwords\n",
        "\n",
        "english_stopwords = stopwords.words(\"english\")\n",
        "with open('/content/drive/MyDrive/hasoc/task4/assam/assamese.txt', encoding = 'utf-8') as f:\n",
        "    assam_stopwords = f.readlines()\n",
        "    for i in range(len(assam_stopwords)):\n",
        "        assam_stopwords[i] = re.sub('\\n','', assam_stopwords[i])\n",
        "stopwords = english_stopwords + assam_stopwords"
      ],
      "metadata": {
        "colab": {
          "base_uri": "https://localhost:8080/"
        },
        "id": "B2P3dvgxa-x8",
        "outputId": "d579e630-bcb8-4875-8f82-0600c15f5a4e"
      },
      "execution_count": null,
      "outputs": [
        {
          "output_type": "stream",
          "name": "stderr",
          "text": [
            "[nltk_data] Downloading package stopwords to /root/nltk_data...\n",
            "[nltk_data]   Package stopwords is already up-to-date!\n"
          ]
        }
      ]
    },
    {
      "cell_type": "code",
      "source": [
        "demoji.download_codes()\n",
        "def emo(text):\n",
        "  temp=emoji.demojize(text,delimiters=(\" \",\" \"))\n",
        "  temp=temp.replace(\"_\",\"  \")\n",
        "  return temp"
      ],
      "metadata": {
        "colab": {
          "base_uri": "https://localhost:8080/"
        },
        "id": "KP61_mV0FpEd",
        "outputId": "0a4214eb-6ab1-4c25-db20-d877e9b2c428"
      },
      "execution_count": null,
      "outputs": [
        {
          "output_type": "stream",
          "name": "stderr",
          "text": [
            "<ipython-input-37-e00aa54160fe>:1: FutureWarning: The demoji.download_codes attribute is deprecated and will be removed from demoji in a future version. It is an unused attribute as emoji codes are now distributed directly with the demoji package.\n",
            "  demoji.download_codes()\n"
          ]
        }
      ]
    },
    {
      "cell_type": "code",
      "source": [
        "demoji.download_codes()\n",
        "def emo(text):\n",
        "  try:\n",
        "   temp=emoji.demojize(str(text),delimiters=(\" \",\" \"))\n",
        "   temp=temp.replace(\"_\",\"  \")\n",
        "   return temp\n",
        "  except IndexError:\n",
        "        return \"\""
      ],
      "metadata": {
        "colab": {
          "base_uri": "https://localhost:8080/"
        },
        "id": "YExerUiIFpCB",
        "outputId": "9c861109-1230-4fe7-9a10-5c456ec3c8b2"
      },
      "execution_count": null,
      "outputs": [
        {
          "output_type": "stream",
          "name": "stderr",
          "text": [
            "<ipython-input-38-82a5fb4117d1>:1: FutureWarning: The demoji.download_codes attribute is deprecated and will be removed from demoji in a future version. It is an unused attribute as emoji codes are now distributed directly with the demoji package.\n",
            "  demoji.download_codes()\n"
          ]
        }
      ]
    },
    {
      "cell_type": "code",
      "source": [
        "punct=\"!#$%&\\'()*+,-.’’/:;<=>?@[\\\\]^_`{|}~’“‘\""
      ],
      "metadata": {
        "id": "im0gK8JVFo-5"
      },
      "execution_count": null,
      "outputs": []
    },
    {
      "cell_type": "code",
      "source": [
        "string.punctuation"
      ],
      "metadata": {
        "colab": {
          "base_uri": "https://localhost:8080/",
          "height": 35
        },
        "id": "bIrCTt9rFo74",
        "outputId": "0be5a1a1-1d1e-48ab-fccf-20ee4debd0b8"
      },
      "execution_count": null,
      "outputs": [
        {
          "output_type": "execute_result",
          "data": {
            "text/plain": [
              "'!\"#$%&\\'()*+,-./:;<=>?@[\\\\]^_`{|}~'"
            ],
            "application/vnd.google.colaboratory.intrinsic+json": {
              "type": "string"
            }
          },
          "metadata": {},
          "execution_count": 40
        }
      ]
    },
    {
      "cell_type": "code",
      "source": [
        "def remove_urls(text):\n",
        "    url_pattern = re.compile(r'https?://\\S+|www\\.\\S+')\n",
        "    return url_pattern.sub(r'', str(text))"
      ],
      "metadata": {
        "id": "I1VqZlqSFytZ"
      },
      "execution_count": null,
      "outputs": []
    },
    {
      "cell_type": "code",
      "source": [
        "def clean_text(text):\n",
        "    text = re.sub('@[a-zA-Z0-9]*', '', str(text))#to remove @ and its following word\n",
        "    text = contractions.fix(text, slang=True)\n",
        "    text = \"\".join([word.lower() for word in text if word not in string.punctuation]) #to remove punctuation\n",
        "    text=\"\".join([word.lower() for word in text if word not in punct])\n",
        "    text = \"\".join([word for word in text if not word.isdigit()])#to remove digit\n",
        "    text = \" \".join(word for word in text.split() if word not in stopwords)\n",
        "    return text"
      ],
      "metadata": {
        "id": "jGZk04rmFyoF"
      },
      "execution_count": null,
      "outputs": []
    },
    {
      "cell_type": "code",
      "source": [
        "import pandas as pd"
      ],
      "metadata": {
        "id": "8djmBUajdF1-"
      },
      "execution_count": null,
      "outputs": []
    },
    {
      "cell_type": "code",
      "execution_count": null,
      "metadata": {
        "id": "G3se8x9GSgDL"
      },
      "outputs": [],
      "source": [
        "asa_train=pd.read_csv('/content/drive/MyDrive/hasoc/task4/assam/train_A_AH_HASOC2023.csv')\n",
        "asa_test=pd.read_csv('/content/drive/MyDrive/hasoc/task4/assam/test_A_AH_HASOC2023.csv')"
      ]
    },
    {
      "cell_type": "code",
      "source": [
        "asa_train['task_1'].value_counts()"
      ],
      "metadata": {
        "colab": {
          "base_uri": "https://localhost:8080/"
        },
        "id": "tibMJt_eviga",
        "outputId": "831eccd3-8a58-4044-9b5d-9667f802ed52"
      },
      "execution_count": null,
      "outputs": [
        {
          "output_type": "execute_result",
          "data": {
            "text/plain": [
              "HOF    2347\n",
              "NOT    1689\n",
              "Name: task_1, dtype: int64"
            ]
          },
          "metadata": {},
          "execution_count": 47
        }
      ]
    },
    {
      "cell_type": "code",
      "source": [
        "asa_train.shape,asa_test.shape"
      ],
      "metadata": {
        "colab": {
          "base_uri": "https://localhost:8080/"
        },
        "id": "9NfdNo8J0YAu",
        "outputId": "39d9d7dd-7c6a-4105-d8a7-9e71bf6adca1"
      },
      "execution_count": null,
      "outputs": [
        {
          "output_type": "execute_result",
          "data": {
            "text/plain": [
              "((4036, 3), (1009, 2))"
            ]
          },
          "metadata": {},
          "execution_count": 48
        }
      ]
    },
    {
      "cell_type": "code",
      "source": [
        "asa_train['clean_text'] = asa_train['text'].apply(lambda x:emo(x))\n",
        "asa_train['clean_text'] = asa_train['clean_text'].apply(lambda x:remove_urls(x))\n",
        "asa_train['clean_text'] = asa_train['clean_text'].apply(lambda x:clean_text(x))"
      ],
      "metadata": {
        "id": "uAg8FJS5FyiJ"
      },
      "execution_count": null,
      "outputs": []
    },
    {
      "cell_type": "code",
      "source": [
        "asa_train['clean_text']"
      ],
      "metadata": {
        "colab": {
          "base_uri": "https://localhost:8080/"
        },
        "id": "PKRBnDbw1SBx",
        "outputId": "a7f96592-820f-4555-bcc2-2ac4e0758b76"
      },
      "execution_count": null,
      "outputs": [
        {
          "output_type": "execute_result",
          "data": {
            "text/plain": [
              "0                                                                                                                                      লাগিলে ইযাৰ পৰাই কলি লাগাম\n",
              "1                                                                         আমি গেদা মই গেদা rolling floor laughing rolling floor laughing rolling floor laughing ।\n",
              "2                                      মানুহে যেতিয়া নিজৰ জীৱন টো নিজৰ কাৰণে সমাজৰ কাৰণে দেশৰ কাৰণে পৃথিৱীৰ কাৰণে কিমান মূল্যবান বুজি নাপায় তেতিয়া এনেকুৱা হয়\n",
              "3                                                                                                                   কতি খন কোন দিনা দেখা পাও তাকে বাত চায় আছো মই\n",
              "4       কাপোৰ খন চাইকেল অহা মানুহজনৰ মুখত দলিয়াব লাগেনে বেছেৰাটো গুচি গল সেইকাৰণে বেয়া পায়। rolling floor laughing rolling floor laughing rolling floor laughing\n",
              "                                                                                  ...                                                                            \n",
              "4031                                                                                                                                  কেইদিনমান mosti কৰি আহক গৈ।\n",
              "4032                                                                                                                        তাইক এটা গুলী মাৰি সিপুৰীলৈ পঠাই দিয়ক\n",
              "4033                                                                                                                             এনে গেলা পিক পেলোৱা লোক বহুত আছে\n",
              "4034                                                                                                                                অসমীয়া ভাষা ৰক্ষা কৰিব গেদাই।\n",
              "4035                                                                                                                                                     ওপৰৰ মাল\n",
              "Name: clean_text, Length: 4036, dtype: object"
            ]
          },
          "metadata": {},
          "execution_count": 50
        }
      ]
    },
    {
      "cell_type": "code",
      "source": [
        "asa_test['clean_text'] = asa_test['text'].apply(lambda x:emo(x))\n",
        "asa_test['clean_text'] = asa_test['clean_text'].apply(lambda x:remove_urls(x))\n",
        "asa_test['clean_text'] = asa_test['clean_text'].apply(lambda x:clean_text(x))"
      ],
      "metadata": {
        "id": "IQ27ZJLM1Mqo"
      },
      "execution_count": null,
      "outputs": []
    },
    {
      "cell_type": "code",
      "source": [
        "asa_test['clean_text']"
      ],
      "metadata": {
        "colab": {
          "base_uri": "https://localhost:8080/"
        },
        "id": "1kTq-DyX1X6r",
        "outputId": "192211b7-a915-47b7-de0e-0cfcaac4ed1f"
      },
      "execution_count": null,
      "outputs": [
        {
          "output_type": "execute_result",
          "data": {
            "text/plain": [
              "0                                               তথাপিও ভোট বিজেপিকেই দিয়া হব সিধা কথা লাগিলে ভিক্ষাৰি হম তথাপিও ভোট বিজেপিকেই দিম\n",
              "1                                                                                                মদ খাই নিজৰ কেৰিয়াৰ ধ্বংস কৰিছে।\n",
              "2                                                            বিপ্লৱৰ কাইঁটীয়া পথ ইমান সহজ নহয় বাপুহঁত।সহজলভ্য জীৱন লাগে তোমালোকক\n",
              "3                                                                     ক্লা ফকটীয়া ফাল্টু ঘোঁ‌ৰা চহিচ । কাম নাই ষ্টেচনত ঝাড়ু মাৰ গৈ\n",
              "4       যিয়ে কোচবিহাৰ ৰাজ্যৰ বিৰোধিতা কৰে সি মোগলৰ বংশধৰ কোচবিহাৰ ৰাজ্য হোৱাৰ লগে লগে বস্তুাত ভৰাই ব্ৰহ্মপুত্ৰ নদীত পেলাই দিয়া হব।\n",
              "                                                                   ...                                                            \n",
              "1004                                                                                            ভাই বিয়া চিয়া পাতি আমাক পাহৰি গৈছা\n",
              "1005                                                     সুদুৰ ভাই কোবাট মুৰি আচেলি নেকি মাজোতে জী ভুতোৰ ডোৰে ওলোৱা ভই খুৱাবা নাকি\n",
              "1006                                                                                    চাই পানী নুহুয়া পুখুৰিত জাপ দিবো মন গুইচে\n",
              "1007                                                                                           ত‌‌ই দিনক দিনে কলা কাউৰীটো দৰে গৈছা\n",
              "1008                                                                                                          ভিডিঅ লেজ সুদুৰ ভিআই\n",
              "Name: clean_text, Length: 1009, dtype: object"
            ]
          },
          "metadata": {},
          "execution_count": 52
        }
      ]
    },
    {
      "cell_type": "markdown",
      "source": [
        "Transliteration using libindic"
      ],
      "metadata": {
        "id": "l4cxjgvESptI"
      }
    },
    {
      "cell_type": "code",
      "source": [
        "!git clone https://github.com/libindic/Transliteration.git"
      ],
      "metadata": {
        "colab": {
          "base_uri": "https://localhost:8080/"
        },
        "id": "keyAaYxWD_Y9",
        "outputId": "9a3aacf3-2add-41b4-8183-32c0a07998b7"
      },
      "execution_count": null,
      "outputs": [
        {
          "output_type": "stream",
          "name": "stdout",
          "text": [
            "fatal: destination path 'Transliteration' already exists and is not an empty directory.\n"
          ]
        }
      ]
    },
    {
      "cell_type": "code",
      "source": [
        "pip install --upgrade pip"
      ],
      "metadata": {
        "colab": {
          "base_uri": "https://localhost:8080/"
        },
        "id": "tv1L3DFiD_Vx",
        "outputId": "efff48b5-2f8f-4bc5-a038-6b3a1e94ffb9"
      },
      "execution_count": null,
      "outputs": [
        {
          "output_type": "stream",
          "name": "stdout",
          "text": [
            "Requirement already satisfied: pip in /usr/local/lib/python3.10/dist-packages (23.2.1)\n",
            "\u001b[33mWARNING: Running pip as the 'root' user can result in broken permissions and conflicting behaviour with the system package manager. It is recommended to use a virtual environment instead: https://pip.pypa.io/warnings/venv\u001b[0m\u001b[33m\n",
            "\u001b[0m"
          ]
        }
      ]
    },
    {
      "cell_type": "code",
      "source": [
        "!python -m pip install --user virtualenv"
      ],
      "metadata": {
        "colab": {
          "base_uri": "https://localhost:8080/"
        },
        "id": "xCbYIKsvD_S9",
        "outputId": "f620a488-ef98-4ff6-b017-356b25fbdc99"
      },
      "execution_count": null,
      "outputs": [
        {
          "output_type": "stream",
          "name": "stdout",
          "text": [
            "Collecting virtualenv\n",
            "  Obtaining dependency information for virtualenv from https://files.pythonhosted.org/packages/17/8d/6989e5dcd812520cbf9f31be2b08643ae3a895586601bbab501df8ed6e54/virtualenv-20.24.3-py3-none-any.whl.metadata\n",
            "  Downloading virtualenv-20.24.3-py3-none-any.whl.metadata (4.5 kB)\n",
            "Collecting distlib<1,>=0.3.7 (from virtualenv)\n",
            "  Obtaining dependency information for distlib<1,>=0.3.7 from https://files.pythonhosted.org/packages/43/a0/9ba967fdbd55293bacfc1507f58e316f740a3b231fc00e3d86dc39bc185a/distlib-0.3.7-py2.py3-none-any.whl.metadata\n",
            "  Downloading distlib-0.3.7-py2.py3-none-any.whl.metadata (5.1 kB)\n",
            "Requirement already satisfied: filelock<4,>=3.12.2 in /usr/local/lib/python3.10/dist-packages (from virtualenv) (3.12.2)\n",
            "Requirement already satisfied: platformdirs<4,>=3.9.1 in /usr/local/lib/python3.10/dist-packages (from virtualenv) (3.10.0)\n",
            "Downloading virtualenv-20.24.3-py3-none-any.whl (3.0 MB)\n",
            "\u001b[2K   \u001b[90m━━━━━━━━━━━━━━━━━━━━━━━━━━━━━━━━━━━━━━━━\u001b[0m \u001b[32m3.0/3.0 MB\u001b[0m \u001b[31m9.4 MB/s\u001b[0m eta \u001b[36m0:00:00\u001b[0m\n",
            "\u001b[?25hDownloading distlib-0.3.7-py2.py3-none-any.whl (468 kB)\n",
            "\u001b[2K   \u001b[90m━━━━━━━━━━━━━━━━━━━━━━━━━━━━━━━━━━━━━━━━\u001b[0m \u001b[32m468.9/468.9 kB\u001b[0m \u001b[31m15.9 MB/s\u001b[0m eta \u001b[36m0:00:00\u001b[0m\n",
            "\u001b[?25hInstalling collected packages: distlib, virtualenv\n",
            "\u001b[33m  WARNING: The script virtualenv is installed in '/root/.local/bin' which is not on PATH.\n",
            "  Consider adding this directory to PATH or, if you prefer to suppress this warning, use --no-warn-script-location.\u001b[0m\u001b[33m\n",
            "\u001b[0mSuccessfully installed distlib-0.3.7 virtualenv-20.24.3\n",
            "\u001b[33mWARNING: Running pip as the 'root' user can result in broken permissions and conflicting behaviour with the system package manager. It is recommended to use a virtual environment instead: https://pip.pypa.io/warnings/venv\u001b[0m\u001b[33m\n",
            "\u001b[0m"
          ]
        }
      ]
    },
    {
      "cell_type": "code",
      "source": [
        "!python -m virtualenv env"
      ],
      "metadata": {
        "colab": {
          "base_uri": "https://localhost:8080/"
        },
        "id": "lmNth70YD_P7",
        "outputId": "e3087b42-9113-4024-90ae-d6bbad449aad"
      },
      "execution_count": null,
      "outputs": [
        {
          "output_type": "stream",
          "name": "stdout",
          "text": [
            "created virtual environment CPython3.10.12.final.0-64 in 504ms\n",
            "  creator CPython3Posix(dest=/content/env, clear=False, no_vcs_ignore=False, global=False)\n",
            "  seeder FromAppData(download=False, pip=bundle, setuptools=bundle, wheel=bundle, via=copy, app_data_dir=/root/.local/share/virtualenv)\n",
            "    added seed packages: pip==23.2.1, setuptools==68.0.0, wheel==0.41.1\n",
            "  activators BashActivator,CShellActivator,FishActivator,NushellActivator,PowerShellActivator,PythonActivator\n"
          ]
        }
      ]
    },
    {
      "cell_type": "code",
      "source": [
        "!source env/bin/activate"
      ],
      "metadata": {
        "id": "pVm8HLvOD_NU"
      },
      "execution_count": null,
      "outputs": []
    },
    {
      "cell_type": "code",
      "source": [
        "pwd"
      ],
      "metadata": {
        "colab": {
          "base_uri": "https://localhost:8080/",
          "height": 35
        },
        "id": "Pz5ep-U6D_Kg",
        "outputId": "3d52bf87-b558-4404-a889-eeb04df6fe73"
      },
      "execution_count": null,
      "outputs": [
        {
          "output_type": "execute_result",
          "data": {
            "text/plain": [
              "'/content'"
            ],
            "application/vnd.google.colaboratory.intrinsic+json": {
              "type": "string"
            }
          },
          "metadata": {},
          "execution_count": 57
        }
      ]
    },
    {
      "cell_type": "code",
      "source": [
        "!pip install -r '/content/Transliteration/requirements.txt'"
      ],
      "metadata": {
        "colab": {
          "base_uri": "https://localhost:8080/"
        },
        "id": "vCnpfnZZD_Hk",
        "outputId": "595cd453-dc92-48df-85e8-e1593e962185"
      },
      "execution_count": null,
      "outputs": [
        {
          "output_type": "stream",
          "name": "stdout",
          "text": [
            "Collecting libindic_normalizer (from -r /content/Transliteration/requirements.txt (line 2))\n",
            "  Cloning https://github.com/libindic/normalizer.git to /tmp/pip-install-dirbql00/libindic-normalizer_a75108a22b744bd29b272c07ab55a916\n",
            "  Running command git clone --filter=blob:none --quiet https://github.com/libindic/normalizer.git /tmp/pip-install-dirbql00/libindic-normalizer_a75108a22b744bd29b272c07ab55a916\n",
            "  Resolved https://github.com/libindic/normalizer.git to commit 88447f611e44ddfc9e9c6696650671afc10c25ae\n",
            "  Preparing metadata (setup.py) ... \u001b[?25l\u001b[?25hdone\n",
            "Ignoring repoze.lru: markers 'python_version < \"3\"' don't match your environment\n",
            "Requirement already satisfied: libindic-utils in /usr/local/lib/python3.10/dist-packages (from -r /content/Transliteration/requirements.txt (line 1)) (1.0.3)\n",
            "\u001b[33mWARNING: Running pip as the 'root' user can result in broken permissions and conflicting behaviour with the system package manager. It is recommended to use a virtual environment instead: https://pip.pypa.io/warnings/venv\u001b[0m\u001b[33m\n",
            "\u001b[0m"
          ]
        }
      ]
    },
    {
      "cell_type": "code",
      "source": [
        "!pip install  '/content/Transliteration/.'"
      ],
      "metadata": {
        "colab": {
          "base_uri": "https://localhost:8080/",
          "height": 356
        },
        "id": "XadeOwlZD_Et",
        "outputId": "b7a84eb7-3bee-4cf6-f4d3-c91a499e8d69"
      },
      "execution_count": null,
      "outputs": [
        {
          "output_type": "stream",
          "name": "stdout",
          "text": [
            "Processing ./Transliteration\n",
            "  Preparing metadata (setup.py) ... \u001b[?25l\u001b[?25hdone\n",
            "Building wheels for collected packages: libindic.transliteration\n",
            "  Building wheel for libindic.transliteration (setup.py) ... \u001b[?25l\u001b[?25hdone\n",
            "  Created wheel for libindic.transliteration: filename=libindic.transliteration-0.4.1-py3-none-any.whl size=851872 sha256=881d365b776eec0d3b55688c62758c9dfe75392aef8cbcf582efa0afde27cbb1\n",
            "  Stored in directory: /tmp/pip-ephem-wheel-cache-qqpja8_s/wheels/94/ea/8b/a1558e8a38a7980bb506204694fd26148d79d71167f025eb79\n",
            "Successfully built libindic.transliteration\n",
            "Installing collected packages: libindic.transliteration\n",
            "  Attempting uninstall: libindic.transliteration\n",
            "    Found existing installation: libindic.transliteration 0.4.1\n",
            "    Uninstalling libindic.transliteration-0.4.1:\n",
            "      Successfully uninstalled libindic.transliteration-0.4.1\n",
            "Successfully installed libindic.transliteration-0.4.1\n",
            "\u001b[33mWARNING: Running pip as the 'root' user can result in broken permissions and conflicting behaviour with the system package manager. It is recommended to use a virtual environment instead: https://pip.pypa.io/warnings/venv\u001b[0m\u001b[33m\n",
            "\u001b[0m"
          ]
        },
        {
          "output_type": "display_data",
          "data": {
            "application/vnd.colab-display-data+json": {
              "pip_warning": {
                "packages": [
                  "libindic"
                ]
              }
            }
          },
          "metadata": {}
        }
      ]
    },
    {
      "cell_type": "code",
      "source": [
        "from libindic.transliteration import getInstance"
      ],
      "metadata": {
        "id": "hAE2yAfaD_CE"
      },
      "execution_count": null,
      "outputs": []
    },
    {
      "cell_type": "code",
      "source": [
        "ldata=asa_train.clean_text\n",
        "ldata=ldata.tolist()"
      ],
      "metadata": {
        "id": "F-Egp5zvD-_q"
      },
      "execution_count": null,
      "outputs": []
    },
    {
      "cell_type": "code",
      "source": [
        "ldata=asa_test.clean_text\n",
        "ldata=ldata.tolist()"
      ],
      "metadata": {
        "id": "QpclN8WAPaSG"
      },
      "execution_count": null,
      "outputs": []
    },
    {
      "cell_type": "code",
      "source": [
        "len(ldata)"
      ],
      "metadata": {
        "colab": {
          "base_uri": "https://localhost:8080/"
        },
        "id": "wTREZONhD-8k",
        "outputId": "eaefce1f-3f30-4305-c022-1cce8fe6a696"
      },
      "execution_count": null,
      "outputs": [
        {
          "output_type": "execute_result",
          "data": {
            "text/plain": [
              "1009"
            ]
          },
          "metadata": {},
          "execution_count": 63
        }
      ]
    },
    {
      "cell_type": "code",
      "source": [
        "fin=[]\n",
        "for i in ldata:\n",
        "  t = getInstance()\n",
        "  t_text = t.transliterate(str(i), \"en_IN\")\n",
        "  fin.append(t_text)\n",
        "len(fin)"
      ],
      "metadata": {
        "colab": {
          "base_uri": "https://localhost:8080/"
        },
        "id": "aN4lQ9iID-56",
        "outputId": "08b33e8e-b112-4b5d-f545-1a3546d6a37c"
      },
      "execution_count": null,
      "outputs": [
        {
          "output_type": "execute_result",
          "data": {
            "text/plain": [
              "1009"
            ]
          },
          "metadata": {},
          "execution_count": 64
        }
      ]
    },
    {
      "cell_type": "code",
      "source": [
        "df=pd.DataFrame(fin)\n",
        "df=df.rename(columns={0:'texttranslit'})\n",
        "df.head(20)"
      ],
      "metadata": {
        "colab": {
          "base_uri": "https://localhost:8080/",
          "height": 677
        },
        "id": "GPD7YqVtD-3H",
        "outputId": "e1d4a0ee-d656-45c1-9336-8b558a39f8b9"
      },
      "execution_count": null,
      "outputs": [
        {
          "output_type": "execute_result",
          "data": {
            "text/plain": [
              "                                                                                                                                                                                                  texttranslit\n",
              "0                                                                                                   thathaapio bhoot bijepikei diy഼aa hab sidhaa kathaa laagile bhikshaa൰i ham thathaapio bhoot bijepikei dim \n",
              "1                                                                                                                                                                    mad khaai nij൰ ke൰iy഼aa൰ dhbams k൰ichhe೤ \n",
              "2                                                                                                             bipl൱൰ kaaiഁateey഼aa path imaan sahaj nahay഼ baapuhഁath೤asahajalabhy jee൱an laage thoomaalookak \n",
              "3                                                                                                                         klaa phakateeൟaa phaaltu ghooഁ‌൰aa chahich  ।kaam naai shtechanath jhhaa൜u maa൰ gai \n",
              "4                                                  yiൟe koochabihaa൰ ൰aajy൰ bi൰oodhithaa k൰e si moogal൰ bamsadh൰ koochabihaa൰ ൰aajy hoo൱aa൰ lage lage basthuaath bh൰aai b൰ahmaputh൰ nadeeth pelaai diൟaa hab೤ \n",
              "5                                                                                  sachaakai bhag൱aan൰ aan etaa ൰oop೤ chikiൎasak sakal naathaakile kimaan maanuh൰ mrithyu hal heഁathen bhaa൱ilei bhay഼ laage೤ \n",
              "6                             ethiൟaa keitaa maan ൰aajanaithik dale bhoot൰ sbaarthath hindu dharmaa൱alee look sakalak santhasth k൰ib൰ kaa൰ane aas൰aa aa൰ambh k൰aa yen laagichhe kaam nahab bahuth palam gal  ৷\n",
              "7                                                                                                                                       dh൰m bhagabaan൰ mandi൰ath kih൰ tiketh laage dh൰masthaan ne by൱asaai  ।\n",
              "8                                                                                                             maanuhe ke൱al ke൱al maath൰ etaa l൰aa baa ejanee chhoo൱aalee൰ p൰em൰ kaa൰ane janm g൰ahan k൰e neki \n",
              "9                                                                                                                                                                                  baakee chab yahannaame yaa \n",
              "10                                                                                            aaji meghaalൟamijoo൰aam൰anaagaalendath theoഁalook൰ l൰aa chhoobaalee iam൰aajee maadhyam൰ skulath p൝aasunaa k൰e  ৷\n",
              "11                                                                 kaa൰an eneku൱aa haa൰aameethagabaaj൰ mookh blak k൰aa kibaa yukthi aachhe buli nebhaabooyihethu eidh൰an൰ maanuhak manath ൰akhaa athi j൰u൰ee೤ \n",
              "12  baasth൱ ksheth൰ath aan dal൰ bidhaay഼ak kinaabechaath brihൎ takaa൰ lenaden k൰oothe ʼanikaaʼ mookhaakhan kʼath soolookaai thay഼ ne sey഼aa ʼadu൰neethiʼ nahay഼ ൰aajaneethi൰ei aamsabisesh ʼasuneethiʼ sadris \n",
              "13                                                                                                                                                                    aa൰e buku phaali dekhaale aakou dam hal \n",
              "14                                                                                                                                         p൰eeൟajani൰ kaa൰ane gaichhil chaage೤ nahale ene kaam kooneo nak൰e೤ \n",
              "15                                                                                                                                           b൰ beൟaa kshanath janm g൰ahan k൰ichhil pulich o chu൰൰ kaam k൰e  ।\n",
              "16                                                                                                                                                        lookak thagee khoo൱aa abhyaasathoonoo kenekai e൰e  ।\n",
              "17                                                                                   takaa di chaak൰i laichhe naamath dakth൰ naa൰chh kaam naajaane sihഁath d൰amahaa paal maa൰ichhe uchith thadanth k൰ib laage \n",
              "18                                                                                                                               ch൰akaa൰ee chikiൎasaalൟay thakaa daaഃ naa൰chh kichhumaan sachaai abhad൰aamee \n",
              "19                                                                                kiൟ maan൱eey഼athaa he൰aai gaichhe a samaajath nij൰ briththi daay഼ithb bhaalakai paalan k൰i൱ laage dukh laagichhe sഁachaakai "
            ],
            "text/html": [
              "\n",
              "\n",
              "  <div id=\"df-38abbb59-0464-4e7f-8ecf-25cb32134120\">\n",
              "    <div class=\"colab-df-container\">\n",
              "      <div>\n",
              "<style scoped>\n",
              "    .dataframe tbody tr th:only-of-type {\n",
              "        vertical-align: middle;\n",
              "    }\n",
              "\n",
              "    .dataframe tbody tr th {\n",
              "        vertical-align: top;\n",
              "    }\n",
              "\n",
              "    .dataframe thead th {\n",
              "        text-align: right;\n",
              "    }\n",
              "</style>\n",
              "<table border=\"1\" class=\"dataframe\">\n",
              "  <thead>\n",
              "    <tr style=\"text-align: right;\">\n",
              "      <th></th>\n",
              "      <th>texttranslit</th>\n",
              "    </tr>\n",
              "  </thead>\n",
              "  <tbody>\n",
              "    <tr>\n",
              "      <th>0</th>\n",
              "      <td>thathaapio bhoot bijepikei diy഼aa hab sidhaa kathaa laagile bhikshaa൰i ham thathaapio bhoot bijepikei dim</td>\n",
              "    </tr>\n",
              "    <tr>\n",
              "      <th>1</th>\n",
              "      <td>mad khaai nij൰ ke൰iy഼aa൰ dhbams k൰ichhe೤</td>\n",
              "    </tr>\n",
              "    <tr>\n",
              "      <th>2</th>\n",
              "      <td>bipl൱൰ kaaiഁateey഼aa path imaan sahaj nahay഼ baapuhഁath೤asahajalabhy jee൱an laage thoomaalookak</td>\n",
              "    </tr>\n",
              "    <tr>\n",
              "      <th>3</th>\n",
              "      <td>klaa phakateeൟaa phaaltu ghooഁ‌൰aa chahich  ।kaam naai shtechanath jhhaa൜u maa൰ gai</td>\n",
              "    </tr>\n",
              "    <tr>\n",
              "      <th>4</th>\n",
              "      <td>yiൟe koochabihaa൰ ൰aajy൰ bi൰oodhithaa k൰e si moogal൰ bamsadh൰ koochabihaa൰ ൰aajy hoo൱aa൰ lage lage basthuaath bh൰aai b൰ahmaputh൰ nadeeth pelaai diൟaa hab೤</td>\n",
              "    </tr>\n",
              "    <tr>\n",
              "      <th>5</th>\n",
              "      <td>sachaakai bhag൱aan൰ aan etaa ൰oop೤ chikiൎasak sakal naathaakile kimaan maanuh൰ mrithyu hal heഁathen bhaa൱ilei bhay഼ laage೤</td>\n",
              "    </tr>\n",
              "    <tr>\n",
              "      <th>6</th>\n",
              "      <td>ethiൟaa keitaa maan ൰aajanaithik dale bhoot൰ sbaarthath hindu dharmaa൱alee look sakalak santhasth k൰ib൰ kaa൰ane aas൰aa aa൰ambh k൰aa yen laagichhe kaam nahab bahuth palam gal  ৷</td>\n",
              "    </tr>\n",
              "    <tr>\n",
              "      <th>7</th>\n",
              "      <td>dh൰m bhagabaan൰ mandi൰ath kih൰ tiketh laage dh൰masthaan ne by൱asaai  ।</td>\n",
              "    </tr>\n",
              "    <tr>\n",
              "      <th>8</th>\n",
              "      <td>maanuhe ke൱al ke൱al maath൰ etaa l൰aa baa ejanee chhoo൱aalee൰ p൰em൰ kaa൰ane janm g൰ahan k൰e neki</td>\n",
              "    </tr>\n",
              "    <tr>\n",
              "      <th>9</th>\n",
              "      <td>baakee chab yahannaame yaa</td>\n",
              "    </tr>\n",
              "    <tr>\n",
              "      <th>10</th>\n",
              "      <td>aaji meghaalൟamijoo൰aam൰anaagaalendath theoഁalook൰ l൰aa chhoobaalee iam൰aajee maadhyam൰ skulath p൝aasunaa k൰e  ৷</td>\n",
              "    </tr>\n",
              "    <tr>\n",
              "      <th>11</th>\n",
              "      <td>kaa൰an eneku൱aa haa൰aameethagabaaj൰ mookh blak k൰aa kibaa yukthi aachhe buli nebhaabooyihethu eidh൰an൰ maanuhak manath ൰akhaa athi j൰u൰ee೤</td>\n",
              "    </tr>\n",
              "    <tr>\n",
              "      <th>12</th>\n",
              "      <td>baasth൱ ksheth൰ath aan dal൰ bidhaay഼ak kinaabechaath brihൎ takaa൰ lenaden k൰oothe ʼanikaaʼ mookhaakhan kʼath soolookaai thay഼ ne sey഼aa ʼadu൰neethiʼ nahay഼ ൰aajaneethi൰ei aamsabisesh ʼasuneethiʼ sadris</td>\n",
              "    </tr>\n",
              "    <tr>\n",
              "      <th>13</th>\n",
              "      <td>aa൰e buku phaali dekhaale aakou dam hal</td>\n",
              "    </tr>\n",
              "    <tr>\n",
              "      <th>14</th>\n",
              "      <td>p൰eeൟajani൰ kaa൰ane gaichhil chaage೤ nahale ene kaam kooneo nak൰e೤</td>\n",
              "    </tr>\n",
              "    <tr>\n",
              "      <th>15</th>\n",
              "      <td>b൰ beൟaa kshanath janm g൰ahan k൰ichhil pulich o chu൰൰ kaam k൰e  ।</td>\n",
              "    </tr>\n",
              "    <tr>\n",
              "      <th>16</th>\n",
              "      <td>lookak thagee khoo൱aa abhyaasathoonoo kenekai e൰e  ।</td>\n",
              "    </tr>\n",
              "    <tr>\n",
              "      <th>17</th>\n",
              "      <td>takaa di chaak൰i laichhe naamath dakth൰ naa൰chh kaam naajaane sihഁath d൰amahaa paal maa൰ichhe uchith thadanth k൰ib laage</td>\n",
              "    </tr>\n",
              "    <tr>\n",
              "      <th>18</th>\n",
              "      <td>ch൰akaa൰ee chikiൎasaalൟay thakaa daaഃ naa൰chh kichhumaan sachaai abhad൰aamee</td>\n",
              "    </tr>\n",
              "    <tr>\n",
              "      <th>19</th>\n",
              "      <td>kiൟ maan൱eey഼athaa he൰aai gaichhe a samaajath nij൰ briththi daay഼ithb bhaalakai paalan k൰i൱ laage dukh laagichhe sഁachaakai</td>\n",
              "    </tr>\n",
              "  </tbody>\n",
              "</table>\n",
              "</div>\n",
              "      <button class=\"colab-df-convert\" onclick=\"convertToInteractive('df-38abbb59-0464-4e7f-8ecf-25cb32134120')\"\n",
              "              title=\"Convert this dataframe to an interactive table.\"\n",
              "              style=\"display:none;\">\n",
              "\n",
              "  <svg xmlns=\"http://www.w3.org/2000/svg\" height=\"24px\"viewBox=\"0 0 24 24\"\n",
              "       width=\"24px\">\n",
              "    <path d=\"M0 0h24v24H0V0z\" fill=\"none\"/>\n",
              "    <path d=\"M18.56 5.44l.94 2.06.94-2.06 2.06-.94-2.06-.94-.94-2.06-.94 2.06-2.06.94zm-11 1L8.5 8.5l.94-2.06 2.06-.94-2.06-.94L8.5 2.5l-.94 2.06-2.06.94zm10 10l.94 2.06.94-2.06 2.06-.94-2.06-.94-.94-2.06-.94 2.06-2.06.94z\"/><path d=\"M17.41 7.96l-1.37-1.37c-.4-.4-.92-.59-1.43-.59-.52 0-1.04.2-1.43.59L10.3 9.45l-7.72 7.72c-.78.78-.78 2.05 0 2.83L4 21.41c.39.39.9.59 1.41.59.51 0 1.02-.2 1.41-.59l7.78-7.78 2.81-2.81c.8-.78.8-2.07 0-2.86zM5.41 20L4 18.59l7.72-7.72 1.47 1.35L5.41 20z\"/>\n",
              "  </svg>\n",
              "      </button>\n",
              "\n",
              "\n",
              "\n",
              "    <div id=\"df-0429b3bd-2c13-4ba4-bef1-bdd13eccf66e\">\n",
              "      <button class=\"colab-df-quickchart\" onclick=\"quickchart('df-0429b3bd-2c13-4ba4-bef1-bdd13eccf66e')\"\n",
              "              title=\"Suggest charts.\"\n",
              "              style=\"display:none;\">\n",
              "\n",
              "<svg xmlns=\"http://www.w3.org/2000/svg\" height=\"24px\"viewBox=\"0 0 24 24\"\n",
              "     width=\"24px\">\n",
              "    <g>\n",
              "        <path d=\"M19 3H5c-1.1 0-2 .9-2 2v14c0 1.1.9 2 2 2h14c1.1 0 2-.9 2-2V5c0-1.1-.9-2-2-2zM9 17H7v-7h2v7zm4 0h-2V7h2v10zm4 0h-2v-4h2v4z\"/>\n",
              "    </g>\n",
              "</svg>\n",
              "      </button>\n",
              "    </div>\n",
              "\n",
              "<style>\n",
              "  .colab-df-quickchart {\n",
              "    background-color: #E8F0FE;\n",
              "    border: none;\n",
              "    border-radius: 50%;\n",
              "    cursor: pointer;\n",
              "    display: none;\n",
              "    fill: #1967D2;\n",
              "    height: 32px;\n",
              "    padding: 0 0 0 0;\n",
              "    width: 32px;\n",
              "  }\n",
              "\n",
              "  .colab-df-quickchart:hover {\n",
              "    background-color: #E2EBFA;\n",
              "    box-shadow: 0px 1px 2px rgba(60, 64, 67, 0.3), 0px 1px 3px 1px rgba(60, 64, 67, 0.15);\n",
              "    fill: #174EA6;\n",
              "  }\n",
              "\n",
              "  [theme=dark] .colab-df-quickchart {\n",
              "    background-color: #3B4455;\n",
              "    fill: #D2E3FC;\n",
              "  }\n",
              "\n",
              "  [theme=dark] .colab-df-quickchart:hover {\n",
              "    background-color: #434B5C;\n",
              "    box-shadow: 0px 1px 3px 1px rgba(0, 0, 0, 0.15);\n",
              "    filter: drop-shadow(0px 1px 2px rgba(0, 0, 0, 0.3));\n",
              "    fill: #FFFFFF;\n",
              "  }\n",
              "</style>\n",
              "\n",
              "    <script>\n",
              "      async function quickchart(key) {\n",
              "        const containerElement = document.querySelector('#' + key);\n",
              "        const charts = await google.colab.kernel.invokeFunction(\n",
              "            'suggestCharts', [key], {});\n",
              "      }\n",
              "    </script>\n",
              "\n",
              "      <script>\n",
              "\n",
              "function displayQuickchartButton(domScope) {\n",
              "  let quickchartButtonEl =\n",
              "    domScope.querySelector('#df-0429b3bd-2c13-4ba4-bef1-bdd13eccf66e button.colab-df-quickchart');\n",
              "  quickchartButtonEl.style.display =\n",
              "    google.colab.kernel.accessAllowed ? 'block' : 'none';\n",
              "}\n",
              "\n",
              "        displayQuickchartButton(document);\n",
              "      </script>\n",
              "      <style>\n",
              "    .colab-df-container {\n",
              "      display:flex;\n",
              "      flex-wrap:wrap;\n",
              "      gap: 12px;\n",
              "    }\n",
              "\n",
              "    .colab-df-convert {\n",
              "      background-color: #E8F0FE;\n",
              "      border: none;\n",
              "      border-radius: 50%;\n",
              "      cursor: pointer;\n",
              "      display: none;\n",
              "      fill: #1967D2;\n",
              "      height: 32px;\n",
              "      padding: 0 0 0 0;\n",
              "      width: 32px;\n",
              "    }\n",
              "\n",
              "    .colab-df-convert:hover {\n",
              "      background-color: #E2EBFA;\n",
              "      box-shadow: 0px 1px 2px rgba(60, 64, 67, 0.3), 0px 1px 3px 1px rgba(60, 64, 67, 0.15);\n",
              "      fill: #174EA6;\n",
              "    }\n",
              "\n",
              "    [theme=dark] .colab-df-convert {\n",
              "      background-color: #3B4455;\n",
              "      fill: #D2E3FC;\n",
              "    }\n",
              "\n",
              "    [theme=dark] .colab-df-convert:hover {\n",
              "      background-color: #434B5C;\n",
              "      box-shadow: 0px 1px 3px 1px rgba(0, 0, 0, 0.15);\n",
              "      filter: drop-shadow(0px 1px 2px rgba(0, 0, 0, 0.3));\n",
              "      fill: #FFFFFF;\n",
              "    }\n",
              "  </style>\n",
              "\n",
              "      <script>\n",
              "        const buttonEl =\n",
              "          document.querySelector('#df-38abbb59-0464-4e7f-8ecf-25cb32134120 button.colab-df-convert');\n",
              "        buttonEl.style.display =\n",
              "          google.colab.kernel.accessAllowed ? 'block' : 'none';\n",
              "\n",
              "        async function convertToInteractive(key) {\n",
              "          const element = document.querySelector('#df-38abbb59-0464-4e7f-8ecf-25cb32134120');\n",
              "          const dataTable =\n",
              "            await google.colab.kernel.invokeFunction('convertToInteractive',\n",
              "                                                     [key], {});\n",
              "          if (!dataTable) return;\n",
              "\n",
              "          const docLinkHtml = 'Like what you see? Visit the ' +\n",
              "            '<a target=\"_blank\" href=https://colab.research.google.com/notebooks/data_table.ipynb>data table notebook</a>'\n",
              "            + ' to learn more about interactive tables.';\n",
              "          element.innerHTML = '';\n",
              "          dataTable['output_type'] = 'display_data';\n",
              "          await google.colab.output.renderOutput(dataTable, element);\n",
              "          const docLink = document.createElement('div');\n",
              "          docLink.innerHTML = docLinkHtml;\n",
              "          element.appendChild(docLink);\n",
              "        }\n",
              "      </script>\n",
              "    </div>\n",
              "  </div>\n"
            ]
          },
          "metadata": {},
          "execution_count": 65
        }
      ]
    },
    {
      "cell_type": "code",
      "source": [
        "X_train=asa_train['clean_text']\n",
        "X_test=asa_test['clean_text']\n",
        "y_train=asa_train['task_1']"
      ],
      "metadata": {
        "id": "dCjkV6l_vnIa"
      },
      "execution_count": null,
      "outputs": []
    },
    {
      "cell_type": "code",
      "source": [
        "tfidf_vect = TfidfVectorizer(analyzer='char', ngram_range=(1,3))\n",
        "tfidf_vect.fit(X_train)\n",
        "X_train = tfidf_vect.transform(X_train)\n",
        "X_test = tfidf_vect.transform(X_test)"
      ],
      "metadata": {
        "id": "ZtRmYPZBD-0i"
      },
      "execution_count": null,
      "outputs": []
    },
    {
      "cell_type": "code",
      "source": [
        "from sklearn.svm import SVC\n",
        "svm = SVC()\n",
        "\n",
        "svm .fit(X_train, y_train)\n",
        "\n",
        "y_pred = svm.predict(X_test)\n"
      ],
      "metadata": {
        "id": "tEJDq78Z2UyB"
      },
      "execution_count": null,
      "outputs": []
    },
    {
      "cell_type": "code",
      "source": [
        "#Submission\n",
        "# to create .csv file consisting of tweet ids and predicted labels\n",
        "y_pred_df= pd.DataFrame(data=y_pred, columns=['y_pred'])\n",
        "Submisssion_assam = pd.DataFrame()\n",
        "Submisssion_assam['S. No.'] = asa_test['S. No.']\n",
        "Submisssion_assam['task_1'] = y_pred_df\n",
        "Submisssion_assam.to_csv('/content/drive/MyDrive/MUCS_test_assam__run14.csv',index = None)"
      ],
      "metadata": {
        "id": "_YtgRaFjD-yW"
      },
      "execution_count": null,
      "outputs": []
    },
    {
      "cell_type": "code",
      "source": [
        "from sklearn.model_selection import cross_val_score\n",
        "from sklearn.linear_model import LogisticRegression\n",
        "from sklearn.naive_bayes import BernoulliNB\n",
        "from sklearn.ensemble import VotingClassifier\n",
        "from sklearn.svm import LinearSVC\n",
        "\n",
        "clf1 = LogisticRegression(random_state=1)\n",
        "clf2 = BernoulliNB()\n",
        "clf3 = LinearSVC(penalty='l2',C=1.0)\n",
        "\n",
        "eclf = VotingClassifier(estimators=[('LR', clf1), ('BNB', clf2),\n",
        "('SVC', clf3)], voting='hard')\n",
        "eclf = eclf.fit(X_train, y_train)\n",
        "y_pred1= eclf.predict(X_test)\n",
        "print(y_pred1)"
      ],
      "metadata": {
        "colab": {
          "base_uri": "https://localhost:8080/"
        },
        "id": "EqEI3Su5ftXF",
        "outputId": "bc8d30a1-0c46-4767-bd93-d79de6393ed3"
      },
      "execution_count": null,
      "outputs": [
        {
          "output_type": "stream",
          "name": "stdout",
          "text": [
            "['HOF' 'HOF' 'NOT' ... 'HOF' 'HOF' 'HOF']\n"
          ]
        }
      ]
    },
    {
      "cell_type": "code",
      "source": [
        "#Submission\n",
        "# to create .csv file consisting of tweet ids and predicted labels\n",
        "y_pred_df= pd.DataFrame(data=y_pred1, columns=['y_pred1'])\n",
        "Submisssion_assam = pd.DataFrame()\n",
        "Submisssion_assam['S. No.'] = asa_test['S. No.']\n",
        "Submisssion_assam['task_1'] = y_pred_df\n",
        "Submisssion_assam.to_csv('/content/drive/MyDrive/MUCS_test_asam_run15.csv',index = None)"
      ],
      "metadata": {
        "id": "ZRjp6RnGCeLS"
      },
      "execution_count": null,
      "outputs": []
    }
  ]
}